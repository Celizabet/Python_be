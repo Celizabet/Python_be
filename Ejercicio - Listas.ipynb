{
 "cells": [
  {
   "cell_type": "code",
   "execution_count": 8,
   "id": "a2ba42fe",
   "metadata": {},
   "outputs": [
    {
     "name": "stdout",
     "output_type": "stream",
     "text": [
      "\t.:Carrito de compras:.\n",
      "\n",
      "\n",
      "Productos Disponibles:\n",
      "1.- Pan\n",
      "2.- Jamón\n",
      "3.- Crema\n",
      "4.- Mayonesa\n",
      "5.- Lechuga\n",
      "6.- Mermelada\n",
      "7.- Leche\n",
      "8.- Galletas\n",
      "\n",
      "Ingresa una lista con los productos en este formato: [[Cantidad,Producto]]\n",
      "Por ejemplo: [[1,1], [3,2]] significa 1 Pan y 3 Jamón\n",
      "Ingresa tu lista: [[2,1], [1,2], [2,3], [1,4], [2,5], [3,6], [4,7], [1,8]]\n",
      "\n",
      "\tTu carrito es:\n",
      "2 Pan\n",
      "1 Jamón\n",
      "2 Crema\n",
      "1 Mayonesa\n",
      "2 Lechuga\n",
      "3 Mermelada\n",
      "4 Leche\n",
      "1 Galletas\n"
     ]
    }
   ],
   "source": [
    "print(\"\\t.:Carrito de compras:.\\n\")\n",
    "print(\"\"\"\n",
    "Productos Disponibles:\n",
    "1.- Pan\n",
    "2.- Jamón\n",
    "3.- Crema\n",
    "4.- Mayonesa\n",
    "5.- Lechuga\n",
    "6.- Mermelada\n",
    "7.- Leche\n",
    "8.- Galletas\n",
    "\"\"\")\n",
    "print(\"Ingresa una lista con los productos en este formato: [[Cantidad,Producto]]\")\n",
    "print(\"Por ejemplo: [[1,1], [3,2]] significa 1 Pan y 3 Jamón\" )\n",
    "my_shopping_cart = eval(input(\"Ingresa tu lista: \"))\n",
    "\n",
    "print(\"\\n\\tTu carrito es:\")\n",
    "if type(my_shopping_cart) == list:\n",
    " if type(my_shopping_cart[0]) == list:\n",
    "     for element in my_shopping_cart:\n",
    "         product = \"\"\n",
    "         if element[1] == 1:\n",
    "             product = \"Pan\"\n",
    "         if element[1] == 2:\n",
    "             product = \"Jamón\"\n",
    "         if element[1] == 3:\n",
    "             product = \"Crema\"\n",
    "         if element[1] == 4:\n",
    "             product = \"Mayonesa\"\n",
    "         if element[1] == 5:\n",
    "             product = \"Lechuga\"\n",
    "         if element[1] == 6:\n",
    "             product = \"Mermelada\"\n",
    "         if element[1] == 7:\n",
    "             product = \"Leche\"\n",
    "         if element[1] == 8:\n",
    "             product = \"Galletas\"\n",
    "         print(\"{} {}\".format(element[0], product))\n",
    " else:\n",
    "     print(\"Formato incorrecto, debes ingresar una lista de listas\")\n",
    "else:\n",
    "     print(\"Formato incorrecto, debes ingresar una lista de listas\")"
   ]
  },
  {
   "cell_type": "code",
   "execution_count": null,
   "id": "2e1a51b6",
   "metadata": {},
   "outputs": [],
   "source": []
  }
 ],
 "metadata": {
  "kernelspec": {
   "display_name": "Python 3 (ipykernel)",
   "language": "python",
   "name": "python3"
  },
  "language_info": {
   "codemirror_mode": {
    "name": "ipython",
    "version": 3
   },
   "file_extension": ".py",
   "mimetype": "text/x-python",
   "name": "python",
   "nbconvert_exporter": "python",
   "pygments_lexer": "ipython3",
   "version": "3.10.9"
  }
 },
 "nbformat": 4,
 "nbformat_minor": 5
}
