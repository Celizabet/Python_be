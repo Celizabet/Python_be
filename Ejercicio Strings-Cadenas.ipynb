{
 "cells": [
  {
   "cell_type": "code",
   "execution_count": 9,
   "id": "101fcc2e",
   "metadata": {},
   "outputs": [
    {
     "name": "stdout",
     "output_type": "stream",
     "text": [
      "Escribe tu opinión acerca del producto: el producto es bueno pero creo que pueden mejorarlo \n",
      "\n",
      "\t.:Analizador de Sentimientos:.\n",
      "Opinion: el producto es bueno pero creo que pueden mejorarlo  \n",
      "Score: 4 \n",
      "Result: Neutral\n"
     ]
    }
   ],
   "source": [
    "opinion = input(\"Escribe tu opinión acerca del producto: \")\n",
    "\n",
    "positive = [\"muy bueno\",\"bueno\",\"excelente\",\"maravilloso\",\"económico\",\"perfecto\"\n",
    "            \"buena calidad\",\"justo\",\"precio justo\",\"bonito\",\"novedoso\",\"útil\"]\n",
    "neutral = [\"bueno\",\"pero\",\"caro\",\"un poco\",\"no lo suficiente\",\"falta\",\"faltó\"\n",
    "          \"deberían\",\"estaría\",\"pueden\",\"mejorar\"]\n",
    "negative = [\"malo\",\"pésimo\",\"muy malo\",\"caro\",\"demasiado caro\",\"mala calidad\",\"corriente\"\n",
    "           \"injusto\",\"tardado\",\"lento\",\"defectuoso\",\"horrible\",\"copia\",\"común\"]\n",
    "\n",
    "scorep = 0\n",
    "for pword in positive:\n",
    "    scorep = scorep + opinion.count(pword)\n",
    "\n",
    "score_neu = 0\n",
    "for neu_word in neutral:\n",
    "    score_neu = score_neu + opinion.count(neu_word)\n",
    "    \n",
    "score_neg = 0\n",
    "for negword in negative:\n",
    "    score_neg = score_neg + opinion.count(negword)\n",
    "    \n",
    "if scorep > score_neu and scorep > score_neg:\n",
    "    result = \"Positive\"\n",
    "    print(\"\\n\\t.:Analizador de Sentimientos:.\")\n",
    "    score = scorep\n",
    "    print(\"Opinion: {} \\nScore: {} \\nResult: {}\".format(opinion,score,result))\n",
    "\n",
    "if score_neu > scorep and score_neu > score_neg:\n",
    "    result = \"Neutral\"\n",
    "    print(\"\\n\\t.:Analizador de Sentimientos:.\")\n",
    "    score = score_neu\n",
    "    print(\"Opinion: {} \\nScore: {} \\nResult: {}\".format(opinion,score,result))\n",
    "    \n",
    "if score_neg > scorep and score_neg > score_neu:\n",
    "    result = \"Negative\"\n",
    "    print(\"\\n\\t.:Analizador de Sentimientos:.\")\n",
    "    score = score_neg\n",
    "    print(\"Opinion: {} \\nScore: {} \\nResult: {}\".format(opinion,score,result))\n"
   ]
  },
  {
   "cell_type": "code",
   "execution_count": null,
   "id": "6c1c1899",
   "metadata": {},
   "outputs": [],
   "source": []
  }
 ],
 "metadata": {
  "kernelspec": {
   "display_name": "Python 3 (ipykernel)",
   "language": "python",
   "name": "python3"
  },
  "language_info": {
   "codemirror_mode": {
    "name": "ipython",
    "version": 3
   },
   "file_extension": ".py",
   "mimetype": "text/x-python",
   "name": "python",
   "nbconvert_exporter": "python",
   "pygments_lexer": "ipython3",
   "version": "3.10.9"
  }
 },
 "nbformat": 4,
 "nbformat_minor": 5
}
