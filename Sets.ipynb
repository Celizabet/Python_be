{
 "cells": [
  {
   "cell_type": "markdown",
   "id": "05965b29",
   "metadata": {},
   "source": [
    "## Creación y modificación de sets"
   ]
  },
  {
   "cell_type": "code",
   "execution_count": 1,
   "id": "2ac1a172",
   "metadata": {},
   "outputs": [
    {
     "name": "stdout",
     "output_type": "stream",
     "text": [
      "<class 'set'>\n",
      "1\n",
      "{'python'}\n"
     ]
    }
   ],
   "source": [
    "my_set = set()\n",
    "my_set.add(\"python\")\n",
    "\n",
    "print(type(my_set))\n",
    "print(len(my_set))\n",
    "print(my_set)"
   ]
  },
  {
   "cell_type": "code",
   "execution_count": 3,
   "id": "d2ad6553",
   "metadata": {},
   "outputs": [
    {
     "name": "stdout",
     "output_type": "stream",
     "text": [
      "<class 'set'>\n",
      "4\n",
      "{'backend', 'python', 3.1416, 23}\n"
     ]
    }
   ],
   "source": [
    "my_set = set()\n",
    "my_set.add(\"python\")\n",
    "my_set.update((23,\"backend\",3.1416)) #varios tipos de datos\n",
    "\n",
    "print(type(my_set))\n",
    "print(len(my_set))\n",
    "print(my_set)"
   ]
  },
  {
   "cell_type": "code",
   "execution_count": 5,
   "id": "ab16bbaf",
   "metadata": {},
   "outputs": [
    {
     "name": "stdout",
     "output_type": "stream",
     "text": [
      "{'p', 23}\n",
      "<class 'set'>\n"
     ]
    }
   ],
   "source": [
    "my_set = {\"p\",23}\n",
    "print(my_set)\n",
    "print(type(my_set))"
   ]
  },
  {
   "cell_type": "code",
   "execution_count": 7,
   "id": "f869b430",
   "metadata": {},
   "outputs": [
    {
     "name": "stdout",
     "output_type": "stream",
     "text": [
      "3\n",
      "{'python', 3.1416, 23}\n"
     ]
    }
   ],
   "source": [
    "my_set = {\"python\",23, 3.1416}\n",
    "my_set.add(\"python\")\n",
    "\n",
    "print(len(my_set))\n",
    "print(my_set) #imprime el set sin duplicar valores"
   ]
  },
  {
   "cell_type": "markdown",
   "id": "ef919316",
   "metadata": {},
   "source": [
    "## Métodos para la manipulación de sets\n",
    "### add\n",
    "Agrega un elemento a un set"
   ]
  },
  {
   "cell_type": "code",
   "execution_count": 8,
   "id": "d3775057",
   "metadata": {},
   "outputs": [
    {
     "name": "stdout",
     "output_type": "stream",
     "text": [
      "<class 'set'>\n",
      "4\n",
      "{1, 11, 5, 23}\n"
     ]
    }
   ],
   "source": [
    "my_set = {1, 5, 11, 23}\n",
    "print(type(my_set))\n",
    "print(len(my_set))\n",
    "print(my_set)"
   ]
  },
  {
   "cell_type": "code",
   "execution_count": 13,
   "id": "a14e4c11",
   "metadata": {},
   "outputs": [
    {
     "name": "stdout",
     "output_type": "stream",
     "text": [
      "{1, 2, 5, 11, 15, 23}\n",
      "6\n"
     ]
    }
   ],
   "source": [
    "my_set.add(1)\n",
    "my_set.add(2)\n",
    "my_set.add(15)\n",
    "my_set.add(11)\n",
    "print(my_set)\n",
    "print(len(my_set))"
   ]
  },
  {
   "cell_type": "markdown",
   "id": "799e4d7a",
   "metadata": {},
   "source": [
    "### clear()\n",
    "Remueve todos los elementos del set"
   ]
  },
  {
   "cell_type": "code",
   "execution_count": 14,
   "id": "174b362d",
   "metadata": {},
   "outputs": [
    {
     "name": "stdout",
     "output_type": "stream",
     "text": [
      "<class 'set'>\n",
      "4\n",
      "{1, 11, 5, 23}\n",
      "<class 'set'>\n",
      "0\n",
      "set()\n"
     ]
    }
   ],
   "source": [
    "my_set = {1, 5, 11, 23}\n",
    "print(type(my_set))\n",
    "print(len(my_set))\n",
    "print(my_set)\n",
    "\n",
    "my_set.clear()\n",
    "print(type(my_set))\n",
    "print(len(my_set))\n",
    "print(my_set) #los sets no mantienen el orden de los datos"
   ]
  },
  {
   "cell_type": "markdown",
   "id": "1e511f35",
   "metadata": {},
   "source": [
    "### copy\n",
    "Copia los elementos en un nuevo set"
   ]
  },
  {
   "cell_type": "code",
   "execution_count": 2,
   "id": "e6af836e",
   "metadata": {},
   "outputs": [
    {
     "name": "stdout",
     "output_type": "stream",
     "text": [
      "<class 'set'>\n",
      "4\n",
      "{1, 11, 5, 23} \n",
      "\n",
      "<class 'set'>\n",
      "4\n",
      "{1, 11, 5, 23}\n"
     ]
    }
   ],
   "source": [
    "my_set = {1,5,11,23}\n",
    "my_set_2 = my_set.copy()\n",
    "\n",
    "print(type(my_set))\n",
    "print(len(my_set))\n",
    "print(my_set,\"\\n\")\n",
    "\n",
    "print(type(my_set_2))\n",
    "print(len(my_set_2))\n",
    "print(my_set_2)"
   ]
  },
  {
   "cell_type": "markdown",
   "id": "70339fdd",
   "metadata": {},
   "source": [
    "### difference()\n",
    "Obtiene los valores presentes en el primer set y faltantes en el segundo set"
   ]
  },
  {
   "cell_type": "code",
   "execution_count": 3,
   "id": "ddb88025",
   "metadata": {},
   "outputs": [
    {
     "name": "stdout",
     "output_type": "stream",
     "text": [
      "{8, 2, 4, 6}\n",
      "{9, 3, 5}\n"
     ]
    }
   ],
   "source": [
    "set_a = {1, 3, 5, 7, 9}\n",
    "set_b = {1, 2, 4, 6, 7, 8}\n",
    "\n",
    "#valores que están en set_b faltantes en set_a\n",
    "print(set_b.difference(set_a))\n",
    "\n",
    "#valores que están en set_a faltantes en set_b\n",
    "print(set_a.difference(set_b))"
   ]
  },
  {
   "cell_type": "markdown",
   "id": "3a37663b",
   "metadata": {},
   "source": [
    "### difference_update\n",
    "Conserva solo los valores diferentes entre el set solicitado y el que es enviado como parámetro"
   ]
  },
  {
   "cell_type": "code",
   "execution_count": 5,
   "id": "bf4feb7d",
   "metadata": {},
   "outputs": [
    {
     "name": "stdout",
     "output_type": "stream",
     "text": [
      "{2, 4, 6, 8}\n",
      "{1, 3, 5, 7, 9}\n"
     ]
    }
   ],
   "source": [
    "set_a = {1, 3, 5, 7, 9}\n",
    "set_b = {1, 2, 4, 6, 7, 8}\n",
    "\n",
    "#desaparecen los valores anteriores y asignan los valores faltantes\n",
    "set_b.difference_update(set_a)\n",
    "print(set_b)\n",
    "\n",
    "#ya no se realiza ningún cambio porque set_b ya tiene los valores que eran diferentes\n",
    "set_a.difference_update(set_b)\n",
    "print(set_a)"
   ]
  },
  {
   "cell_type": "code",
   "execution_count": 6,
   "id": "5b634d61",
   "metadata": {},
   "outputs": [
    {
     "name": "stdout",
     "output_type": "stream",
     "text": [
      "{3, 5, 9}\n",
      "{1, 2, 4, 6, 7, 8}\n"
     ]
    }
   ],
   "source": [
    "set_a = {1, 3, 5, 7, 9}\n",
    "set_b = {1, 2, 4, 6, 7, 8}\n",
    "\n",
    "#desaparecen los valores anteriores y asignan los valores faltantes\n",
    "set_a.difference_update(set_b)\n",
    "print(set_a)\n",
    "\n",
    "#ya no se realiza ningún cambio porque set_a ya tiene los valores que eran diferentes\n",
    "set_b.difference_update(set_a)\n",
    "print(set_b)"
   ]
  },
  {
   "cell_type": "markdown",
   "id": "f133264c",
   "metadata": {},
   "source": [
    "### discard\n",
    "Elimina un elemento del set si está presente"
   ]
  },
  {
   "cell_type": "code",
   "execution_count": 9,
   "id": "bb02f97a",
   "metadata": {},
   "outputs": [
    {
     "name": "stdout",
     "output_type": "stream",
     "text": [
      "<class 'set'>\n",
      "4\n",
      "{'Scals', 'Javascript', 'Go', 'Python'} \n",
      "\n",
      "<class 'set'>\n",
      "3\n",
      "{'Scals', 'Javascript', 'Python'} \n",
      "\n",
      "<class 'set'>\n",
      "3\n",
      "{'Scals', 'Javascript', 'Python'} \n",
      "\n"
     ]
    }
   ],
   "source": [
    "my_set = {\"Python\",\"Javascript\",\"Go\",\"Scals\"}\n",
    "print(type(my_set))\n",
    "print(len(my_set))\n",
    "print(my_set,\"\\n\")\n",
    "\n",
    "my_set.discard(\"Go\")\n",
    "print(type(my_set))\n",
    "print(len(my_set))\n",
    "print(my_set,\"\\n\")\n",
    "\n",
    "#no importa que el valor no esté presente\n",
    "my_set.discard(\"test\")\n",
    "print(type(my_set))\n",
    "print(len(my_set))\n",
    "print(my_set,\"\\n\")"
   ]
  },
  {
   "cell_type": "markdown",
   "id": "ed843d61",
   "metadata": {},
   "source": [
    "### intersection\n",
    "Obtiene los valores en común de 2 sets"
   ]
  },
  {
   "cell_type": "code",
   "execution_count": 11,
   "id": "5c4efd85",
   "metadata": {},
   "outputs": [
    {
     "name": "stdout",
     "output_type": "stream",
     "text": [
      "{1, 7}\n",
      "{1, 7}\n"
     ]
    }
   ],
   "source": [
    "set_a = {1,3,5,7,9}\n",
    "set_b = {1,2,4,6,7,8}\n",
    "\n",
    "print(set_a.intersection(set_b))\n",
    "print(set_b.intersection(set_a))"
   ]
  },
  {
   "cell_type": "markdown",
   "id": "4d9aebd6",
   "metadata": {},
   "source": [
    "### intersection_update()\n",
    "Obtiene los valores en común de 2 sets y los aisgna al set que manda llamar al método"
   ]
  },
  {
   "cell_type": "code",
   "execution_count": 14,
   "id": "7dbe8142",
   "metadata": {},
   "outputs": [
    {
     "name": "stdout",
     "output_type": "stream",
     "text": [
      "<class 'set'>\n",
      "2\n",
      "{1, 7} \n",
      "\n",
      "<class 'set'>\n",
      "6\n",
      "{1, 2, 4, 6, 7, 8}\n"
     ]
    }
   ],
   "source": [
    "set_a = {1,3,5,7,9}\n",
    "set_b = {1,2,4,6,7,8}\n",
    "\n",
    "set_a.intersection_update(set_b)\n",
    "print(type(set_a))\n",
    "print(len(set_a))\n",
    "print(set_a,\"\\n\")\n",
    "\n",
    "print(type(set_b))\n",
    "print(len(set_b))\n",
    "print(set_b)"
   ]
  },
  {
   "cell_type": "markdown",
   "id": "90655e07",
   "metadata": {},
   "source": [
    "### isdisjoint\n",
    "Regresa True si no hay valores compartidos por ambos sets y regresa False si hay por lo menos un valor compartido por ambos sets"
   ]
  },
  {
   "cell_type": "code",
   "execution_count": 15,
   "id": "d689aeeb",
   "metadata": {},
   "outputs": [
    {
     "name": "stdout",
     "output_type": "stream",
     "text": [
      "False\n"
     ]
    }
   ],
   "source": [
    "set_a = {1,3,5,7,9}\n",
    "set_b = {1,2,4,6,7,8}\n",
    "\n",
    "print(set_a.isdisjoint(set_b))"
   ]
  },
  {
   "cell_type": "code",
   "execution_count": 16,
   "id": "24bc6243",
   "metadata": {},
   "outputs": [
    {
     "name": "stdout",
     "output_type": "stream",
     "text": [
      "True\n"
     ]
    }
   ],
   "source": [
    "set_a = {5,3,0}\n",
    "set_b = {1,2,4,6,7,8}\n",
    "\n",
    "print(set_a.isdisjoint(set_b))"
   ]
  },
  {
   "cell_type": "markdown",
   "id": "72c956f2",
   "metadata": {},
   "source": [
    "### issubset\n",
    "True: si todos los valores del set llamado están en el set pasado como parámetros"
   ]
  },
  {
   "cell_type": "code",
   "execution_count": 18,
   "id": "89b67599",
   "metadata": {},
   "outputs": [
    {
     "name": "stdout",
     "output_type": "stream",
     "text": [
      "True\n"
     ]
    }
   ],
   "source": [
    "set_a = {1,8}\n",
    "set_b = {1,2,4,6,7,8}\n",
    "#es acaso set_a un subset de sub_b\n",
    "print(set_a.issubset(set_b))"
   ]
  },
  {
   "cell_type": "code",
   "execution_count": 19,
   "id": "bb6d5a06",
   "metadata": {},
   "outputs": [
    {
     "name": "stdout",
     "output_type": "stream",
     "text": [
      "False\n"
     ]
    }
   ],
   "source": [
    "set_a = {1,3,8}\n",
    "set_b = {1,2,4,6,7,8}\n",
    "#valida que los elementos de un set estén contenidos en otro set\n",
    "print(set_a.issubset(set_b))"
   ]
  },
  {
   "cell_type": "markdown",
   "id": "1766956a",
   "metadata": {},
   "source": [
    "### issuperset\n",
    "Opuesto a issubset\n",
    "Analiza si todos los valores del set pasado están como parámetros del set llamado"
   ]
  },
  {
   "cell_type": "code",
   "execution_count": 21,
   "id": "9d82b53f",
   "metadata": {},
   "outputs": [
    {
     "name": "stdout",
     "output_type": "stream",
     "text": [
      "True\n"
     ]
    }
   ],
   "source": [
    "set_a = {1,8}\n",
    "set_b = {1,2,4,6,7,8}\n",
    "\n",
    "print(set_b.issuperset(set_a))"
   ]
  },
  {
   "cell_type": "code",
   "execution_count": 22,
   "id": "e031ce5d",
   "metadata": {},
   "outputs": [
    {
     "name": "stdout",
     "output_type": "stream",
     "text": [
      "False\n"
     ]
    }
   ],
   "source": [
    "set_a = {1,3,8}\n",
    "set_b = {1,2,4,6,7,8}\n",
    "\n",
    "print(set_b.issuperset(set_a))"
   ]
  },
  {
   "cell_type": "markdown",
   "id": "08365bc6",
   "metadata": {},
   "source": [
    "### pop\n",
    "Elimina el primer elemento del set\n"
   ]
  },
  {
   "cell_type": "code",
   "execution_count": 23,
   "id": "fbb79b61",
   "metadata": {},
   "outputs": [
    {
     "name": "stdout",
     "output_type": "stream",
     "text": [
      "<class 'set'>\n",
      "6\n",
      "{1, 2, 4, 6, 7, 8} \n",
      "\n",
      "1\n",
      "2\n",
      "4 \n",
      "\n",
      "<class 'set'>\n",
      "3\n",
      "{6, 7, 8}\n"
     ]
    }
   ],
   "source": [
    "my_set = {1,2,4,6,7,8}\n",
    "print(type(my_set))\n",
    "print(len(my_set))\n",
    "print(my_set,\"\\n\")\n",
    "\n",
    "print(my_set.pop())\n",
    "print(my_set.pop())\n",
    "print(my_set.pop(),\"\\n\")\n",
    "\n",
    "print(type(my_set))\n",
    "print(len(my_set))\n",
    "print(my_set)"
   ]
  },
  {
   "cell_type": "markdown",
   "id": "4498eba5",
   "metadata": {},
   "source": [
    "### remove\n",
    "Elimina el elemento pasado como parámetro, debe estar presente en el set o Python marcará un error"
   ]
  },
  {
   "cell_type": "code",
   "execution_count": 24,
   "id": "5657966a",
   "metadata": {},
   "outputs": [
    {
     "name": "stdout",
     "output_type": "stream",
     "text": [
      "<class 'set'>\n",
      "6\n",
      "{1, 2, 4, 6, 7, 8} \n",
      "\n",
      "<class 'set'>\n",
      "5\n",
      "{1, 2, 6, 7, 8} \n",
      "\n"
     ]
    }
   ],
   "source": [
    "my_set = {1,2,4,6,7,8}\n",
    "print(type(my_set))\n",
    "print(len(my_set))\n",
    "print(my_set,\"\\n\")\n",
    "\n",
    "my_set.remove(4)\n",
    "print(type(my_set))\n",
    "print(len(my_set))\n",
    "print(my_set,\"\\n\")"
   ]
  },
  {
   "cell_type": "markdown",
   "id": "c92ccf01",
   "metadata": {},
   "source": [
    "### union()\n",
    "Combina 2 sets"
   ]
  },
  {
   "cell_type": "code",
   "execution_count": 25,
   "id": "ede998a2",
   "metadata": {},
   "outputs": [
    {
     "name": "stdout",
     "output_type": "stream",
     "text": [
      "{1, 2, 3, 4, 6, 7, 8}\n"
     ]
    }
   ],
   "source": [
    "set_a = {1,3,8}\n",
    "set_b = {1,2,4,6,7,8}\n",
    "\n",
    "set_c = set_a.union(set_b)\n",
    "print(set_c)"
   ]
  },
  {
   "cell_type": "markdown",
   "id": "a09d31be",
   "metadata": {},
   "source": [
    "### update\n",
    "Añade los valores del set pasado como parámetro al set llamado"
   ]
  },
  {
   "cell_type": "code",
   "execution_count": 27,
   "id": "ce503e05",
   "metadata": {},
   "outputs": [
    {
     "name": "stdout",
     "output_type": "stream",
     "text": [
      "{1, 2, 3, 4, 6, 7, 8}\n",
      "{1, 2, 4, 6, 7, 8}\n"
     ]
    }
   ],
   "source": [
    "set_a = {1,3,8}\n",
    "set_b = {1,2,4,6,7,8}\n",
    "\n",
    "set_a.update(set_b)\n",
    "print(set_a) #no se declara una nueva variable\n",
    "print(set_b) #qeuda intacto"
   ]
  },
  {
   "cell_type": "markdown",
   "id": "475a3cb9",
   "metadata": {},
   "source": [
    "### symmetric_difference()\n",
    "Obtiene las diferencias en ambos sets"
   ]
  },
  {
   "cell_type": "code",
   "execution_count": 31,
   "id": "ebb819a5",
   "metadata": {},
   "outputs": [
    {
     "name": "stdout",
     "output_type": "stream",
     "text": [
      "{2, 3, 4, 6, 7}\n",
      "{2, 3, 4, 6, 7}\n"
     ]
    }
   ],
   "source": [
    "set_a = {1,3,8}\n",
    "set_b = {1,2,4,6,7,8}\n",
    "\n",
    "print(set_a.symmetric_difference(set_b))\n",
    "print(set_b.symmetric_difference(set_a))"
   ]
  },
  {
   "cell_type": "markdown",
   "id": "95a54692",
   "metadata": {},
   "source": [
    "### symmetric_difference_update()\n",
    "Obtiene las diferencias de ambos sets y los valores se asignan al set que hace el llamado"
   ]
  },
  {
   "cell_type": "code",
   "execution_count": 33,
   "id": "ceb37992",
   "metadata": {},
   "outputs": [
    {
     "name": "stdout",
     "output_type": "stream",
     "text": [
      "{2, 3, 4, 6, 7}\n",
      "{1, 2, 4, 6, 7, 8}\n"
     ]
    }
   ],
   "source": [
    "set_a = {1,3,8}\n",
    "set_b = {1,2,4,6,7,8}\n",
    "\n",
    "set_a.symmetric_difference_update(set_b)\n",
    "print(set_a)\n",
    "print(set_b)"
   ]
  },
  {
   "cell_type": "markdown",
   "id": "6eecdb61",
   "metadata": {},
   "source": [
    "## Conversión de Sets\n",
    "\n",
    "### Cadena a Set"
   ]
  },
  {
   "cell_type": "code",
   "execution_count": 36,
   "id": "b2104830",
   "metadata": {},
   "outputs": [
    {
     "name": "stdout",
     "output_type": "stream",
     "text": [
      "<class 'str'>\n",
      "Backend Python \n",
      "\n",
      "<class 'set'>\n",
      "{'e', 'h', 'a', 'n', 'c', 't', 'd', 'P', 'B', 'y', ' ', 'k', 'o'}\n"
     ]
    }
   ],
   "source": [
    "my_string = \"Backend Python\"\n",
    "my_set =set(my_string)\n",
    "\n",
    "print(type(my_string))\n",
    "print(my_string, \"\\n\")\n",
    "\n",
    "print(type(my_set))\n",
    "print(my_set)"
   ]
  },
  {
   "cell_type": "markdown",
   "id": "aa17a9e6",
   "metadata": {},
   "source": [
    "### Lista a Set"
   ]
  },
  {
   "cell_type": "code",
   "execution_count": 37,
   "id": "99ef2c27",
   "metadata": {},
   "outputs": [
    {
     "name": "stdout",
     "output_type": "stream",
     "text": [
      "<class 'list'>\n",
      "[1, 1, 1, 2, 2, 2, 3, 3, 4, 4, 4, 4, 5] \n",
      "\n",
      "<class 'set'>\n",
      "{1, 2, 3, 4, 5}\n"
     ]
    }
   ],
   "source": [
    "my_list = [1,1,1,2,2,2,3,3,4,4,4,4,5]\n",
    "my_set = set(my_list)\n",
    "\n",
    "print(type(my_list))\n",
    "print(my_list,\"\\n\")\n",
    "print(type(my_set))\n",
    "print(my_set)"
   ]
  },
  {
   "cell_type": "markdown",
   "id": "e98057d5",
   "metadata": {},
   "source": [
    "### Tupla a Set"
   ]
  },
  {
   "cell_type": "code",
   "execution_count": 38,
   "id": "2b66a0bc",
   "metadata": {},
   "outputs": [
    {
     "name": "stdout",
     "output_type": "stream",
     "text": [
      "<class 'tuple'>\n",
      "(1, 1, 1, 2, 2, 2, 3, 3, 4, 4, 4, 4, 5) \n",
      "\n",
      "<class 'set'>\n",
      "{1, 2, 3, 4, 5}\n"
     ]
    }
   ],
   "source": [
    "my_tuple = (1,1,1,2,2,2,3,3,4,4,4,4,5)\n",
    "my_set = set(my_tuple)\n",
    "\n",
    "print(type(my_tuple))\n",
    "print(my_tuple,\"\\n\")\n",
    "\n",
    "print(type(my_set))\n",
    "print(my_set)"
   ]
  },
  {
   "cell_type": "markdown",
   "id": "8aafe891",
   "metadata": {},
   "source": [
    "### Set a Cadena"
   ]
  },
  {
   "cell_type": "code",
   "execution_count": 40,
   "id": "ed567af3",
   "metadata": {},
   "outputs": [
    {
     "name": "stdout",
     "output_type": "stream",
     "text": [
      "<class 'set'>\n",
      "{'e', 'h', 'a', 'n', 'c', 't', 'd', 'P', 'B', 'y', ' ', 'k', 'o'} \n",
      "\n",
      "<class 'str'>\n",
      "ehanctdPBy ko\n"
     ]
    }
   ],
   "source": [
    "my_set = {'e', 'h', 'a', 'n', 'c', 't', 'd', 'P', 'B', 'y', ' ', 'k', 'o'}\n",
    "my_string = \"\".join(my_set)\n",
    "\n",
    "print(type(my_set))\n",
    "print(my_set, \"\\n\")\n",
    "print(type(my_string))\n",
    "print(my_string)"
   ]
  },
  {
   "cell_type": "markdown",
   "id": "890dae4f",
   "metadata": {},
   "source": [
    "### Set a Lista"
   ]
  },
  {
   "cell_type": "code",
   "execution_count": 41,
   "id": "da1dd8a6",
   "metadata": {},
   "outputs": [
    {
     "name": "stdout",
     "output_type": "stream",
     "text": [
      "<class 'set'>\n",
      "{1, 2, 3, 4, 5} \n",
      "\n",
      "<class 'list'>\n",
      "[1, 2, 3, 4, 5]\n"
     ]
    }
   ],
   "source": [
    "my_set = {1, 2, 3, 4, 5}\n",
    "my_list = list(my_set)\n",
    "\n",
    "print(type(my_set))\n",
    "print(my_set,\"\\n\")\n",
    "print(type(my_list))\n",
    "print(my_list)"
   ]
  },
  {
   "cell_type": "markdown",
   "id": "cd13d330",
   "metadata": {},
   "source": [
    "### Set a Tupla\n"
   ]
  },
  {
   "cell_type": "code",
   "execution_count": 42,
   "id": "739eef49",
   "metadata": {},
   "outputs": [
    {
     "name": "stdout",
     "output_type": "stream",
     "text": [
      "<class 'set'>\n",
      "{1, 2, 3, 4, 5} \n",
      "\n",
      "<class 'tuple'>\n",
      "(1, 2, 3, 4, 5)\n"
     ]
    }
   ],
   "source": [
    "my_set = {1, 2, 3, 4, 5}\n",
    "my_tuple = tuple(my_set)\n",
    "\n",
    "print(type(my_set))\n",
    "print(my_set,\"\\n\")\n",
    "print(type(my_tuple))\n",
    "print(my_tuple)"
   ]
  },
  {
   "cell_type": "code",
   "execution_count": null,
   "id": "1d8cad5d",
   "metadata": {},
   "outputs": [],
   "source": []
  }
 ],
 "metadata": {
  "kernelspec": {
   "display_name": "Python 3 (ipykernel)",
   "language": "python",
   "name": "python3"
  },
  "language_info": {
   "codemirror_mode": {
    "name": "ipython",
    "version": 3
   },
   "file_extension": ".py",
   "mimetype": "text/x-python",
   "name": "python",
   "nbconvert_exporter": "python",
   "pygments_lexer": "ipython3",
   "version": "3.10.9"
  }
 },
 "nbformat": 4,
 "nbformat_minor": 5
}
