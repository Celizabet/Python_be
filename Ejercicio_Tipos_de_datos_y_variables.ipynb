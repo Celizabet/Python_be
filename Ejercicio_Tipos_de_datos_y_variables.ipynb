{
 "cells": [
  {
   "cell_type": "markdown",
   "id": "b5ec8f50",
   "metadata": {},
   "source": [
    "## MENÚ DE OPERACIONES"
   ]
  },
  {
   "cell_type": "code",
   "execution_count": 18,
   "id": "eca9ec20",
   "metadata": {},
   "outputs": [
    {
     "name": "stdout",
     "output_type": "stream",
     "text": [
      "Elige una de las operaciones: \n",
      "\n",
      "* Suma\n",
      "* Resta\n",
      "* Multuplicación\n",
      "* División\n",
      "* Potencia\n",
      "\n",
      "potencia\n"
     ]
    }
   ],
   "source": [
    "operacion = input(\"\"\"Elige una de las operaciones: \n",
    "\\n* Suma\n",
    "* Resta\n",
    "* Multuplicación\n",
    "* División\n",
    "* Potencia\n",
    "\\n\"\"\")"
   ]
  },
  {
   "cell_type": "markdown",
   "id": "c91cb0c3",
   "metadata": {},
   "source": [
    "### SUMA "
   ]
  },
  {
   "cell_type": "code",
   "execution_count": 13,
   "id": "7d84cb7a",
   "metadata": {},
   "outputs": [
    {
     "name": "stdout",
     "output_type": "stream",
     "text": [
      "La operación a realizarse es una .: suma :.\n",
      "\n",
      "\n",
      "Digita un valor cualquiera y, a continuación escribe dos números en forma \n",
      "hexadecimal, cuyo resultado al sumarse sea igual al valor introducido\n",
      "\n",
      "30\n",
      "\n",
      " Valor =  30\n",
      "\n",
      "Introduce un primer número en forma hexadecimal: 0x010\n",
      "Introduce un segundo número en forma hexadecimal: 0xe\n",
      "Los valores de entrada son:  0x010  y  0xe\n",
      "\n",
      "El resultado de la suma es:  30\n"
     ]
    }
   ],
   "source": [
    "print(\"La operación a realizarse es una .:\",operacion,\":.\")\n",
    "valor = int(input(\"\"\"\\n\n",
    "Digita un valor cualquiera y, a continuación escribe dos números en forma \n",
    "hexadecimal, cuyo resultado al sumarse sea igual al valor introducido\n",
    "\\n\"\"\"))\n",
    "\n",
    "print(\"\\n Valor = \",valor)\n",
    "hexa_1 = input(\"\\nIntroduce un primer número en forma hexadecimal: \")\n",
    "hexa_2 = input(\"Introduce un segundo número en forma hexadecimal: \")\n",
    "print(\"Los valores de entrada son: \",hexa_1,\" y \",hexa_2)\n",
    "\n",
    "resultado = eval(hexa_1) + eval(hexa_2)\n",
    "print(\"\\nEl resultado de la suma es: \",resultado)"
   ]
  },
  {
   "cell_type": "markdown",
   "id": "f7b5a7f3",
   "metadata": {},
   "source": [
    "### RESTA"
   ]
  },
  {
   "cell_type": "code",
   "execution_count": 15,
   "id": "97a46ef0",
   "metadata": {},
   "outputs": [
    {
     "name": "stdout",
     "output_type": "stream",
     "text": [
      "La operación a realizarse es una .: resta :.\n",
      "\n",
      "\n",
      "Digita un valor cualquiera y, a continuación escribe dos números en forma octal, \n",
      "cuyo resultado al restar el primero del segundo sea igual al valor introducido\n",
      "\n",
      "11\n",
      "\n",
      " Valor =  11\n",
      "\n",
      "Introduce un primer número en forma octal: 0o24\n",
      "Introduce un segundo número en forma octal: 0o11\n",
      "Los valores de entrada son:  0o24  y  0o11\n",
      "\n",
      "El resultado de la resta es:  11\n"
     ]
    }
   ],
   "source": [
    "print(\"La operación a realizarse es una .:\",operacion,\":.\")\n",
    "valor = int(input(\"\"\"\\n\n",
    "Digita un valor cualquiera y, a continuación escribe dos números en forma octal, \n",
    "cuyo resultado al restar el primero del segundo sea igual al valor introducido\n",
    "\\n\"\"\"))\n",
    "\n",
    "print(\"\\n Valor = \",valor)\n",
    "octal_1 = input(\"\\nIntroduce un primer número en forma octal: \")\n",
    "octal_2 = input(\"Introduce un segundo número en forma octal: \")\n",
    "print(\"Los valores de entrada son: \",octal_1,\" y \",octal_2)\n",
    "\n",
    "resultado = eval(octal_1) - eval(octal_2)\n",
    "print(\"\\nEl resultado de la resta es: \",resultado)"
   ]
  },
  {
   "cell_type": "markdown",
   "id": "9347444a",
   "metadata": {},
   "source": [
    "### MULTIPLICACIÓN"
   ]
  },
  {
   "cell_type": "code",
   "execution_count": 17,
   "id": "22d6a671",
   "metadata": {},
   "outputs": [
    {
     "name": "stdout",
     "output_type": "stream",
     "text": [
      "La operación a realizarse es una .: multiplicación :.\n",
      "\n",
      "\n",
      "Digita un valor cualquiera y, a continuación escribe dos números en forma \n",
      "binaria, cuyo resultado al multiplicarse sea igual al valor introducido\n",
      "\n",
      "100\n",
      "\n",
      " Valor =  100\n",
      "\n",
      "Introduce un primer número en forma binaria: 0b1010\n",
      "Introduce un segundo número en forma binaria: 0b1010\n",
      "Los valores de entrada son:  0b1010  y  0b1010\n",
      "\n",
      "El resultado de la multiplicación es:  100\n"
     ]
    }
   ],
   "source": [
    "print(\"La operación a realizarse es una .:\",operacion,\":.\")\n",
    "valor = int(input(\"\"\"\\n\n",
    "Digita un valor cualquiera y, a continuación escribe dos números en forma \n",
    "binaria, cuyo resultado al multiplicarse sea igual al valor introducido\n",
    "\\n\"\"\"))\n",
    "\n",
    "print(\"\\n Valor = \",valor)\n",
    "binario_1 = input(\"\\nIntroduce un primer número en forma binaria: \")\n",
    "binario_2 = input(\"Introduce un segundo número en forma binaria: \")\n",
    "print(\"Los valores de entrada son: \",binario_1,\" y \",binario_2)\n",
    "\n",
    "resultado = eval(binario_1) * eval(binario_2)\n",
    "print(\"\\nEl resultado de la multiplicación es: \",resultado)"
   ]
  },
  {
   "cell_type": "markdown",
   "id": "dee73bb7",
   "metadata": {},
   "source": [
    "### DIVISIÓN"
   ]
  },
  {
   "cell_type": "code",
   "execution_count": 7,
   "id": "a114ecf3",
   "metadata": {},
   "outputs": [
    {
     "name": "stdout",
     "output_type": "stream",
     "text": [
      "La operación a realizarse es una .: división :.\n",
      "\n",
      "\n",
      "Digita un valor cualquiera y, a continuación escribe dos números en forma decimal,   \n",
      "cuyo resultado al dividir el primero entre el segundo sea igual al valor introducido\n",
      "\n",
      "25\n",
      "\n",
      " Valor =  25\n",
      "\n",
      "Introduce un primer número en forma decimal: 75\n",
      "Introduce un segundo número en forma decimal: 3\n",
      "Los valores de entrada son:  75  y  3\n",
      "\n",
      "El resultado de la división es:  25.0\n"
     ]
    }
   ],
   "source": [
    "print(\"La operación a realizarse es una .:\",operacion,\":.\")\n",
    "valor = int(input(\"\"\"\\n\n",
    "Digita un valor cualquiera y, a continuación escribe dos números en forma decimal,   \n",
    "cuyo resultado al dividir el primero entre el segundo sea igual al valor introducido\n",
    "\\n\"\"\"))\n",
    "\n",
    "print(\"\\n Valor = \",valor)\n",
    "decimal_1 = input(\"\\nIntroduce un primer número en forma decimal: \")\n",
    "decimal_2 = input(\"Introduce un segundo número en forma decimal: \")\n",
    "print(\"Los valores de entrada son: \",decimal_1,\" y \",decimal_2)\n",
    "\n",
    "resultado = eval(decimal_1) / eval(decimal_2)\n",
    "print(\"\\nEl resultado de la división es: \",resultado)"
   ]
  },
  {
   "cell_type": "markdown",
   "id": "59eeb0ae",
   "metadata": {},
   "source": [
    "### POTENCIA"
   ]
  },
  {
   "cell_type": "code",
   "execution_count": 19,
   "id": "b7d9f634",
   "metadata": {},
   "outputs": [
    {
     "name": "stdout",
     "output_type": "stream",
     "text": [
      "La operación a realizarse es una .: potencia :.\n",
      "\n",
      "\n",
      "Digita un valor cualquiera y, a continuación escribe dos números, el primer número \n",
      "estará elevado a la potencia que indique el valor del segundo número y tiene que\n",
      "dar como resultado el valor digitado al principio\n",
      "\n",
      "64\n",
      "\n",
      " Valor =  64\n",
      "\n",
      "Introduce un primer número: 4\n",
      "Introduce un segundo número: 3\n",
      "Los valores de entrada son:  4  y  3\n",
      "\n",
      "El resultado de la potencia es:  64\n"
     ]
    }
   ],
   "source": [
    "print(\"La operación a realizarse es una .:\",operacion,\":.\")\n",
    "valor = int(input(\"\"\"\\n\n",
    "Digita un valor cualquiera y, a continuación escribe dos números, el primer número \n",
    "estará elevado a la potencia que indique el valor del segundo número y tiene que\n",
    "dar como resultado el valor digitado al principio\n",
    "\\n\"\"\"))\n",
    "\n",
    "print(\"\\n Valor = \",valor)\n",
    "numero_1 = input(\"\\nIntroduce un primer número: \")\n",
    "numero_2 = input(\"Introduce un segundo número: \")\n",
    "print(\"Los valores de entrada son: \",numero_1,\" y \",numero_2)\n",
    "\n",
    "resultado = eval(numero_1) ** eval(numero_2)\n",
    "print(\"\\nEl resultado de la potencia es: \",resultado)"
   ]
  },
  {
   "cell_type": "code",
   "execution_count": null,
   "id": "07dac337",
   "metadata": {},
   "outputs": [],
   "source": []
  }
 ],
 "metadata": {
  "kernelspec": {
   "display_name": "Python 3 (ipykernel)",
   "language": "python",
   "name": "python3"
  },
  "language_info": {
   "codemirror_mode": {
    "name": "ipython",
    "version": 3
   },
   "file_extension": ".py",
   "mimetype": "text/x-python",
   "name": "python",
   "nbconvert_exporter": "python",
   "pygments_lexer": "ipython3",
   "version": "3.10.9"
  }
 },
 "nbformat": 4,
 "nbformat_minor": 5
}
