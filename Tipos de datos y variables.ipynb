{
 "cells": [
  {
   "cell_type": "markdown",
   "id": "2bed5cb7",
   "metadata": {},
   "source": [
    "# Panorama\n",
    "\n",
    "init - integer/ enteros\n",
    "\n",
    "float - float/ números con decimales\n",
    "\n",
    "complex - complex/ complejos (números con una parte real y otra imaginaria)\n",
    "\n",
    "bool - boolean (True/False)/ valores lógicos (verdadero/ falso)\n",
    "\n",
    "str - strings /cadenas o textos"
   ]
  },
  {
   "cell_type": "markdown",
   "id": "3fb16587",
   "metadata": {},
   "source": [
    "## int - integers/enteros"
   ]
  },
  {
   "cell_type": "code",
   "execution_count": 1,
   "id": "4f7e423c",
   "metadata": {},
   "outputs": [
    {
     "name": "stdout",
     "output_type": "stream",
     "text": [
      "El valor de my_integer es:  11\n",
      "El tipo de dato de my_integer es:  <class 'int'>\n"
     ]
    }
   ],
   "source": [
    "my_integer = 11\n",
    "print(\"El valor de my_integer es: \",my_integer)\n",
    "print(\"El tipo de dato de my_integer es: \",type(my_integer))"
   ]
  },
  {
   "cell_type": "code",
   "execution_count": null,
   "id": "52e3b443",
   "metadata": {},
   "outputs": [],
   "source": [
    "#error de sintaxis\n",
    "my_integer = 502030d #no se añaden comillas y python no lo entiende\n",
    "print(\"El valor de my_integer es: \",my_integer)\n",
    "print(\"El tipo de dato de my_integer es: \",type(my_integer))"
   ]
  },
  {
   "cell_type": "markdown",
   "id": "4411be60",
   "metadata": {},
   "source": [
    "## float - float/ números con decimales"
   ]
  },
  {
   "cell_type": "code",
   "execution_count": 2,
   "id": "8912cbac",
   "metadata": {},
   "outputs": [
    {
     "name": "stdout",
     "output_type": "stream",
     "text": [
      "El valor de my_integer es:  11.1\n",
      "El tipo de dato de my_integer es:  <class 'float'>\n"
     ]
    }
   ],
   "source": [
    "my_float = 11.1 #al añadir la parte decimal se convierte en float, aunque sea .0\n",
    "print(\"El valor de my_integer es: \",my_float)\n",
    "print(\"El tipo de dato de my_integer es: \",type(my_float))"
   ]
  },
  {
   "cell_type": "code",
   "execution_count": 3,
   "id": "3f3e9b2e",
   "metadata": {},
   "outputs": [
    {
     "name": "stdout",
     "output_type": "stream",
     "text": [
      "El valor de my_integer es:  2000.0\n",
      "El tipo de dato de my_integer es:  <class 'float'>\n"
     ]
    }
   ],
   "source": [
    "#notación cientifica\n",
    "my_float = 2e3 #2.0*10**3\n",
    "print(\"El valor de my_integer es: \",my_float)\n",
    "print(\"El tipo de dato de my_integer es: \",type(my_float))"
   ]
  },
  {
   "cell_type": "code",
   "execution_count": 4,
   "id": "78dd0d74",
   "metadata": {},
   "outputs": [
    {
     "data": {
      "text/plain": [
       "1.1"
      ]
     },
     "execution_count": 4,
     "metadata": {},
     "output_type": "execute_result"
    }
   ],
   "source": [
    "#1.1 * 10 **1\n",
    "1.1e0 "
   ]
  },
  {
   "cell_type": "code",
   "execution_count": 6,
   "id": "a94ec56c",
   "metadata": {},
   "outputs": [
    {
     "data": {
      "text/plain": [
       "11.0"
      ]
     },
     "execution_count": 6,
     "metadata": {},
     "output_type": "execute_result"
    }
   ],
   "source": [
    "#1.1 * 10 ** 1\n",
    "1.1e1"
   ]
  },
  {
   "cell_type": "code",
   "execution_count": 7,
   "id": "53c7e3b1",
   "metadata": {},
   "outputs": [
    {
     "data": {
      "text/plain": [
       "0.08"
      ]
     },
     "execution_count": 7,
     "metadata": {},
     "output_type": "execute_result"
    }
   ],
   "source": [
    "#potencia negativa 8 * 10 ** -2 \n",
    "8e-2"
   ]
  },
  {
   "cell_type": "markdown",
   "id": "dbe2b59b",
   "metadata": {},
   "source": [
    "## complex - complex (números con una parte real y otra imaginaria)\n",
    "\n",
    "complex = x+y\n",
    "\n",
    "x = parte real\n",
    "\n",
    "yj = parte imaginaria"
   ]
  },
  {
   "cell_type": "code",
   "execution_count": 9,
   "id": "a1fe49a2",
   "metadata": {},
   "outputs": [
    {
     "name": "stdout",
     "output_type": "stream",
     "text": [
      "El valor de my_complex es:  (3+9j)\n",
      "El tipo de dato de my_complex es:  <class 'complex'>\n"
     ]
    }
   ],
   "source": [
    "my_complex = 3 + 9j \n",
    "print(\"El valor de my_complex es: \",my_complex)\n",
    "print(\"El tipo de dato de my_complex es: \",type(my_complex))"
   ]
  },
  {
   "cell_type": "code",
   "execution_count": 10,
   "id": "b930f953",
   "metadata": {},
   "outputs": [
    {
     "name": "stdout",
     "output_type": "stream",
     "text": [
      "El valor de my_complex es:  (2+5j)\n",
      "El tipo de dato de my_complex es:  <class 'complex'>\n"
     ]
    }
   ],
   "source": [
    "my_complex = 2 + 5j \n",
    "print(\"El valor de my_complex es: \",my_complex)\n",
    "print(\"El tipo de dato de my_complex es: \",type(my_complex))"
   ]
  },
  {
   "cell_type": "markdown",
   "id": "aab8428a",
   "metadata": {},
   "source": [
    "## bool - boolean (True/False)/ valores lógicos (verdadero/ falso)"
   ]
  },
  {
   "cell_type": "code",
   "execution_count": 11,
   "id": "77f76e00",
   "metadata": {},
   "outputs": [
    {
     "name": "stdout",
     "output_type": "stream",
     "text": [
      "El valor de my_boolean es:  False\n",
      "El tipo de dato de my_boolean es:  <class 'bool'>\n"
     ]
    }
   ],
   "source": [
    "my_boolean = False #El otro dato que puede tener es True\n",
    "print(\"El valor de my_boolean es: \",my_boolean)\n",
    "print(\"El tipo de dato de my_boolean es: \",type(my_boolean))"
   ]
  },
  {
   "cell_type": "code",
   "execution_count": null,
   "id": "1f326548",
   "metadata": {},
   "outputs": [],
   "source": [
    "#True = 1\n",
    "#False = 0"
   ]
  },
  {
   "cell_type": "code",
   "execution_count": 12,
   "id": "8692a8aa",
   "metadata": {},
   "outputs": [
    {
     "name": "stdout",
     "output_type": "stream",
     "text": [
      "3\n"
     ]
    }
   ],
   "source": [
    "#El resultado de la siguiente operación es 3\n",
    "print(True + True + True)"
   ]
  },
  {
   "cell_type": "code",
   "execution_count": 13,
   "id": "793f1b1a",
   "metadata": {},
   "outputs": [
    {
     "name": "stdout",
     "output_type": "stream",
     "text": [
      "0\n"
     ]
    }
   ],
   "source": [
    "# Resultado será igual a 0\n",
    "print(False+False+False)"
   ]
  },
  {
   "cell_type": "code",
   "execution_count": 14,
   "id": "2b945377",
   "metadata": {},
   "outputs": [
    {
     "name": "stdout",
     "output_type": "stream",
     "text": [
      "2\n"
     ]
    }
   ],
   "source": [
    "# Combinados\n",
    "print(True+False+True)"
   ]
  },
  {
   "cell_type": "code",
   "execution_count": 15,
   "id": "caf09554",
   "metadata": {},
   "outputs": [
    {
     "name": "stdout",
     "output_type": "stream",
     "text": [
      "1\n"
     ]
    }
   ],
   "source": [
    "#Con restas\n",
    "print(True-True+True)"
   ]
  },
  {
   "cell_type": "code",
   "execution_count": 16,
   "id": "c716e329",
   "metadata": {},
   "outputs": [
    {
     "name": "stdout",
     "output_type": "stream",
     "text": [
      "-2\n"
     ]
    }
   ],
   "source": [
    "# -2\n",
    "print(False-True-True)"
   ]
  },
  {
   "cell_type": "markdown",
   "id": "3d1a6224",
   "metadata": {},
   "source": [
    "## str - strings /cadenas o textos"
   ]
  },
  {
   "cell_type": "code",
   "execution_count": 18,
   "id": "1eb990a1",
   "metadata": {},
   "outputs": [
    {
     "name": "stdout",
     "output_type": "stream",
     "text": [
      "El valor de my_string es:  Backend Python\n",
      "El tipo de dato de my_string es:  <class 'str'>\n"
     ]
    }
   ],
   "source": [
    "my_string = \"Backend Python\"\n",
    "print(\"El valor de my_string es: \",my_string)\n",
    "print(\"El tipo de dato de my_string es: \",type(my_string))"
   ]
  },
  {
   "cell_type": "code",
   "execution_count": 19,
   "id": "c82cea03",
   "metadata": {},
   "outputs": [
    {
     "name": "stdout",
     "output_type": "stream",
     "text": [
      "El valor de my_string es:  Aprendiendo a usar strings/ cadenas/ textos\n",
      "El tipo de dato de my_string es:  <class 'str'>\n"
     ]
    }
   ],
   "source": [
    "my_string = \"Aprendiendo a usar strings/ cadenas/ textos\"\n",
    "print(\"El valor de my_string es: \",my_string)\n",
    "print(\"El tipo de dato de my_string es: \",type(my_string))"
   ]
  },
  {
   "cell_type": "code",
   "execution_count": 20,
   "id": "64f2006b",
   "metadata": {},
   "outputs": [
    {
     "name": "stdout",
     "output_type": "stream",
     "text": [
      "El valor de my_string es:  \n",
      "Es una cadena con múltiples líneas\n",
      "\n",
      "Como puedes ver es genial para textos más largos\n",
      "\n",
      "¿Puedes imaginar cuántas cosas podrías hacer manejando texto de internet\n",
      "\n",
      "El tipo de dato de my_string es:  <class 'str'>\n"
     ]
    }
   ],
   "source": [
    "#Para cadenas con múltiples líneas\n",
    "my_string = \"\"\"\n",
    "Es una cadena con múltiples líneas\\n\n",
    "Como puedes ver es genial para textos más largos\\n\n",
    "¿Puedes imaginar cuántas cosas podrías hacer manejando texto de internet\n",
    "\"\"\"\n",
    "print(\"El valor de my_string es: \",my_string)\n",
    "print(\"El tipo de dato de my_string es: \",type(my_string))"
   ]
  },
  {
   "cell_type": "markdown",
   "id": "d007852a",
   "metadata": {},
   "source": [
    "## Variables\n",
    "\n",
    "### ¿Qué es una variable?\n",
    "\n",
    "- Son un espacio temporal para guardar un valor con un nombre específico\n",
    "\n",
    "- No hay necesidad de declarar el tipo de dato explícitamente\n",
    "\n",
    "- Python es un lenguaje tipado dinámicamente, el tipo de dato se define mientras corre el programa\n",
    "\n",
    "- Las variables en Python funcionan diferente que otros lenguajes de programación \n",
    "\n",
    "- No se necesitan crear variables, solo asignamos un nombre a un valor usando el operador de asignación\n",
    "\n",
    "### Tipos de variables\n",
    "\n",
    "- Variables globales: se utilizan en todo el programa\n",
    "\n",
    "- Variables locales: aquellas que se utilizan solo en un bloque específico"
   ]
  },
  {
   "cell_type": "markdown",
   "id": "c941ccb7",
   "metadata": {},
   "source": [
    "## Variables Globales\n",
    "- Declaramos var. globales afuera de funciones\n",
    "- El valor puede ser constante para todo el programa \n",
    "- Cualquier función podrá acceder a estas var.\n",
    "- Normalmente son usadas como constantes\n",
    "- Mantienen sus valores durante toda la ejecución del programa\n",
    "- Una var. puede ser accesada desde cualquier función"
   ]
  },
  {
   "cell_type": "code",
   "execution_count": 21,
   "id": "40cc7370",
   "metadata": {},
   "outputs": [],
   "source": [
    "my_global_var = 50 #afuera de las funciones\n",
    "\n",
    "def my_function_1():\n",
    "    pass\n",
    "\n",
    "def my_function_2():\n",
    "    pass"
   ]
  },
  {
   "cell_type": "code",
   "execution_count": 22,
   "id": "03021fe1",
   "metadata": {},
   "outputs": [],
   "source": [
    "def my_function_1():\n",
    "    my_local_var = 5\n",
    "\n",
    "def my_function_2():\n",
    "    my_local_var = 35"
   ]
  },
  {
   "cell_type": "code",
   "execution_count": 23,
   "id": "17df2d42",
   "metadata": {},
   "outputs": [],
   "source": [
    "my_global_var = 50 \n",
    "\n",
    "def my_function_1():\n",
    "    print(\"función 1. El valor de my_global_var es: \",my_global_var)\n",
    "\n",
    "def my_function_2():\n",
    "    print(\"función 2. El valor de my_global_var es: \",my_global_var)"
   ]
  },
  {
   "cell_type": "code",
   "execution_count": 24,
   "id": "375adaeb",
   "metadata": {},
   "outputs": [
    {
     "name": "stdout",
     "output_type": "stream",
     "text": [
      "función 1. El valor de my_global_var es:  50\n"
     ]
    }
   ],
   "source": [
    "my_function_1()"
   ]
  },
  {
   "cell_type": "code",
   "execution_count": 25,
   "id": "f6e2a069",
   "metadata": {},
   "outputs": [
    {
     "name": "stdout",
     "output_type": "stream",
     "text": [
      "función 2. El valor de my_global_var es:  50\n"
     ]
    }
   ],
   "source": [
    "my_function_2()"
   ]
  },
  {
   "cell_type": "markdown",
   "id": "89f2c643",
   "metadata": {},
   "source": [
    "## Variables locales\n",
    "\n",
    "- Podemos usartlas dentro de una función \n",
    "- No podemos usarlas durante todo el programa, están limitadas a la función"
   ]
  },
  {
   "cell_type": "code",
   "execution_count": 26,
   "id": "3200012f",
   "metadata": {},
   "outputs": [],
   "source": [
    "def my_function_1():\n",
    "    my_var = 10\n",
    "    print(\"función 1. El valor de my_global_var es: \",my_var)\n",
    "\n",
    "def my_function_2():\n",
    "    my_var = 20\n",
    "    print(\"función 2. El valor de my_global_var es: \",my_var)"
   ]
  },
  {
   "cell_type": "markdown",
   "id": "51979906",
   "metadata": {},
   "source": [
    "## Palabra reservada \"global\"\n",
    "\n",
    "Convierte una variable local a una variable global"
   ]
  },
  {
   "cell_type": "code",
   "execution_count": 28,
   "id": "4fd56284",
   "metadata": {},
   "outputs": [],
   "source": [
    "def my_function_1():\n",
    "    my_var = 10\n",
    "    print(\"función 1. El valor de my_global_var es: \",my_var)\n",
    "\n",
    "def my_function_2():\n",
    "    my_var = 20\n",
    "    print(\"función 2. El valor de my_global_var es: \",my_var)\n",
    "    \n",
    "def my_function_3():\n",
    "    print(my_var)"
   ]
  },
  {
   "cell_type": "code",
   "execution_count": 29,
   "id": "aab61c8e",
   "metadata": {},
   "outputs": [
    {
     "ename": "NameError",
     "evalue": "name 'my_var' is not defined",
     "output_type": "error",
     "traceback": [
      "\u001b[1;31m---------------------------------------------------------------------------\u001b[0m",
      "\u001b[1;31mNameError\u001b[0m                                 Traceback (most recent call last)",
      "Cell \u001b[1;32mIn[29], line 1\u001b[0m\n\u001b[1;32m----> 1\u001b[0m \u001b[43mmy_function_3\u001b[49m\u001b[43m(\u001b[49m\u001b[43m)\u001b[49m\n",
      "Cell \u001b[1;32mIn[28], line 10\u001b[0m, in \u001b[0;36mmy_function_3\u001b[1;34m()\u001b[0m\n\u001b[0;32m      9\u001b[0m \u001b[38;5;28;01mdef\u001b[39;00m \u001b[38;5;21mmy_function_3\u001b[39m():\n\u001b[1;32m---> 10\u001b[0m     \u001b[38;5;28mprint\u001b[39m(\u001b[43mmy_var\u001b[49m)\n",
      "\u001b[1;31mNameError\u001b[0m: name 'my_var' is not defined"
     ]
    }
   ],
   "source": [
    "my_function_3()"
   ]
  },
  {
   "cell_type": "code",
   "execution_count": 37,
   "id": "1f5cc6cf",
   "metadata": {},
   "outputs": [],
   "source": [
    "def my_function_1():\n",
    "    my_var = 10\n",
    "    print(\"función 1. El valor de my_global_var es: \",my_var)\n",
    "\n",
    "def my_function_2():\n",
    "    global my_var\n",
    "    my_var = 20\n",
    "    print(\"función 2. El valor de my_global_var es: \",my_var)\n",
    "    \n",
    "def my_function_3():\n",
    "    print(\"El valor es: \",my_var)"
   ]
  },
  {
   "cell_type": "code",
   "execution_count": 38,
   "id": "fa2aa1c8",
   "metadata": {},
   "outputs": [
    {
     "name": "stdout",
     "output_type": "stream",
     "text": [
      "función 1. El valor de my_global_var es:  10\n",
      "función 2. El valor de my_global_var es:  20\n"
     ]
    }
   ],
   "source": [
    "my_function_1()\n",
    "my_function_2()"
   ]
  },
  {
   "cell_type": "code",
   "execution_count": 39,
   "id": "0a831c95",
   "metadata": {},
   "outputs": [
    {
     "name": "stdout",
     "output_type": "stream",
     "text": [
      "El valor es:  20\n"
     ]
    }
   ],
   "source": [
    "my_function_3()"
   ]
  },
  {
   "cell_type": "code",
   "execution_count": 42,
   "id": "c7923667",
   "metadata": {},
   "outputs": [],
   "source": [
    "#Puede haber muchas variables globales\n",
    "def my_function_1():\n",
    "    my_var = 10\n",
    "    print(\"función 1. El valor de my_global_var es: \",my_var)\n",
    "\n",
    "def my_function_2():\n",
    "    global a,b,c\n",
    "    a = 1\n",
    "    b = 2\n",
    "    c = 3\n",
    "    print(\"\\nfunción 2. El valor de a es: \",a)\n",
    "    print(\"función 2. El valor de b es: \",b)\n",
    "    print(\"función 2. El valor de c es: \",c)\n",
    "    \n",
    "def my_function_3():\n",
    "    print(\"El valor es: \",c)"
   ]
  },
  {
   "cell_type": "code",
   "execution_count": 43,
   "id": "d13883e8",
   "metadata": {},
   "outputs": [
    {
     "name": "stdout",
     "output_type": "stream",
     "text": [
      "función 1. El valor de my_global_var es:  10\n",
      "\n",
      "función 2. El valor de a es:  1\n",
      "función 2. El valor de b es:  2\n",
      "función 2. El valor de c es:  3\n"
     ]
    }
   ],
   "source": [
    "my_function_1()\n",
    "my_function_2()"
   ]
  },
  {
   "cell_type": "code",
   "execution_count": 44,
   "id": "ca3763f3",
   "metadata": {},
   "outputs": [
    {
     "name": "stdout",
     "output_type": "stream",
     "text": [
      "El valor es:  3\n"
     ]
    }
   ],
   "source": [
    "my_function_3()"
   ]
  },
  {
   "cell_type": "markdown",
   "id": "1342ac5b",
   "metadata": {},
   "source": [
    "## Tipos de enteros\n",
    "\n",
    "- Forma decimal\n",
    "- Forma binaria\n",
    "- Forma octal\n",
    "- Forma hexadecinal\n",
    "\n",
    "### Forma decimal"
   ]
  },
  {
   "cell_type": "code",
   "execution_count": 45,
   "id": "6e1b0a39",
   "metadata": {},
   "outputs": [
    {
     "name": "stdout",
     "output_type": "stream",
     "text": [
      "El valor de decimal_number es:  55\n"
     ]
    }
   ],
   "source": [
    "decimal_number = 55\n",
    "print(\"El valor de decimal_number es: \",decimal_number)\n",
    "\n",
    "#Cada una de las posiciones están basados en 10 elevados a una potencia"
   ]
  },
  {
   "cell_type": "markdown",
   "id": "9615628c",
   "metadata": {},
   "source": [
    "## Forma binaria\n",
    "\n",
    "- Código organizado en bytes\n",
    "- Lenguaje de las máquinas (1 y 0)\n",
    "\n",
    "### Valor base es 2\n",
    "\n",
    "- Solamente acepta 2 digitos, 1 y 0\n",
    "- Usamos el prefijo '0b' o '0B'\n"
   ]
  },
  {
   "cell_type": "code",
   "execution_count": 46,
   "id": "fb335fe9",
   "metadata": {},
   "outputs": [
    {
     "name": "stdout",
     "output_type": "stream",
     "text": [
      "El valor de decimal_number es:  3\n"
     ]
    }
   ],
   "source": [
    "binary_number = 0b11 # 1*2**1 + 1*2**0\n",
    "print(\"El valor de decimal_number es: \",binary_number)"
   ]
  },
  {
   "cell_type": "code",
   "execution_count": 47,
   "id": "9b039ae0",
   "metadata": {},
   "outputs": [
    {
     "name": "stdout",
     "output_type": "stream",
     "text": [
      "El valor de decimal_number es:  7\n"
     ]
    }
   ],
   "source": [
    "binary_number = 0B111 # 1*2**2 + 1*2**1 + 1*2**0\n",
    "print(\"El valor de decimal_number es: \",binary_number)"
   ]
  },
  {
   "cell_type": "code",
   "execution_count": 27,
   "id": "f6121439",
   "metadata": {},
   "outputs": [
    {
     "name": "stdout",
     "output_type": "stream",
     "text": [
      "10\n"
     ]
    }
   ],
   "source": [
    "binario = 0b1010\n",
    "print(binario)"
   ]
  },
  {
   "cell_type": "markdown",
   "id": "d91d0464",
   "metadata": {},
   "source": [
    "## Forma octal\n",
    "\n",
    "### Valor base es 8\n",
    "- Solo acepta digitos del 0 al 7\n",
    "- Usamos el prefijo '0o' o '0O'"
   ]
  },
  {
   "cell_type": "code",
   "execution_count": 48,
   "id": "cd26e165",
   "metadata": {},
   "outputs": [
    {
     "name": "stdout",
     "output_type": "stream",
     "text": [
      "El valor de octal_number es:  15\n"
     ]
    }
   ],
   "source": [
    "octal_number = 0o17 # 1*8**1 + 7*8**0\n",
    "print(\"El valor de octal_number es: \",octal_number)"
   ]
  },
  {
   "cell_type": "code",
   "execution_count": 49,
   "id": "2ff97efb",
   "metadata": {},
   "outputs": [
    {
     "name": "stdout",
     "output_type": "stream",
     "text": [
      "El valor de octal_number es:  107\n"
     ]
    }
   ],
   "source": [
    "octal_number = 0o153 # 1*8**2 + 5*8**1 + 3*8**0\n",
    "print(\"El valor de octal_number es: \",octal_number)"
   ]
  },
  {
   "cell_type": "code",
   "execution_count": 8,
   "id": "d6dac13e",
   "metadata": {},
   "outputs": [
    {
     "name": "stdout",
     "output_type": "stream",
     "text": [
      "9\n"
     ]
    }
   ],
   "source": [
    "octal = 0o11\n",
    "print(octal)"
   ]
  },
  {
   "cell_type": "code",
   "execution_count": 20,
   "id": "966429e9",
   "metadata": {},
   "outputs": [
    {
     "name": "stdout",
     "output_type": "stream",
     "text": [
      "20\n"
     ]
    }
   ],
   "source": [
    "octal2 = 0o24\n",
    "print(octal2)"
   ]
  },
  {
   "cell_type": "markdown",
   "id": "f19db274",
   "metadata": {},
   "source": [
    "# Forma hexadecimal\n",
    "\n",
    "### Valor base es 16\n",
    "\n",
    "- Acepta digitos del 0 al 9\n",
    "- También acepta letras de 'a/A' a la 'f/F'\n",
    "- Prefijo '0x' o '0X'\n",
    "- Unas serie númerica iría de 0 - 9, al terminarse los números empiezan las letras, por lo tanto a=10, b=11, c=12, ..., f=15."
   ]
  },
  {
   "cell_type": "code",
   "execution_count": 51,
   "id": "a5b3f1a0",
   "metadata": {},
   "outputs": [
    {
     "name": "stdout",
     "output_type": "stream",
     "text": [
      "El valor de hex_number es:  23\n"
     ]
    }
   ],
   "source": [
    "hex_number = 0x17 # 1*16**1 + 7*16**0\n",
    "print(\"El valor de hex_number es: \",hex_number)"
   ]
  },
  {
   "cell_type": "code",
   "execution_count": 52,
   "id": "759fbcf3",
   "metadata": {},
   "outputs": [
    {
     "name": "stdout",
     "output_type": "stream",
     "text": [
      "El valor de hex_number es:  28\n"
     ]
    }
   ],
   "source": [
    "hex_number = 0x1c # 1*16**1 + 12*16**0 \n",
    "print(\"El valor de hex_number es: \",hex_number)"
   ]
  },
  {
   "cell_type": "code",
   "execution_count": 8,
   "id": "f0fbc3ac",
   "metadata": {},
   "outputs": [
    {
     "name": "stdout",
     "output_type": "stream",
     "text": [
      "16\n"
     ]
    }
   ],
   "source": [
    "hex1 = 0x010 # 0*16**2 + 1*16**1 + 0*16**0\n",
    "print(hex1)"
   ]
  },
  {
   "cell_type": "code",
   "execution_count": 9,
   "id": "44976e48",
   "metadata": {},
   "outputs": [
    {
     "name": "stdout",
     "output_type": "stream",
     "text": [
      "14\n"
     ]
    }
   ],
   "source": [
    "hex2 = 0xe\n",
    "print(hex2)"
   ]
  },
  {
   "cell_type": "code",
   "execution_count": 10,
   "id": "995a85f2",
   "metadata": {},
   "outputs": [
    {
     "name": "stdout",
     "output_type": "stream",
     "text": [
      "30\n"
     ]
    }
   ],
   "source": [
    "resultado = hex1 + hex2\n",
    "print(resultado)"
   ]
  },
  {
   "cell_type": "code",
   "execution_count": null,
   "id": "03986cf5",
   "metadata": {},
   "outputs": [],
   "source": []
  }
 ],
 "metadata": {
  "kernelspec": {
   "display_name": "Python 3 (ipykernel)",
   "language": "python",
   "name": "python3"
  },
  "language_info": {
   "codemirror_mode": {
    "name": "ipython",
    "version": 3
   },
   "file_extension": ".py",
   "mimetype": "text/x-python",
   "name": "python",
   "nbconvert_exporter": "python",
   "pygments_lexer": "ipython3",
   "version": "3.10.9"
  }
 },
 "nbformat": 4,
 "nbformat_minor": 5
}
