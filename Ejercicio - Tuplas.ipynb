{
 "cells": [
  {
   "cell_type": "code",
   "execution_count": 16,
   "id": "cd863c33",
   "metadata": {},
   "outputs": [
    {
     "name": "stdout",
     "output_type": "stream",
     "text": [
      "Lista de Reproducción\n",
      "\n",
      "Ingresa la palabra que te gustaría\n",
      "Ejemplo: 'rock', y obtendrás un playlist de canciones o artistas que incluyan la palabra rock\n",
      "brit pop\n",
      "('Brit Pop', 'Maerd Nisty')\n",
      "('Brit Pop', 'Epic Reflexes')\n",
      "('Brit Pop', 'Heterogene')\n",
      "('Brit Pop', 'RANTES')\n",
      "('Brit Pop', 'Darren Loveday')\n",
      "('Brit Pop', 'The Degrees')\n",
      "('Brit Pop', 'You Snap Book Tube Chat Face')\n",
      "('Vampire Song', 'AXS Music')\n",
      "('Brit Pop Original Mix', 'Dmytro Tytarchuk')\n",
      "('Brit Pop (Vidám Percek)', 'Névtelen Utazó Band')\n",
      "('Baby Come Back', 'The Equals')\n",
      "('Feel Better', 'Simon Steadman')\n",
      "('S.M.S.', 'Simon Steadman')\n",
      "('High Ground', 'Simon Steadman')\n",
      "('California Here I Come', 'Simon Steadman')\n",
      "('Lifeline', 'Simon Steadman')\n",
      "('Ballroom Blitz (The Sweet Spite Tribute Mix)', 'Brit Pop')\n",
      "(\"I Don't Want You (Brit Pop Mix)\", 'Ramones')\n",
      "('Brit Pop Backing Track in E Flat Major', 'Jelly Jams')\n",
      "('Birdman', 'Universal Production Music')\n",
      "('Overnight', 'Adolfo Viguera Lopez De Murillas')\n",
      "('Britpop Is Dead', 'Franz Plasa')\n",
      "('Big Sky', 'Network Music Ensemble')\n",
      "('Good Day', 'Music Beyond')\n",
      "('Petrolhead', 'Music Beyond')\n"
     ]
    }
   ],
   "source": [
    "import requests\n",
    "\n",
    "print(\"Lista de Reproducción\\n\")\n",
    "# Referencia: https://www.deezer.com/en/channels/explore\n",
    "print(\"Ingresa la palabra que te gustaría\")\n",
    "print(\"Ejemplo: 'rock', y obtendrás un playlist de canciones o artistas que incluyan la palabra rock\")\n",
    "\n",
    "word_to_search = input()\n",
    "url = \"https://deezerdevs-deezer.p.rapidapi.com/search\"\n",
    "querystring = {\"q\":word_to_search}\n",
    "headers = {\n",
    " \"X-RapidAPI-Key\": \"3ed98f551fmshe4e6260228c4eadp13db17jsn8c893e1194da\",\n",
    " \"X-RapidAPI-Host\": \"deezerdevs-deezer.p.rapidapi.com\"\n",
    "}\n",
    "\n",
    "response = requests.request(\"GET\", url, headers=headers, params=querystring).json()\n",
    "for element in response['data']:\n",
    "    my_list = [element['title'], element['artist']['name']]\n",
    "    my_tuple = tuple(my_list)\n",
    "    print(my_tuple)\n"
   ]
  },
  {
   "cell_type": "code",
   "execution_count": null,
   "id": "91c3a0ca",
   "metadata": {},
   "outputs": [],
   "source": []
  }
 ],
 "metadata": {
  "kernelspec": {
   "display_name": "Python 3 (ipykernel)",
   "language": "python",
   "name": "python3"
  },
  "language_info": {
   "codemirror_mode": {
    "name": "ipython",
    "version": 3
   },
   "file_extension": ".py",
   "mimetype": "text/x-python",
   "name": "python",
   "nbconvert_exporter": "python",
   "pygments_lexer": "ipython3",
   "version": "3.10.9"
  }
 },
 "nbformat": 4,
 "nbformat_minor": 5
}
