{
 "cells": [
  {
   "cell_type": "code",
   "execution_count": 46,
   "id": "c6796dc2",
   "metadata": {},
   "outputs": [],
   "source": [
    "#Clase Padre -- Realizar una orden en el sitio web de un eCommerce.\n",
    "\n",
    "class MakeAnOrder():\n",
    "    \n",
    "    def __init__(self,user,address,item,price,monthly):\n",
    "        self.user = user\n",
    "        self.address = address\n",
    "        self.item = item\n",
    "        self.price = price\n",
    "        self.monthly = monthly\n",
    "    \n",
    "    #Método 1. Clase Padre -- Con los stributos de la clase el sitio web muestra el detalle del pedido\n",
    "    def order_description(self):\n",
    "        print(\"\\n\\t.:ORDER DETAIL :.\")\n",
    "        print(\"\"\"User: {} \\nAddress:  {} \\nItem:  {}    Price:  ${} \\nMonthly payment:  {}\n",
    "        \"\"\".format(self.user,self.address,self.item,self.price,self.monthly))\n",
    "        \n",
    "        confirmation = input(\"\\nAll of the details are correct?\\n\").lower()\n",
    "        if confirmation == \"yes\":\n",
    "            print(\"Do payment\")\n",
    "        else:\n",
    "            print(\"Change information\")\n",
    "\n",
    "    #Método 2. Clase Padre -- El usuario puede ver cuales son las formas de pago aceptadas\n",
    "    def show_payment_methods(self):\n",
    "        methods = [\"credit/debit card\", \"cash\", \"gift card\"]\n",
    "        print(\".: ACCEPTED PAYMENT METHODS :.\")\n",
    "        for i,method in enumerate(methods, start=1):\n",
    "            print(\"{}. {}\".format(i,method))\n",
    "    \n",
    "    #Método 3. Clase Padre -- Con este método el usuario elige la forma de pago que quiera\n",
    "    def choosing_payment_method(self):\n",
    "        choice = int(input(\"Choose one payment method introducing one number between 1-3 \\n\"))\n",
    "        if choice == 1:\n",
    "            print(\"Chosen payment method: CREDIT/DEBIT CARD\\n\")\n",
    "            print(\"\\t\\t.: PAYMENT METHOD DESCRIPTION :.\")\n",
    "            print(\"All credit and debit cards are accepted,you can split payment between them\")\n",
    "        elif choice == 2:\n",
    "            print(\"Chosen payment method: CASH\\n\")\n",
    "            print(\"\\t\\t.: PAYMENT METHOD DESCRIPTION :.\")\n",
    "            print(\"You don't need a credit or debit card if you want to buy, pay in one of the participating store\")\n",
    "        elif choice == 3:\n",
    "            print(\"Chosen payment method: GIFT CARD\\n\")\n",
    "            print(\"\\t\\t.: PAYMENT METHOD DESCRIPTION :.\")\n",
    "            print(\"The newest Payment Method, you can buy a gift card in any participating store\")\n",
    "        else:\n",
    "            print(\"\\nYour choice does not exist!!\")"
   ]
  },
  {
   "cell_type": "code",
   "execution_count": 47,
   "id": "9b73cc01",
   "metadata": {},
   "outputs": [],
   "source": [
    "#creación del objeto perteneciente a la Clase Padre\n",
    "\n",
    "order1 = MakeAnOrder(\"ceut100512\",\"Old road #123, CDMX\",\"funko\",11.45,1)"
   ]
  },
  {
   "cell_type": "code",
   "execution_count": 48,
   "id": "13ccb4cb",
   "metadata": {},
   "outputs": [
    {
     "name": "stdout",
     "output_type": "stream",
     "text": [
      "\n",
      "\t.:ORDER DETAIL :.\n",
      "User: ceut100512 \n",
      "Address:  Old road #123, CDMX \n",
      "Item:  funko    Price:  $11.45 \n",
      "Monthly payment:  1\n",
      "        \n",
      "\n",
      "All of the details are correct?\n",
      "yes\n",
      "Do payment\n"
     ]
    }
   ],
   "source": [
    "#Llamando al método 1 de la Clase Padre\n",
    "\n",
    "order1.order_description()"
   ]
  },
  {
   "cell_type": "code",
   "execution_count": 49,
   "id": "5dadced6",
   "metadata": {},
   "outputs": [
    {
     "name": "stdout",
     "output_type": "stream",
     "text": [
      ".: ACCEPTED PAYMENT METHODS :.\n",
      "1. credit/debit card\n",
      "2. cash\n",
      "3. gift card\n"
     ]
    }
   ],
   "source": [
    "#Llamando al método 2 de la Clase Padre\n",
    "\n",
    "order1.show_payment_methods()"
   ]
  },
  {
   "cell_type": "code",
   "execution_count": 50,
   "id": "aee1a1c2",
   "metadata": {},
   "outputs": [
    {
     "name": "stdout",
     "output_type": "stream",
     "text": [
      "Choose one payment method introducing one number between 1-3 \n",
      "1\n",
      "Chosen payment method: CREDIT/DEBIT CARD\n",
      "\n",
      "\t\t.: PAYMENT METHOD DESCRIPTION :.\n",
      "All credit and debit cards are accepted,you can split payment between them\n"
     ]
    }
   ],
   "source": [
    "#Llamando al método 3 de la Clase Padre\n",
    "\n",
    "order1.choosing_payment_method()"
   ]
  },
  {
   "cell_type": "code",
   "execution_count": 59,
   "id": "13e5c4b8",
   "metadata": {},
   "outputs": [],
   "source": [
    "#Clase Hija -- En este caso la clase hija es la realización del pago de la compra con una tarjeta de crédito o débito\n",
    "\n",
    "class DoPaymentCard(MakeAnOrder):    \n",
    "    \n",
    "    def __init__(self,user,address,item,price,monthly,bank,card_number,cvv):\n",
    "        super().__init__(user,address,item,price,monthly)\n",
    "        self.bank = bank\n",
    "        self.card_number = card_number\n",
    "        self.cvv = cvv\n",
    "    \n",
    "    #Método 1. Clase Hija -- Valida los datos de la tarjeta introducida por el usuario\n",
    "    def card_validation(self):\n",
    "        import time\n",
    "        start_time = 0\n",
    "        increment = 1\n",
    "        while start_time <= 15:\n",
    "            mins, secs = divmod(start_time, 60)        \n",
    "            validating = \"Validating Card{}\".format(\"-\"*increment)        \n",
    "            print(validating, end='\\r')        \n",
    "            time.sleep(1)        \n",
    "            start_time += 1    \n",
    "            increment += 1\n",
    "        print(\"           .:.: CARD ACCEPTED :.:.           \")\n",
    "    \n",
    "    #Método 2. Clase Hija -- Genera el recibo de la compra realizada por el usuario\n",
    "    def shopping_receipt(self):\n",
    "        print(\"  .: SUCCESFUL PURCHASE :.\")\n",
    "        print(\"\"\"Bank: {} \\nCard Number: {} \\nAmount: {}   Months to Pay: {}\n",
    "        \"\"\".format(self.bank,self.card_number,self.price,self.monthly))\n",
    "    \n",
    "    #Método 2. Clase Hija -- Informa al usuario si su tarjeta tiene acceso a descuento o promociones\n",
    "    def promotions_discounts(self):\n",
    "        participating_banks = [\"BBVA\",\"Banamex\",\"Banorte\",\"ScotiaBank\",\"HSBC\"]\n",
    "        print(\"\\t.: PARTICIPATING BANKS :.\")\n",
    "        for participant in participating_banks:\n",
    "            if len(participating_banks)-1 == participating_banks.index(participant):\n",
    "                print(participant,end = \"\")\n",
    "            else:\n",
    "                print(participant, end = \", \")\n",
    "        \n",
    "        if self.bank in participating_banks:\n",
    "            print(\"\\nYour credit/debit card has discount benefits!!!\")"
   ]
  },
  {
   "cell_type": "code",
   "execution_count": 60,
   "id": "2d5ffb6c",
   "metadata": {},
   "outputs": [],
   "source": [
    "#Creación del objeto perteneciente a la Clase Hija\n",
    "\n",
    "payment1 = DoPaymentCard(\"ceut100512\",\"Old road #123, CDMX\",\"funko\",11.45,1,\"BBVA\",1234876510111312,913)"
   ]
  },
  {
   "cell_type": "code",
   "execution_count": 61,
   "id": "fb6fc364",
   "metadata": {},
   "outputs": [
    {
     "name": "stdout",
     "output_type": "stream",
     "text": [
      "           .:.: CARD ACCEPTED :.:.           \n"
     ]
    }
   ],
   "source": [
    "#Llamando al método 1 de la Clase Hija\n",
    "\n",
    "payment1.card_validation()"
   ]
  },
  {
   "cell_type": "code",
   "execution_count": 62,
   "id": "072cb688",
   "metadata": {},
   "outputs": [
    {
     "name": "stdout",
     "output_type": "stream",
     "text": [
      "  .: SUCCESFUL PURCHASE :.\n",
      "Bank: BBVA \n",
      "Card Number: 1234876510111312 \n",
      "Amount: 11.45   Months to Pay: 1\n",
      "        \n"
     ]
    }
   ],
   "source": [
    "#Llamando al método 2 de la Clase Hija\n",
    "\n",
    "payment1.shopping_receipt()"
   ]
  },
  {
   "cell_type": "code",
   "execution_count": 63,
   "id": "6ec77bbe",
   "metadata": {},
   "outputs": [
    {
     "name": "stdout",
     "output_type": "stream",
     "text": [
      "\t.: PARTICIPATING BANKS :.\n",
      "BBVA, Banamex, Banorte, ScotiaBank, HSBC\n",
      "Your credit/debit card has discount benefits!!!\n"
     ]
    }
   ],
   "source": [
    "#Llamando al método 3 de la Clase Hija\n",
    "payment1.promotions_discounts()"
   ]
  },
  {
   "cell_type": "code",
   "execution_count": 64,
   "id": "6dce3801",
   "metadata": {},
   "outputs": [
    {
     "name": "stdout",
     "output_type": "stream",
     "text": [
      "\n",
      "\t.:ORDER DETAIL :.\n",
      "User: ceut100512 \n",
      "Address:  Old road #123, CDMX \n",
      "Item:  funko    Price:  $11.45 \n",
      "Monthly payment:  1\n",
      "        \n",
      "\n",
      "All of the details are correct?\n",
      "yes\n",
      "Do payment\n"
     ]
    }
   ],
   "source": [
    "#Llamando al método 1 de la Clase Padre desde un objeto de la Clase Hija\n",
    "\n",
    "payment1.order_description()"
   ]
  },
  {
   "cell_type": "code",
   "execution_count": 65,
   "id": "401d47f6",
   "metadata": {},
   "outputs": [
    {
     "name": "stdout",
     "output_type": "stream",
     "text": [
      ".: ACCEPTED PAYMENT METHODS :.\n",
      "1. credit/debit card\n",
      "2. cash\n",
      "3. gift card\n"
     ]
    }
   ],
   "source": [
    "#Llamando al método 2 de la Clase Padre desde un objeto de la Clase Hija\n",
    "\n",
    "payment1.show_payment_methods()"
   ]
  },
  {
   "cell_type": "code",
   "execution_count": 66,
   "id": "f9d9f82a",
   "metadata": {},
   "outputs": [
    {
     "name": "stdout",
     "output_type": "stream",
     "text": [
      "Choose one payment method introducing one number between 1-3 \n",
      "2\n",
      "Chosen payment method: CASH\n",
      "\n",
      "\t\t.: PAYMENT METHOD DESCRIPTION :.\n",
      "You don't need a credit or debit card if you want to buy, pay in one of the participating store\n"
     ]
    }
   ],
   "source": [
    "#Llamando al método 3 de la Clase Padre desde un objeto de la Clase Hija\n",
    "\n",
    "payment1.choosing_payment_method()"
   ]
  },
  {
   "cell_type": "code",
   "execution_count": null,
   "id": "5b1e2ec4",
   "metadata": {},
   "outputs": [],
   "source": []
  }
 ],
 "metadata": {
  "kernelspec": {
   "display_name": "Python 3 (ipykernel)",
   "language": "python",
   "name": "python3"
  },
  "language_info": {
   "codemirror_mode": {
    "name": "ipython",
    "version": 3
   },
   "file_extension": ".py",
   "mimetype": "text/x-python",
   "name": "python",
   "nbconvert_exporter": "python",
   "pygments_lexer": "ipython3",
   "version": "3.10.9"
  }
 },
 "nbformat": 4,
 "nbformat_minor": 5
}
