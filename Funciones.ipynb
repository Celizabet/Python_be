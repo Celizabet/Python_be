{
 "cells": [
  {
   "cell_type": "code",
   "execution_count": 34,
   "id": "2016153f",
   "metadata": {},
   "outputs": [],
   "source": [
    "# Wishlist de un usario \n",
    "\n",
    "wishlist = [\"makeup\",\"book\",\"sneakers\",\"earphones\",\"backpack\",\"smart watch\"]\n",
    "\n",
    "def show_wishlist(user_wishlist):\n",
    "    for i,item in enumerate(wishlist, start=1):\n",
    "            print(\"{}. {}\".format(i,item))"
   ]
  },
  {
   "cell_type": "code",
   "execution_count": 35,
   "id": "91a9d97f",
   "metadata": {},
   "outputs": [
    {
     "name": "stdout",
     "output_type": "stream",
     "text": [
      "1. makeup\n",
      "2. book\n",
      "3. sneakers\n",
      "4. earphones\n",
      "5. backpack\n",
      "6. smart watch\n"
     ]
    }
   ],
   "source": [
    "show_wishlist(wishlist)"
   ]
  },
  {
   "cell_type": "code",
   "execution_count": 26,
   "id": "75e8ed8c",
   "metadata": {},
   "outputs": [],
   "source": [
    "# La función logger va a comprobar las funciones de agregar y eliminar articulos de su wishlist\n",
    "\n",
    "def logger(func):\n",
    "    def log_func(*args):\n",
    "        print(\"Corriendo '{}' con el parámetro '{}'\".format(func.__name__,args))\n",
    "        print(\"Nueva wishlist: \",func(*args))\n",
    "    \n",
    "    return log_func"
   ]
  },
  {
   "cell_type": "code",
   "execution_count": 30,
   "id": "08e956dd",
   "metadata": {},
   "outputs": [],
   "source": [
    "#La función add_item realiza la función de agregar un artículo a la wishlist\n",
    "def add_item(item):\n",
    "    wishlist = [\"makeup\",\"book\",\"sneakers\",\"earphones\",\"backpack\",\"smart watch\"]\n",
    "    wishlist.append(item)\n",
    "    return wishlist\n",
    "\n",
    "#La función del_item realiza la función de eliminar un artículo a la wishlist\n",
    "def del_item(item):\n",
    "    wishlist = [\"makeup\",\"book\",\"sneakers\",\"earphones\",\"backpack\",\"smart watch\"]\n",
    "    if item in wishlist:\n",
    "        wishlist.remove(item)    \n",
    "    return wishlist"
   ]
  },
  {
   "cell_type": "code",
   "execution_count": 31,
   "id": "f2b5eff9",
   "metadata": {},
   "outputs": [],
   "source": [
    "del_log = logger(del_item)\n",
    "add_log = logger(add_item)"
   ]
  },
  {
   "cell_type": "code",
   "execution_count": 32,
   "id": "f3d54229",
   "metadata": {},
   "outputs": [
    {
     "name": "stdout",
     "output_type": "stream",
     "text": [
      "Corriendo 'del_item' con el parámetro '('makeup',)'\n",
      "Nueva wishlist:  ['book', 'sneakers', 'earphones', 'backpack', 'smart watch']\n"
     ]
    }
   ],
   "source": [
    "del_log(\"makeup\")"
   ]
  },
  {
   "cell_type": "code",
   "execution_count": 33,
   "id": "bed9ecc4",
   "metadata": {},
   "outputs": [
    {
     "name": "stdout",
     "output_type": "stream",
     "text": [
      "Corriendo 'add_item' con el parámetro '('watercolors',)'\n",
      "Nueva wishlist:  ['makeup', 'book', 'sneakers', 'earphones', 'backpack', 'smart watch', 'watercolors']\n"
     ]
    }
   ],
   "source": [
    "add_log(\"watercolors\")"
   ]
  }
 ],
 "metadata": {
  "kernelspec": {
   "display_name": "Python 3 (ipykernel)",
   "language": "python",
   "name": "python3"
  },
  "language_info": {
   "codemirror_mode": {
    "name": "ipython",
    "version": 3
   },
   "file_extension": ".py",
   "mimetype": "text/x-python",
   "name": "python",
   "nbconvert_exporter": "python",
   "pygments_lexer": "ipython3",
   "version": "3.10.9"
  }
 },
 "nbformat": 4,
 "nbformat_minor": 5
}
