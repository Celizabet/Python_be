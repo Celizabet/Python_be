{
 "cells": [
  {
   "cell_type": "code",
   "execution_count": 4,
   "id": "e0928480",
   "metadata": {},
   "outputs": [
    {
     "name": "stdout",
     "output_type": "stream",
     "text": [
      "{'AA44', 'AAA4', 'CC44', 'AAA8', '99CC', '4BBB', '44CC', '222D', '999C', 'DD00', 'BBB4', 'CCC1', 'D111', '4444', 'AA99', 'AA11', 'BBB0', 'AA22', '2CCC', 'DDD8', '999D', '99DD', 'DD44', '44DD', '77AA', 'DD22', '666B', 'C888', '1DDD', 'BB44', 'C444', '333C', '222B', '5AAA', 'AAA5', '6DDD', '6666', 'AAAA', '00BB', '444A', '00CC', '55CC', '555A', 'A444', '3DDD', 'A111', '33CC', 'AA00', '5BBB', '222C', '7AAA', '6CCC', 'CCC7', '1CCC', 'DDD7', '66CC', '777B', 'AA66', 'DD88', 'BBB3', 'D000', '66BB', 'C111', 'B222', '888C', '55AA', 'CCC9', 'A333', 'CC66', 'BBB1', 'A999', 'AAA1', '0AAA', 'CCCC', '888A', '0CCC', 'DDD3', '222A', 'DDD4', 'C555', 'CCC4', '1111', 'A888', 'A666', 'DD33', '333D', '2AAA', 'B555', 'D999', 'AA33', 'AA55', '8BBB', '22DD', '0000', '8DDD', '22BB', '5DDD', '111D', '77BB', '999B', '11AA', 'DDD9', 'CCC2', '000D', '22CC', '7BBB', '888D', '2222', 'B666', '7DDD', '11DD', '0BBB', '44AA', '77CC', 'CCC6', 'B111', '33AA', '9CCC', '55DD', 'C000', '3CCC', '777D', 'B999', 'BB77', '333A', 'DD99', '111C', 'BBB9', '33BB', '5555', 'BB00', '4CCC', 'AAA9', 'CC77', '88DD', '8CCC', '99AA', '888B', '1BBB', '3333', 'BB33', '555D', '7777', 'A777', 'BB66', '2DDD', 'D666', 'BBB7', '1AAA', '11BB', 'BBB5', 'CCC0', 'BB55', '000B', '111B', '88CC', '666D', '55BB', '666C', '7CCC', '4AAA', 'AAA6', 'BB88', '9DDD', 'DD55', 'B444', 'CCC5', '000A', '4DDD', 'CC88', 'AAA3', 'DDD0', 'D555', '3AAA', '999A', 'BB22', 'BB11', 'CCC3', 'AA77', 'CC00', 'BBB6', 'CC33', 'BBB8', '333B', 'D333', 'DD66', '111A', 'D444', '66DD', '0DDD', '777A', '777C', '77DD', '9AAA', '3BBB', 'A000', '11CC', '66AA', 'AAA7', '99BB', 'C999', 'AAA2', 'B777', '444C', '555C', 'D888', 'AA88', '666A', '2BBB', 'C777', '9999', 'B000', '44BB', '88AA', 'DD77', '000C', 'C333', 'AAA0', 'DDD1', 'A222', 'CC99', 'BBB2', '444B', 'C666', '88BB', 'B333', 'A555', '5CCC', '8888', 'CC55', 'CC22', 'B888', '00AA', 'BB99', '00DD', 'DDD5', '6AAA', 'D777', 'DDDD', '9BBB', '22AA', 'CCC8', 'DDD2', '555B', 'CC11', 'DDD6', '8AAA', '6BBB', 'BBBB', 'C222', 'DD11', '33DD', '444D', 'D222'}\n"
     ]
    }
   ],
   "source": [
    "numbers = ['0', '1', '2', '3', '4', '5', '6', '7', '8', '9']\n",
    "letters = ['A', 'B', 'C', 'D']\n",
    "unique_combinations = set()\n",
    "\n",
    "for number in numbers:\n",
    "    for letter in letters:\n",
    "        unique_combinations.add(\"{}{}{}{}\".format(number,number,number,number))\n",
    "        unique_combinations.add(\"{}{}{}{}\".format(number,number,number,letter))\n",
    "        unique_combinations.add(\"{}{}{}{}\".format(number,number,letter,letter))\n",
    "        unique_combinations.add(\"{}{}{}{}\".format(number,letter,letter,letter))\n",
    "        unique_combinations.add(\"{}{}{}{}\".format(letter,number,number,number))\n",
    "        unique_combinations.add(\"{}{}{}{}\".format(letter,letter,number,number))\n",
    "        unique_combinations.add(\"{}{}{}{}\".format(letter,letter,letter,number))\n",
    "        unique_combinations.add(\"{}{}{}{}\".format(letter,letter,letter,letter))\n",
    " \n",
    "print(unique_combinations)"
   ]
  },
  {
   "cell_type": "code",
   "execution_count": null,
   "id": "4943772a",
   "metadata": {},
   "outputs": [],
   "source": []
  }
 ],
 "metadata": {
  "kernelspec": {
   "display_name": "Python 3 (ipykernel)",
   "language": "python",
   "name": "python3"
  },
  "language_info": {
   "codemirror_mode": {
    "name": "ipython",
    "version": 3
   },
   "file_extension": ".py",
   "mimetype": "text/x-python",
   "name": "python",
   "nbconvert_exporter": "python",
   "pygments_lexer": "ipython3",
   "version": "3.10.9"
  }
 },
 "nbformat": 4,
 "nbformat_minor": 5
}
