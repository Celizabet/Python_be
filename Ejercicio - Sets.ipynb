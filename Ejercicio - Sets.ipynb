{
 "cells": [
  {
   "cell_type": "code",
   "execution_count": 1,
   "id": "e0928480",
   "metadata": {},
   "outputs": [
    {
     "name": "stdout",
     "output_type": "stream",
     "text": [
      "{'D888', '99C9', '5555', '9D9D', 'AA11', 'CC11', 'D4DD', '6C6C', 'AA1A', 'CC77', 'BB44', '1C11', '2C22', 'BB77', 'DD1D', 'A9A9', '555C', 'A666', 'CC9C', 'AAA7', '00DD', '44CC', '66B6', 'A333', 'B999', '8D88', '99D9', '0B00', '2CC2', 'A4A4', '333B', 'DDD6', 'CCC8', 'CC8C', '66DD', 'C66C', 'DD3D', 'BB3B', 'B6B6', '88D8', '2B22', '0DDD', '2D22', '22B2', '99B9', 'CC4C', '11A1', 'D1DD', 'CC44', 'C2CC', '777B', '5A55', '3A3A', '8A88', '1111', 'D6DD', 'DD88', '77BB', 'B5BB', '333A', 'C111', 'DD22', '66AA', 'D333', '4B44', '5DD5', 'D99D', 'C777', 'DD33', 'C5CC', 'A44A', '1CCC', 'D9D9', '5A5A', 'DDD5', 'AA44', '6BB6', '0C00', '666A', '222B', '3CCC', 'B88B', '3AAA', '666D', 'CC99', '88A8', 'B7BB', 'AA00', 'AA55', 'A66A', '0AA0', '2222', '55D5', '3D33', 'CCC7', 'AAA9', 'D9DD', 'C6C6', 'A7A7', 'A0AA', 'A11A', 'A5A5', 'AA88', '888C', 'DDD4', '7A77', '8A8A', 'DD8D', 'B555', '11DD', 'A4AA', 'D7DD', '11C1', '999C', '4BB4', '88BB', '11CC', 'CC2C', '44AA', '55B5', 'BB1B', 'C33C', 'D44D', '33D3', '7B7B', '8B88', 'AAA5', '111D', '8888', '77DD', 'C11C', '44DD', 'DD99', 'BB66', '7DD7', 'CCC5', '2B2B', '6D6D', 'BB5B', 'B11B', 'D6D6', 'B77B', '11BB', '55DD', '4DD4', '3C3C', '8CC8', '9DD9', '33DD', 'DD5D', 'D555', 'CC5C', '22AA', 'A33A', '999D', 'CCCC', '3D3D', '22BB', '9B99', '88DD', '6DD6', '33A3', '1DD1', '77B7', 'DD9D', 'C77C', 'C00C', 'A3AA', 'B55B', 'D2D2', '3B33', '2C2C', '88B8', 'CC3C', 'D111', 'AAAA', '00D0', '8DDD', '5BB5', '22D2', 'B444', 'AA9A', '00AA', '6CCC', '2DD2', '00CC', '9AAA', 'B4BB', '8C8C', '7BB7', 'BB2B', 'D66D', 'B2B2', '77AA', '777D', 'DDD9', '33C3', '3333', 'C000', 'AAA1', '8BB8', '66CC', 'A8AA', 'DDD0', 'CCC3', 'D666', '3B3B', '00BB', '33BB', 'BB6B', 'C7C7', 'BBB7', '22CC', 'C0C0', 'CC88', '333D', '9BB9', '9CC9', '1AA1', 'D8D8', 'CC0C', 'BBB8', '111B', '2CCC', 'B1B1', '9BBB', 'A3A3', '22DD', '1DDD', 'B333', '66BB', '5B55', '99BB', 'C9CC', 'AAA2', '222A', 'CC7C', 'CC6C', 'B7B7', 'AAA8', 'A6AA', 'AA3A', 'AA8A', 'AA77', 'DD77', 'BB00', '44C4', '8AA8', '222C', 'D55D', '1CC1', 'D0D0', '1D11', '2BBB', 'DD6D', '0BB0', '9DDD', 'C99C', 'CC22', '55A5', 'C7CC', '1C1C', 'BB22', 'DDD2', '5DDD', 'D3DD', 'B66B', '1BBB', '3A33', 'B000', 'DD11', '6666', '00B0', '0AAA', '6C66', 'C6CC', '99A9', 'CCC9', '3BBB', '8AAA', '888A', 'CC33', '6D66', '4A44', '4BBB', '0D0D', '77C7', 'BBB3', '44A4', 'DD00', 'AAA6', 'CC1C', 'AAA3', 'BB88', 'AA7A', '9C9C', '888D', 'C444', 'B5B5', 'AA33', 'BB33', '99DD', '66A6', 'D5DD', '88C8', 'B9B9', 'DD44', 'B99B', '555B', '44B4', 'BBB6', 'BBBB', 'C8CC', 'A111', 'BB4B', '6B66', 'DD4D', '1A11', 'B3BB', '6AAA', '0BBB', 'C9C9', 'D777', '11D1', 'C1CC', 'A9AA', 'BBB2', '77CC', '9C99', '88AA', 'C888', 'B111', 'DDDD', 'D3D3', 'C0CC', 'D5D5', '6CC6', 'D000', '4D44', 'A777', '11B1', '33CC', '5BBB', 'D7D7', 'B4B4', 'A999', 'A888', 'A1A1', 'CCC0', 'A22A', '0DD0', '5AA5', '55AA', 'DD0D', 'AA22', '55BB', 'AA99', 'A99A', '2A22', 'A2AA', '2A2A', 'BB11', 'D33D', '000C', '6A66', 'A6A6', '6AA6', '666C', '0A00', 'D999', 'C3CC', '000B', '3DDD', '888B', 'DDD3', '666B', '2AA2', '9A99', '6DDD', '4C44', 'D22D', '555D', '8BBB', '0000', '6BBB', '0B0B', '44D4', '7B77', 'A0A0', '5D5D', '8C88', 'BB99', '0C0C', '999B', '00C0', 'A444', '7DDD', 'AAA4', 'DD55', 'C8C8', '77A7', 'A222', '5B5B', 'C55C', 'A1AA', 'DDD7', 'D00D', 'C999', 'B0B0', 'B33B', '6B6B', '0CCC', '2DDD', 'A555', 'BBB9', 'C666', '8B8B', '0CC0', 'D222', '222D', 'C4CC', 'BB55', 'C4C4', '55C5', '777A', '333C', '9AA9', 'AAA0', 'B1BB', 'AA4A', 'BBB0', 'CC55', '7BBB', '2AAA', 'C333', 'D444', '33AA', '4A4A', '66C6', 'B2BB', '4AAA', '1AAA', 'CCC6', '4444', 'BBB4', 'DD7D', '8D8D', 'D2DD', '5AAA', '6A6A', '00A0', '7C7C', '3AA3', '9D99', '88CC', '5D55', '2D2D', '1D1D', '22A2', 'A8A8', 'B8BB', 'CCC4', '4CC4', 'AA66', 'AA2A', '7A7A', '7AA7', 'D1D1', 'C22C', '4DDD', 'CCC2', '33B3', 'DDD8', '8CCC', 'BBB5', 'A00A', '7D7D', '0A0A', 'B0BB', 'C222', '77D7', '4CCC', '5CC5', 'A5AA', '4C4C', 'CC00', 'D11D', '7777', '111C', '4B4B', '9B9B', '7CCC', 'CC66', 'BB0B', '444B', 'D4D4', '99CC', '444C', '7D77', 'D77D', '3C33', 'B777', '9A9A', '9CCC', 'C1C1', '000D', '4D4D', '7AAA', '3DD3', '1B1B', '111A', '9999', '777C', '444D', '7C77', '22C2', '0D00', 'C5C5', '11AA', '999A', 'B3B3', 'B222', '5C55', 'B6BB', 'AA0A', 'C44C', '5C5C', 'B00B', 'A2A2', 'A55A', 'A000', 'C2C2', 'B22B', '1B11', 'DD2D', 'A7AA', 'BB7B', '55CC', 'D88D', 'B666', 'B8B8', 'A88A', 'DD66', '3BB3', '5CCC', '444A', '99AA', 'AA6A', '1A1A', 'AA5A', '44BB', '3CC3', 'B44B', 'BB8B', '8DD8', 'DDD1', '2BB2', 'BBB1', 'D8DD', 'BB9B', '555A', 'A77A', 'D0DD', 'CCC1', '4AA4', '7CC7', '66D6', 'B9BB', '000A', 'B888', 'C555', '1BB1', 'C3C3', 'C88C'}\n"
     ]
    }
   ],
   "source": [
    "numbers = ['0', '1', '2', '3', '4', '5', '6', '7', '8', '9']\n",
    "letters = ['A', 'B', 'C', 'D']\n",
    "unique_combinations = set()\n",
    "\n",
    "for number in numbers:\n",
    "    for letter in letters:\n",
    "        unique_combinations.add(\"{}{}{}{}\".format(number,number,number,number))\n",
    "        unique_combinations.add(\"{}{}{}{}\".format(number,number,number,letter))\n",
    "        unique_combinations.add(\"{}{}{}{}\".format(number,number,letter,number))\n",
    "        unique_combinations.add(\"{}{}{}{}\".format(number,letter,number,number))\n",
    "        unique_combinations.add(\"{}{}{}{}\".format(letter,number,number,number))\n",
    "        unique_combinations.add(\"{}{}{}{}\".format(letter,letter,letter,letter))\n",
    "        unique_combinations.add(\"{}{}{}{}\".format(letter,letter,letter,number))\n",
    "        unique_combinations.add(\"{}{}{}{}\".format(letter,letter,number,letter))\n",
    "        unique_combinations.add(\"{}{}{}{}\".format(letter,number,letter,letter))\n",
    "        unique_combinations.add(\"{}{}{}{}\".format(number,letter,letter,letter))\n",
    "        unique_combinations.add(\"{}{}{}{}\".format(number,number,letter,letter))\n",
    "        unique_combinations.add(\"{}{}{}{}\".format(number,letter,number,letter))\n",
    "        unique_combinations.add(\"{}{}{}{}\".format(number,letter,letter,number))\n",
    "        unique_combinations.add(\"{}{}{}{}\".format(letter,letter,number,number))\n",
    "        unique_combinations.add(\"{}{}{}{}\".format(letter,number,letter,number))\n",
    "        unique_combinations.add(\"{}{}{}{}\".format(letter,number,number,letter))\n",
    " \n",
    "print(unique_combinations)"
   ]
  },
  {
   "cell_type": "code",
   "execution_count": null,
   "id": "4943772a",
   "metadata": {},
   "outputs": [],
   "source": []
  }
 ],
 "metadata": {
  "kernelspec": {
   "display_name": "Python 3 (ipykernel)",
   "language": "python",
   "name": "python3"
  },
  "language_info": {
   "codemirror_mode": {
    "name": "ipython",
    "version": 3
   },
   "file_extension": ".py",
   "mimetype": "text/x-python",
   "name": "python",
   "nbconvert_exporter": "python",
   "pygments_lexer": "ipython3",
   "version": "3.10.9"
  }
 },
 "nbformat": 4,
 "nbformat_minor": 5
}
