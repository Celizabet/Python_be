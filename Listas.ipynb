{
 "cells": [
  {
   "cell_type": "markdown",
   "id": "3fe03dd2",
   "metadata": {},
   "source": [
    "## Diferentes formas de crear listas"
   ]
  },
  {
   "cell_type": "code",
   "execution_count": 1,
   "id": "42e193a0",
   "metadata": {},
   "outputs": [
    {
     "name": "stdout",
     "output_type": "stream",
     "text": [
      "[3, 3, 3, 3, 3]\n"
     ]
    }
   ],
   "source": [
    "my_list = [3] * 5\n",
    "print(my_list)"
   ]
  },
  {
   "cell_type": "code",
   "execution_count": 2,
   "id": "937d126f",
   "metadata": {},
   "outputs": [
    {
     "name": "stdout",
     "output_type": "stream",
     "text": [
      "[1, 2, 3, 4, 5]\n"
     ]
    }
   ],
   "source": [
    "my_list = [1,2,3,4,5] \n",
    "print(my_list)"
   ]
  },
  {
   "cell_type": "code",
   "execution_count": 3,
   "id": "b49340d4",
   "metadata": {},
   "outputs": [
    {
     "name": "stdout",
     "output_type": "stream",
     "text": [
      "[0, 1, 2, 3, 4, 5, 6, 7, 8, 9]\n"
     ]
    }
   ],
   "source": [
    "my_list = []\n",
    "for number in range(10):\n",
    "    my_list.append(number)\n",
    "\n",
    "print(my_list)"
   ]
  },
  {
   "cell_type": "code",
   "execution_count": 4,
   "id": "d5021d2f",
   "metadata": {},
   "outputs": [
    {
     "name": "stdout",
     "output_type": "stream",
     "text": [
      "[0, 1, 2, 3, 4, 5, 6, 7, 8, 9]\n"
     ]
    }
   ],
   "source": [
    "my_list = []\n",
    "for number in range(10):\n",
    "    my_list+=[number] #my_list = my_list + number\n",
    "              #se debe sumar una lista más una lista\n",
    "print(my_list)"
   ]
  },
  {
   "cell_type": "code",
   "execution_count": 3,
   "id": "61bea705",
   "metadata": {},
   "outputs": [
    {
     "name": "stdout",
     "output_type": "stream",
     "text": [
      "[0, 1, 2, 3, 4, 5, 6, 7, 8, 9, 10, 11, 12, 13, 14]\n"
     ]
    }
   ],
   "source": [
    "my_list = [number for number in range(15)]\n",
    "print(my_list)"
   ]
  },
  {
   "cell_type": "markdown",
   "id": "0cf7ed7b",
   "metadata": {},
   "source": [
    "### Imprimir sublistas "
   ]
  },
  {
   "cell_type": "code",
   "execution_count": 4,
   "id": "11e432f9",
   "metadata": {},
   "outputs": [
    {
     "name": "stdout",
     "output_type": "stream",
     "text": [
      "[0, 1, 2, 3, 4, 5, 6, 7, 8, 9, 10, 11, 12, 13, 14]\n"
     ]
    }
   ],
   "source": [
    "my_list = [number for number in range(15)]\n",
    "print(my_list)"
   ]
  },
  {
   "cell_type": "code",
   "execution_count": 6,
   "id": "11f7aaac",
   "metadata": {},
   "outputs": [
    {
     "name": "stdout",
     "output_type": "stream",
     "text": [
      "[0, 1, 2, 3]\n"
     ]
    }
   ],
   "source": [
    "my_sublist = my_list[:4]\n",
    "print(my_sublist)"
   ]
  },
  {
   "cell_type": "code",
   "execution_count": 7,
   "id": "22190652",
   "metadata": {},
   "outputs": [
    {
     "name": "stdout",
     "output_type": "stream",
     "text": [
      "[3, 4, 5, 6]\n"
     ]
    }
   ],
   "source": [
    "my_sublist = my_list[3:7]\n",
    "print(my_sublist)"
   ]
  },
  {
   "cell_type": "code",
   "execution_count": 9,
   "id": "70277417",
   "metadata": {},
   "outputs": [
    {
     "name": "stdout",
     "output_type": "stream",
     "text": [
      "[5, 6, 7, 8, 9, 10, 11, 12, 13, 14, 15, 16, 17, 18, 19]\n"
     ]
    }
   ],
   "source": [
    "my_list = [number for number in range(5,20)]\n",
    "print(my_list)"
   ]
  },
  {
   "cell_type": "code",
   "execution_count": 10,
   "id": "a91aeab3",
   "metadata": {},
   "outputs": [
    {
     "name": "stdout",
     "output_type": "stream",
     "text": [
      "[15, 16, 17, 18, 19]\n"
     ]
    }
   ],
   "source": [
    "my_sublist = my_list[10:]\n",
    "print(my_sublist)"
   ]
  },
  {
   "cell_type": "code",
   "execution_count": 11,
   "id": "f5de81c6",
   "metadata": {},
   "outputs": [
    {
     "name": "stdout",
     "output_type": "stream",
     "text": [
      "15\n"
     ]
    }
   ],
   "source": [
    "#accediendo a un índice en específico de la lista\n",
    "print(my_list[10])"
   ]
  },
  {
   "cell_type": "code",
   "execution_count": 13,
   "id": "1fddc352",
   "metadata": {},
   "outputs": [
    {
     "name": "stdout",
     "output_type": "stream",
     "text": [
      "17\n"
     ]
    }
   ],
   "source": [
    "#accediendo a un índice en específico de la sublista\n",
    "print(my_sublist[2])"
   ]
  },
  {
   "cell_type": "markdown",
   "id": "d8a41321",
   "metadata": {},
   "source": [
    "### Creación de listas, usando range y Numpy"
   ]
  },
  {
   "cell_type": "code",
   "execution_count": 14,
   "id": "5767a4ae",
   "metadata": {},
   "outputs": [
    {
     "name": "stdout",
     "output_type": "stream",
     "text": [
      "[range(1, 5)]\n"
     ]
    }
   ],
   "source": [
    "#range (inicio,fin,incremento)\n",
    "my_list = [range(1,5,1)]\n",
    "print(my_list)\n",
    "\n",
    "#Imprime una lista de rangos"
   ]
  },
  {
   "cell_type": "code",
   "execution_count": 15,
   "id": "d12e9c3e",
   "metadata": {},
   "outputs": [
    {
     "name": "stdout",
     "output_type": "stream",
     "text": [
      "[1, 2, 3, 4]\n"
     ]
    }
   ],
   "source": [
    "#para que se imprima dato por dato es necesario agregar un asterísco\n",
    "my_list = [*range(1,5,1)] #antes de range\n",
    "print(my_list)"
   ]
  },
  {
   "cell_type": "code",
   "execution_count": 16,
   "id": "fde17b6b",
   "metadata": {},
   "outputs": [
    {
     "name": "stdout",
     "output_type": "stream",
     "text": [
      "[1, 5, 9, 13, 17]\n"
     ]
    }
   ],
   "source": [
    "my_list = [*range(1,20,4)]\n",
    "print(my_list)"
   ]
  },
  {
   "cell_type": "markdown",
   "id": "0038c72d",
   "metadata": {},
   "source": [
    "#### -- Numpy"
   ]
  },
  {
   "cell_type": "code",
   "execution_count": 17,
   "id": "d615b9a2",
   "metadata": {},
   "outputs": [
    {
     "name": "stdout",
     "output_type": "stream",
     "text": [
      "[1, 5, 9, 13, 17]\n"
     ]
    }
   ],
   "source": [
    "import numpy as np\n",
    "my_list = np.arange(1,20,4).tolist()\n",
    "print(my_list)\n",
    "\n",
    "#mismo resultado que el ejemplo anterior"
   ]
  },
  {
   "cell_type": "markdown",
   "id": "c095e3a8",
   "metadata": {},
   "source": [
    "### Listas anidadas "
   ]
  },
  {
   "cell_type": "code",
   "execution_count": 19,
   "id": "90b7a818",
   "metadata": {},
   "outputs": [
    {
     "name": "stdout",
     "output_type": "stream",
     "text": [
      "[1, 2, 3, 4, 5]\n",
      "5\n"
     ]
    }
   ],
   "source": [
    "my_list = [1,2,3,4,5]\n",
    "print(my_list)\n",
    "\n",
    "#índice 4\n",
    "print(my_list[4])"
   ]
  },
  {
   "cell_type": "code",
   "execution_count": 20,
   "id": "c9c024b4",
   "metadata": {},
   "outputs": [
    {
     "name": "stdout",
     "output_type": "stream",
     "text": [
      "[[1, 2, 3, 4, 5], [6, 7, 8, 9, 10]]\n",
      "[6, 7, 8, 9, 10]\n",
      "8\n"
     ]
    }
   ],
   "source": [
    "my_list = [[1,2,3,4,5],[6,7,8,9,10]]\n",
    "print(my_list) #lista completa\n",
    "print(my_list[1]) #índice 1\n",
    "print(my_list[1][2]) #índice 2, del índice 1"
   ]
  },
  {
   "cell_type": "markdown",
   "id": "432143a4",
   "metadata": {},
   "source": [
    "### Ordenando listas"
   ]
  },
  {
   "cell_type": "code",
   "execution_count": 22,
   "id": "f1bf8818",
   "metadata": {},
   "outputs": [
    {
     "name": "stdout",
     "output_type": "stream",
     "text": [
      "[5, 3, 1, 15, 2, 20]\n",
      "[1, 2, 3, 5, 15, 20]\n"
     ]
    }
   ],
   "source": [
    "my_list = [5,3,1,15,2,20]\n",
    "print(my_list)\n",
    "\n",
    "my_list.sort() #por default, ordena de menor a mayor\n",
    "print(my_list) #no se necesita reasignar la variable"
   ]
  },
  {
   "cell_type": "code",
   "execution_count": 23,
   "id": "889908cd",
   "metadata": {},
   "outputs": [
    {
     "name": "stdout",
     "output_type": "stream",
     "text": [
      "[5, 3, 1, 15, 2, 20]\n",
      "[20, 15, 5, 3, 2, 1]\n"
     ]
    }
   ],
   "source": [
    "my_list = [5,3,1,15,2,20]\n",
    "print(my_list)\n",
    "\n",
    "my_list.sort(reverse = True) #para ordenar la lista en orden descendente\n",
    "print(my_list)"
   ]
  },
  {
   "cell_type": "code",
   "execution_count": 24,
   "id": "00d02600",
   "metadata": {},
   "outputs": [
    {
     "name": "stdout",
     "output_type": "stream",
     "text": [
      "['caballo', 'abeja', 'jirafa', 'ballena']\n",
      "['abeja', 'ballena', 'caballo', 'jirafa']\n"
     ]
    }
   ],
   "source": [
    "#Con letras \n",
    "my_list = [\"caballo\",\"abeja\",\"jirafa\",\"ballena\"]\n",
    "print(my_list)\n",
    "my_list.sort() #ordena alfabeticamente\n",
    "print(my_list)"
   ]
  },
  {
   "cell_type": "code",
   "execution_count": 25,
   "id": "abd8279a",
   "metadata": {},
   "outputs": [
    {
     "name": "stdout",
     "output_type": "stream",
     "text": [
      "['caballo', 'abeja', 'jirafa', 'ballena']\n",
      "['jirafa', 'caballo', 'ballena', 'abeja']\n"
     ]
    }
   ],
   "source": [
    "my_list = [\"caballo\",\"abeja\",\"jirafa\",\"ballena\"]\n",
    "print(my_list)\n",
    "my_list.sort(reverse = True)\n",
    "print(my_list)"
   ]
  },
  {
   "cell_type": "markdown",
   "id": "99260ab4",
   "metadata": {},
   "source": [
    "### Conversión de listas\n",
    "\n",
    "#### De cadenas a listas"
   ]
  },
  {
   "cell_type": "code",
   "execution_count": 26,
   "id": "bc9097ad",
   "metadata": {},
   "outputs": [
    {
     "name": "stdout",
     "output_type": "stream",
     "text": [
      "Curso de Backend Python\n",
      "['Curso', 'de', 'Backend', 'Python']\n"
     ]
    }
   ],
   "source": [
    "#separar palabras\n",
    "my_string = \"Curso de Backend Python\"\n",
    "my_list = my_string.split() #usa los espacios como separador\n",
    "print(my_string)\n",
    "print(my_list)"
   ]
  },
  {
   "cell_type": "code",
   "execution_count": 27,
   "id": "35207ff3",
   "metadata": {},
   "outputs": [
    {
     "name": "stdout",
     "output_type": "stream",
     "text": [
      "Curso de Backend Python\n",
      "['C', 'u', 'r', 's', 'o', ' ', 'd', 'e', ' ', 'B', 'a', 'c', 'k', 'e', 'n', 'd', ' ', 'P', 'y', 't', 'h', 'o', 'n']\n"
     ]
    }
   ],
   "source": [
    "#separar caracteres\n",
    "my_string = \"Curso de Backend Python\"\n",
    "my_list = list(my_string) #no se utiliza split()\n",
    "print(my_string)\n",
    "print(my_list)"
   ]
  },
  {
   "cell_type": "code",
   "execution_count": 28,
   "id": "1cf39d26",
   "metadata": {},
   "outputs": [
    {
     "name": "stdout",
     "output_type": "stream",
     "text": [
      "Curso de Backend Python\n",
      "[['C'], ['u'], ['r'], ['s'], ['o'], [' '], ['d'], ['e'], [' '], ['B'], ['a'], ['c'], ['k'], ['e'], ['n'], ['d'], [' '], ['P'], ['y'], ['t'], ['h'], ['o'], ['n']]\n"
     ]
    }
   ],
   "source": [
    "#separar caracteres en una lista de listas\n",
    "my_string = \"Curso de Backend Python\"\n",
    "my_list = list(map(list,my_string))\n",
    "print(my_string)\n",
    "print(my_list)"
   ]
  },
  {
   "cell_type": "markdown",
   "id": "a6577c5e",
   "metadata": {},
   "source": [
    "### Listas a cadenas"
   ]
  },
  {
   "cell_type": "code",
   "execution_count": 29,
   "id": "5ecef331",
   "metadata": {},
   "outputs": [
    {
     "name": "stdout",
     "output_type": "stream",
     "text": [
      "['Curso', 'de', 'Backend', 'Python']\n",
      "Curso de Backend Python\n"
     ]
    }
   ],
   "source": [
    "#usando espacios entre palabras\n",
    "my_list = ['Curso', 'de', 'Backend', 'Python']\n",
    "my_string = \" \".join(my_list) #el espacio es la 'unión'\n",
    "print(my_list)\n",
    "print(my_string)"
   ]
  },
  {
   "cell_type": "code",
   "execution_count": 30,
   "id": "14b94ca3",
   "metadata": {},
   "outputs": [
    {
     "name": "stdout",
     "output_type": "stream",
     "text": [
      "['C', 'u', 'r', 's', 'o', ' ', 'd', 'e', ' ', 'B', 'a', 'c', 'k', 'e', 'n', 'd', ' ', 'P', 'y', 't', 'h', 'o', 'n']\n",
      "Curso de Backend Python\n"
     ]
    }
   ],
   "source": [
    "my_list = ['C', 'u', 'r', 's', 'o', ' ', 'd', 'e', ' ', 'B', 'a', 'c', 'k', 'e', 'n', 'd', ' ', 'P', 'y', 't', 'h', 'o', 'n']\n",
    "my_string = \"\".join(my_list) #sin espacios, la lista ya cuenta con espacios\n",
    "print(my_list)\n",
    "print(my_string)"
   ]
  },
  {
   "cell_type": "code",
   "execution_count": 31,
   "id": "37fc73a8",
   "metadata": {},
   "outputs": [
    {
     "name": "stdout",
     "output_type": "stream",
     "text": [
      "[['C'], ['u'], ['r'], ['s'], ['o'], [' '], ['d'], ['e'], [' '], ['B'], ['a'], ['c'], ['k'], ['e'], ['n'], ['d'], [' '], ['P'], ['y'], ['t'], ['h'], ['o'], ['n']]\n",
      "Curso de Backend Python\n"
     ]
    }
   ],
   "source": [
    "my_list = [['C'], ['u'], ['r'], ['s'], ['o'], [' '], ['d'], ['e'], [' '], ['B'], ['a'], ['c'], ['k'], ['e'], ['n'], ['d'], [' '], ['P'], ['y'], ['t'], ['h'], ['o'], ['n']]\n",
    "my_string = \"\".join([\"\".join(element) for element in my_list])\n",
    "print(my_list)               #cada elemento de mi lista hazle join\n",
    "print(my_string)           #posteriormente hace join de cada lista interna"
   ]
  },
  {
   "cell_type": "markdown",
   "id": "33845d5b",
   "metadata": {},
   "source": [
    "### Creación de listas con valores de entrada"
   ]
  },
  {
   "cell_type": "code",
   "execution_count": 32,
   "id": "f081d198",
   "metadata": {},
   "outputs": [
    {
     "name": "stdout",
     "output_type": "stream",
     "text": [
      "Ingresa los valores separados por espacio:7 4 2 1 6 7 4 2 1\n",
      "7 4 2 1 6 7 4 2 1\n",
      "['7', '4', '2', '1', '6', '7', '4', '2', '1']\n"
     ]
    }
   ],
   "source": [
    "my_string = input(\"Ingresa los valores separados por espacio:\")\n",
    "my_list = my_string.split()\n",
    "print(my_string)\n",
    "print(my_list)"
   ]
  },
  {
   "cell_type": "code",
   "execution_count": 42,
   "id": "0cb67295",
   "metadata": {},
   "outputs": [
    {
     "name": "stdout",
     "output_type": "stream",
     "text": [
      "<map object at 0x000001783FF41960>\n"
     ]
    }
   ],
   "source": [
    "my_list = map(int, my_string.split())\n",
    "print(my_list)"
   ]
  },
  {
   "cell_type": "markdown",
   "id": "8c5f25f9",
   "metadata": {},
   "source": [
    "## Métodos para la manipulación de listas\n",
    "\n",
    "### append\n",
    "Agrega un elemento final de una lista"
   ]
  },
  {
   "cell_type": "code",
   "execution_count": 34,
   "id": "918c8363",
   "metadata": {},
   "outputs": [
    {
     "name": "stdout",
     "output_type": "stream",
     "text": [
      "['caballo', 'abeja', 'jirafa', 'ballena']\n",
      "4\n"
     ]
    }
   ],
   "source": [
    "my_list = [\"caballo\",\"abeja\",\"jirafa\",\"ballena\"]\n",
    "print(my_list)\n",
    "print(len(my_list))"
   ]
  },
  {
   "cell_type": "code",
   "execution_count": 35,
   "id": "e724d6f7",
   "metadata": {},
   "outputs": [
    {
     "name": "stdout",
     "output_type": "stream",
     "text": [
      "['caballo', 'abeja', 'jirafa', 'ballena', 'delfin']\n",
      "5\n"
     ]
    }
   ],
   "source": [
    "my_list.append(\"delfin\")\n",
    "print(my_list)\n",
    "print(len(my_list))"
   ]
  },
  {
   "cell_type": "code",
   "execution_count": 36,
   "id": "5064c5fc",
   "metadata": {},
   "outputs": [
    {
     "name": "stdout",
     "output_type": "stream",
     "text": [
      "['caballo', 'abeja', 'jirafa', 'ballena', 'delfin', 'delfin']\n",
      "6\n"
     ]
    }
   ],
   "source": [
    "my_list.append(\"delfin\")\n",
    "print(my_list)\n",
    "print(len(my_list))"
   ]
  },
  {
   "cell_type": "code",
   "execution_count": 37,
   "id": "c3cc0cb6",
   "metadata": {},
   "outputs": [
    {
     "name": "stdout",
     "output_type": "stream",
     "text": [
      "[300, 500, 100, 200]\n",
      "4\n",
      "[300, 500, 100, 200, 333]\n"
     ]
    }
   ],
   "source": [
    "my_list = [300, 500, 100, 200]\n",
    "print(my_list)\n",
    "print(len(my_list))\n",
    "\n",
    "my_list.append(333)\n",
    "print(my_list)"
   ]
  },
  {
   "cell_type": "markdown",
   "id": "d7311a77",
   "metadata": {},
   "source": [
    "### insert\n",
    "\n",
    "Agrega un valor a una lista en una posición especifica\n",
    "\n",
    "Sintaxis: insert(índice, valor)"
   ]
  },
  {
   "cell_type": "code",
   "execution_count": 38,
   "id": "993f8d97",
   "metadata": {},
   "outputs": [
    {
     "name": "stdout",
     "output_type": "stream",
     "text": [
      "['caballo', 'abeja', 'jirafa', 'ballena']\n",
      "['caballo', 'abeja', 'gato', 'jirafa', 'ballena']\n"
     ]
    }
   ],
   "source": [
    "my_list = [\"caballo\",\"abeja\",\"jirafa\",\"ballena\"]\n",
    "print(my_list)\n",
    "\n",
    "my_list.insert(2, \"gato\")\n",
    "print(my_list)"
   ]
  },
  {
   "cell_type": "markdown",
   "id": "897f3029",
   "metadata": {},
   "source": [
    "### clear\n",
    "\n",
    "Elimina todos los elementos de la lista"
   ]
  },
  {
   "cell_type": "code",
   "execution_count": 39,
   "id": "6e012c5c",
   "metadata": {},
   "outputs": [
    {
     "name": "stdout",
     "output_type": "stream",
     "text": [
      "['caballo', 'abeja', 'jirafa', 'ballena']\n",
      "[]\n"
     ]
    }
   ],
   "source": [
    "my_list = [\"caballo\",\"abeja\",\"jirafa\",\"ballena\"]\n",
    "print(my_list)\n",
    "\n",
    "my_list.clear()\n",
    "print(my_list) #queda una lista vacía"
   ]
  },
  {
   "cell_type": "markdown",
   "id": "03d0859c",
   "metadata": {},
   "source": [
    "### copy\n",
    "Copia los elementos de una lista"
   ]
  },
  {
   "cell_type": "code",
   "execution_count": 40,
   "id": "a42ce018",
   "metadata": {},
   "outputs": [
    {
     "name": "stdout",
     "output_type": "stream",
     "text": [
      "['caballo', 'abeja', 'jirafa', 'ballena']\n",
      "['caballo', 'abeja', 'jirafa', 'ballena']\n"
     ]
    }
   ],
   "source": [
    "my_list = [\"caballo\",\"abeja\",\"jirafa\",\"ballena\"]\n",
    "print(my_list)\n",
    "\n",
    "my_list_copy = my_list.copy()\n",
    "print(my_list_copy)"
   ]
  },
  {
   "cell_type": "code",
   "execution_count": 41,
   "id": "725489db",
   "metadata": {},
   "outputs": [
    {
     "name": "stdout",
     "output_type": "stream",
     "text": [
      "['caballo', 'abeja', 'jirafa', 'ballena']\n",
      "[]\n"
     ]
    }
   ],
   "source": [
    "#copiar no es lo mismo que asignar, los cambios realizados en \n",
    "# una copia no afecta a la lista original.\n",
    "\n",
    "my_list_copy.clear()\n",
    "print(my_list)\n",
    "print(my_list_copy)"
   ]
  },
  {
   "cell_type": "markdown",
   "id": "c4287eac",
   "metadata": {},
   "source": [
    "### count\n",
    "Cuenta cuantas veces aparece un elemento en una lista"
   ]
  },
  {
   "cell_type": "code",
   "execution_count": 43,
   "id": "534a4630",
   "metadata": {},
   "outputs": [
    {
     "name": "stdout",
     "output_type": "stream",
     "text": [
      "[100, 300, 500, 100, 200, 100, 300]\n"
     ]
    }
   ],
   "source": [
    "my_list = [100, 300, 500, 100, 200, 100, 300]\n",
    "print(my_list)"
   ]
  },
  {
   "cell_type": "code",
   "execution_count": 45,
   "id": "826971cc",
   "metadata": {},
   "outputs": [
    {
     "name": "stdout",
     "output_type": "stream",
     "text": [
      "El número 100 aparece 3 veces en la lista\n"
     ]
    }
   ],
   "source": [
    "print(\"El número 100 aparece {} veces en la lista\".format(my_list.count(100)))"
   ]
  },
  {
   "cell_type": "markdown",
   "id": "de41b636",
   "metadata": {},
   "source": [
    "### index\n",
    "Obtiene el primer índice de una lista que hace match con el elemento solicitado"
   ]
  },
  {
   "cell_type": "code",
   "execution_count": 46,
   "id": "178cdb8d",
   "metadata": {},
   "outputs": [
    {
     "name": "stdout",
     "output_type": "stream",
     "text": [
      "[100, 300, 500, 100, 200, 100, 300]\n"
     ]
    }
   ],
   "source": [
    "my_list = [100, 300, 500, 100, 200, 100, 300]\n",
    "print(my_list)"
   ]
  },
  {
   "cell_type": "code",
   "execution_count": 49,
   "id": "cffca0ac",
   "metadata": {},
   "outputs": [
    {
     "name": "stdout",
     "output_type": "stream",
     "text": [
      "El índice de la primera aparición del número 100 es 0\n"
     ]
    }
   ],
   "source": [
    "print(\"El índice de la primera aparición del número 100 es {}\".format(my_list.index(100)))"
   ]
  },
  {
   "cell_type": "code",
   "execution_count": 48,
   "id": "d755c2e8",
   "metadata": {},
   "outputs": [
    {
     "name": "stdout",
     "output_type": "stream",
     "text": [
      "El índice de la primera aparición del número 500 es 2\n"
     ]
    }
   ],
   "source": [
    "print(\"El índice de la primera aparición del número 500 es {}\".format(my_list.index(500)))"
   ]
  },
  {
   "cell_type": "markdown",
   "id": "7d36aefc",
   "metadata": {},
   "source": [
    "### extend()\n",
    "Combina 2 listas"
   ]
  },
  {
   "cell_type": "code",
   "execution_count": 50,
   "id": "52c1f0a4",
   "metadata": {},
   "outputs": [
    {
     "name": "stdout",
     "output_type": "stream",
     "text": [
      "['caballo', 'abeja', 'jirafa', 'ballena']\n",
      "['delfin', 'gato']\n",
      "['caballo', 'abeja', 'jirafa', 'ballena', 'delfin', 'gato']\n"
     ]
    }
   ],
   "source": [
    "my_list = [\"caballo\",\"abeja\",\"jirafa\",\"ballena\"]\n",
    "print(my_list)\n",
    "\n",
    "my_list_2 = [\"delfin\",\"gato\"]\n",
    "print(my_list_2)\n",
    "\n",
    "my_list.extend(my_list_2)\n",
    "print(my_list)"
   ]
  },
  {
   "cell_type": "markdown",
   "id": "39d4865c",
   "metadata": {},
   "source": [
    "### pop\n",
    "Elimina elementos de una lista basandose en los índices"
   ]
  },
  {
   "cell_type": "code",
   "execution_count": 51,
   "id": "1e96eaa1",
   "metadata": {},
   "outputs": [
    {
     "name": "stdout",
     "output_type": "stream",
     "text": [
      "[100, 300, 500, 100, 200, 100, 300]\n",
      "7\n"
     ]
    }
   ],
   "source": [
    "my_list = [100,300,500,100,200,100,300]\n",
    "print(my_list)\n",
    "print(len(my_list))"
   ]
  },
  {
   "cell_type": "code",
   "execution_count": 52,
   "id": "8fb95a87",
   "metadata": {},
   "outputs": [
    {
     "name": "stdout",
     "output_type": "stream",
     "text": [
      "[100, 300, 500, 100, 200, 100]\n",
      "6\n"
     ]
    }
   ],
   "source": [
    "#elimina índice -1 por default\n",
    "my_list.pop()\n",
    "print(my_list)\n",
    "print(len(my_list))"
   ]
  },
  {
   "cell_type": "code",
   "execution_count": 53,
   "id": "e53d614f",
   "metadata": {},
   "outputs": [
    {
     "name": "stdout",
     "output_type": "stream",
     "text": [
      "[100, 300, 100, 200, 100]\n",
      "5\n"
     ]
    }
   ],
   "source": [
    "my_list.pop(2) #en este caso se le pasa el índice 2\n",
    "print(my_list)\n",
    "print(len(my_list))"
   ]
  },
  {
   "cell_type": "markdown",
   "id": "3993e8bb",
   "metadata": {},
   "source": [
    "### remove\n",
    "Elimina la primera aparición de un valor de una lista"
   ]
  },
  {
   "cell_type": "code",
   "execution_count": 55,
   "id": "955b596d",
   "metadata": {},
   "outputs": [
    {
     "name": "stdout",
     "output_type": "stream",
     "text": [
      "[100, 300, 500, 100, 200, 100, 300]\n",
      "7\n",
      "[300, 500, 100, 200, 100, 300]\n",
      "6\n"
     ]
    }
   ],
   "source": [
    "my_list = [100,300,500,100,200,100,300]\n",
    "print(my_list)\n",
    "print(len(my_list))\n",
    "\n",
    "my_list.remove(100)\n",
    "print(my_list)\n",
    "print(len(my_list))"
   ]
  },
  {
   "cell_type": "code",
   "execution_count": null,
   "id": "e0683cbc",
   "metadata": {},
   "outputs": [],
   "source": [
    "#error - el valor debe estar en la lista\n",
    "my_list.remove(600) #600 no está en la lista\n",
    "print(my_list)"
   ]
  },
  {
   "cell_type": "markdown",
   "id": "85c259cc",
   "metadata": {},
   "source": [
    "### reverse\n",
    "Invierte el orden de una lista"
   ]
  },
  {
   "cell_type": "code",
   "execution_count": 56,
   "id": "5f274ebf",
   "metadata": {},
   "outputs": [
    {
     "name": "stdout",
     "output_type": "stream",
     "text": [
      "['caballo', 'abeja', 'jirafa', 'ballena']\n",
      "['ballena', 'jirafa', 'abeja', 'caballo']\n"
     ]
    }
   ],
   "source": [
    "my_list = [\"caballo\",\"abeja\",\"jirafa\",\"ballena\"]\n",
    "print(my_list)\n",
    "\n",
    "my_list.reverse()\n",
    "print(my_list)"
   ]
  },
  {
   "cell_type": "markdown",
   "id": "63ebd213",
   "metadata": {},
   "source": [
    "### Obtener un elemento aleatorio de una lista"
   ]
  },
  {
   "cell_type": "code",
   "execution_count": 57,
   "id": "a35bffe1",
   "metadata": {},
   "outputs": [
    {
     "name": "stdout",
     "output_type": "stream",
     "text": [
      "[100, 300, 500, 100, 200, 100, 300]\n"
     ]
    }
   ],
   "source": [
    "my_list = [100,300,500,100,200,100,300]\n",
    "print(my_list)"
   ]
  },
  {
   "cell_type": "code",
   "execution_count": 59,
   "id": "c5af1317",
   "metadata": {},
   "outputs": [
    {
     "name": "stdout",
     "output_type": "stream",
     "text": [
      "300\n",
      "300\n",
      "100\n"
     ]
    }
   ],
   "source": [
    "import random\n",
    "\n",
    "print(random.choice(my_list))\n",
    "print(random.choice(my_list))\n",
    "print(random.choice(my_list))"
   ]
  },
  {
   "cell_type": "code",
   "execution_count": null,
   "id": "7900f004",
   "metadata": {},
   "outputs": [],
   "source": []
  }
 ],
 "metadata": {
  "kernelspec": {
   "display_name": "Python 3 (ipykernel)",
   "language": "python",
   "name": "python3"
  },
  "language_info": {
   "codemirror_mode": {
    "name": "ipython",
    "version": 3
   },
   "file_extension": ".py",
   "mimetype": "text/x-python",
   "name": "python",
   "nbconvert_exporter": "python",
   "pygments_lexer": "ipython3",
   "version": "3.10.9"
  }
 },
 "nbformat": 4,
 "nbformat_minor": 5
}
