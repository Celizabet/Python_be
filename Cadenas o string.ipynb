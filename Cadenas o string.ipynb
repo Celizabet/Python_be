{
 "cells": [
  {
   "cell_type": "markdown",
   "id": "ee7963ab",
   "metadata": {},
   "source": [
    "## Indexación de Cadenas\n",
    "\n",
    "- ¿Qué es un índice?\n",
    "- ¿Por qué es necesario?\n",
    "- Indexación significa acceder a los elementos\n",
    "- Para acceder a los elementos podemos usar corchetes\n",
    "- El índice o número que pongamos se refiere a la posición o lista ordenada\n",
    "- La indexación puede usarse para extraer elementos individuales de una estructura de datos\n",
    "- En Python, toda la indexación parte desde el número 0 como primera posición\n",
    "- En Python se tienen dos tipos de índices:\n",
    "  1. Los positivos, que comeinzan desde 0; buscan de izq. a drcha. la posición solicitada.\n",
    "  2. Negativos, comienzan desde -1; estos índices buscan de drcha a izq. la posición solicitada"
   ]
  },
  {
   "cell_type": "markdown",
   "id": "d1069fc6",
   "metadata": {},
   "source": [
    "### Segmentación de cadenas"
   ]
  },
  {
   "cell_type": "code",
   "execution_count": 1,
   "id": "0e461c09",
   "metadata": {},
   "outputs": [
    {
     "name": "stdout",
     "output_type": "stream",
     "text": [
      "Curso de backend Python\n",
      "<class 'str'>\n",
      "C\n",
      "Curso\n",
      "Curso\n",
      "Curso de backend Python\n",
      "de ba\n"
     ]
    }
   ],
   "source": [
    "# Índices positivos\n",
    "\n",
    "my_string = 'Curso de backend Python'\n",
    "print(my_string)\n",
    "print(type(my_string))\n",
    "print(my_string[0])\n",
    "print(my_string[0:5]) #0, 1, 2, 3, 4\n",
    "print(my_string[:5]) # Mismo resultado que arriba\n",
    "print(my_string[:]) #Accede a todos los elementos\n",
    "print(my_string[6:11])"
   ]
  },
  {
   "cell_type": "code",
   "execution_count": 2,
   "id": "dd03f28b",
   "metadata": {},
   "outputs": [
    {
     "ename": "IndexError",
     "evalue": "string index out of range",
     "output_type": "error",
     "traceback": [
      "\u001b[1;31m---------------------------------------------------------------------------\u001b[0m",
      "\u001b[1;31mIndexError\u001b[0m                                Traceback (most recent call last)",
      "Cell \u001b[1;32mIn[2], line 3\u001b[0m\n\u001b[0;32m      1\u001b[0m \u001b[38;5;66;03m#error\u001b[39;00m\n\u001b[0;32m      2\u001b[0m my_string \u001b[38;5;241m=\u001b[39m \u001b[38;5;124m'\u001b[39m\u001b[38;5;124mCurso de backend Python\u001b[39m\u001b[38;5;124m'\u001b[39m\n\u001b[1;32m----> 3\u001b[0m \u001b[38;5;28mprint\u001b[39m(\u001b[43mmy_string\u001b[49m\u001b[43m[\u001b[49m\u001b[38;5;241;43m9000\u001b[39;49m\u001b[43m]\u001b[49m)\n",
      "\u001b[1;31mIndexError\u001b[0m: string index out of range"
     ]
    }
   ],
   "source": [
    "#error\n",
    "my_string = 'Curso de backend Python'\n",
    "print(my_string[9000])"
   ]
  },
  {
   "cell_type": "code",
   "execution_count": 3,
   "id": "c8307b0a",
   "metadata": {},
   "outputs": [
    {
     "name": "stdout",
     "output_type": "stream",
     "text": [
      "n\n",
      "n\n",
      "ython\n"
     ]
    }
   ],
   "source": [
    "#índices negativos\n",
    "my_string = 'Curso de backend Python'\n",
    "print(my_string[len(my_string)-1])\n",
    "print(my_string[-1])\n",
    "print(my_string[-5:])"
   ]
  },
  {
   "cell_type": "markdown",
   "id": "f2cbd564",
   "metadata": {},
   "source": [
    "### Concatenación de cadenas"
   ]
  },
  {
   "cell_type": "code",
   "execution_count": 5,
   "id": "57330bf1",
   "metadata": {},
   "outputs": [
    {
     "name": "stdout",
     "output_type": "stream",
     "text": [
      "Curso\n",
      "Backend Python\n",
      "CursoBackend Python\n",
      "Curso Backend Python\n",
      "Curso Backend Python\n"
     ]
    }
   ],
   "source": [
    "my_string_1 = \"Curso\"\n",
    "my_string_2 = \"Backend Python\"\n",
    "print(my_string_1)\n",
    "print(my_string_2)\n",
    "print(my_strin_1 + my_string_2) #Imprime la cadena sin espacio\n",
    "print(my_string_1 +\" \"+ my_string_2) #Añade 1 espacio\n",
    "print(\"{} {}\".format(my_string_1, my_string_2)) #La mejor forma de agregar formato"
   ]
  },
  {
   "cell_type": "code",
   "execution_count": 8,
   "id": "af85c354",
   "metadata": {},
   "outputs": [
    {
     "name": "stdout",
     "output_type": "stream",
     "text": [
      "1020\n",
      "1020\n",
      "30\n",
      "30\n"
     ]
    }
   ],
   "source": [
    "#Ejemplo con números\n",
    "my_string_1 = \"10\"\n",
    "my_string_2 = \"20\"\n",
    "print(my_string_1 + my_string_2)\n",
    "print(eval(my_string_1 + my_string_2)) #Primeto se evaluan las cadenas\n",
    "print(eval(\"{}+{}\".format(my_string_1, my_string_2)))\n",
    "print(int(my_string_1) + int(my_string_2))"
   ]
  },
  {
   "cell_type": "code",
   "execution_count": null,
   "id": "d449587d",
   "metadata": {},
   "outputs": [],
   "source": [
    "#error\n",
    "suma = 10 + '10'\n",
    "\n",
    "#No es correcto sumar enteros con string"
   ]
  },
  {
   "cell_type": "markdown",
   "id": "e8d95343",
   "metadata": {},
   "source": [
    "### Multiplicación de cadenas"
   ]
  },
  {
   "cell_type": "code",
   "execution_count": 9,
   "id": "e6877ec5",
   "metadata": {},
   "outputs": [
    {
     "name": "stdout",
     "output_type": "stream",
     "text": [
      "cargando...\n",
      "cargando...\n",
      "cargando...\n",
      "cargando...\n",
      "cargando...\n",
      "\n"
     ]
    }
   ],
   "source": [
    "my_string = \"cargando...\\n\"\n",
    "print(my_string*5) #Imprime la cadena 5 veces"
   ]
  },
  {
   "cell_type": "code",
   "execution_count": 10,
   "id": "39307f2e",
   "metadata": {},
   "outputs": [
    {
     "name": "stdout",
     "output_type": "stream",
     "text": [
      "\n"
     ]
    }
   ],
   "source": [
    "#vacío\n",
    "my_string = \"cargando...\\n\"\n",
    "print(my_string*0)"
   ]
  },
  {
   "cell_type": "code",
   "execution_count": 11,
   "id": "6b936fe3",
   "metadata": {},
   "outputs": [
    {
     "name": "stdout",
     "output_type": "stream",
     "text": [
      "\n"
     ]
    }
   ],
   "source": [
    "#vacío\n",
    "my_string = \"cargando...\\n\"\n",
    "print(my_string*-1)"
   ]
  },
  {
   "cell_type": "code",
   "execution_count": 12,
   "id": "18aeb22c",
   "metadata": {},
   "outputs": [
    {
     "ename": "TypeError",
     "evalue": "can't multiply sequence by non-int of type 'float'",
     "output_type": "error",
     "traceback": [
      "\u001b[1;31m---------------------------------------------------------------------------\u001b[0m",
      "\u001b[1;31mTypeError\u001b[0m                                 Traceback (most recent call last)",
      "Cell \u001b[1;32mIn[12], line 3\u001b[0m\n\u001b[0;32m      1\u001b[0m \u001b[38;5;66;03m#Multiplicando por un float\u001b[39;00m\n\u001b[0;32m      2\u001b[0m my_string \u001b[38;5;241m=\u001b[39m \u001b[38;5;124m\"\u001b[39m\u001b[38;5;124mcargando...\u001b[39m\u001b[38;5;130;01m\\n\u001b[39;00m\u001b[38;5;124m\"\u001b[39m\n\u001b[1;32m----> 3\u001b[0m \u001b[38;5;28mprint\u001b[39m(\u001b[43mmy_string\u001b[49m\u001b[38;5;241;43m*\u001b[39;49m\u001b[38;5;241;43m5.5\u001b[39;49m)\n",
      "\u001b[1;31mTypeError\u001b[0m: can't multiply sequence by non-int of type 'float'"
     ]
    }
   ],
   "source": [
    "#Multiplicando por un float\n",
    "my_string = \"cargando...\\n\"\n",
    "print(my_string*5.5)\n",
    "\n",
    "#Las secuencias solo se pueden múltiplicar por números enteros"
   ]
  },
  {
   "cell_type": "markdown",
   "id": "1747ed01",
   "metadata": {},
   "source": [
    "### Comparación de cadenas "
   ]
  },
  {
   "cell_type": "code",
   "execution_count": 13,
   "id": "c7df34a0",
   "metadata": {},
   "outputs": [
    {
     "name": "stdout",
     "output_type": "stream",
     "text": [
      "False\n"
     ]
    }
   ],
   "source": [
    "my_string_1 = \"Prueba\"\n",
    "my_string_2 = \"prueba\"\n",
    "print(my_string_1 == my_string_2)"
   ]
  },
  {
   "cell_type": "code",
   "execution_count": 14,
   "id": "d2e5aa71",
   "metadata": {},
   "outputs": [
    {
     "name": "stdout",
     "output_type": "stream",
     "text": [
      "True\n"
     ]
    }
   ],
   "source": [
    "my_string_1 = \"Prueba\"\n",
    "my_string_2 = \"prueba\"\n",
    "print(my_string_1 != my_string_2)"
   ]
  },
  {
   "cell_type": "markdown",
   "id": "47eb166f",
   "metadata": {},
   "source": [
    "### Funciones de cadenas\n",
    "\n",
    "### split\n",
    "Divide la cadena basándose en el separador especificado"
   ]
  },
  {
   "cell_type": "code",
   "execution_count": 15,
   "id": "50247e39",
   "metadata": {},
   "outputs": [
    {
     "name": "stdout",
     "output_type": "stream",
     "text": [
      "['El', 'curso', 'de', 'Backend', 'Python', 'de', 'Ebac', 'te', 'lleva', 'de', 'la', 'mano', 'para', 'aprender', 'a', 'programar']\n"
     ]
    }
   ],
   "source": [
    "my_string = \"El curso de Backend Python de Ebac te lleva de la mano para aprender a programar\"\n",
    "split_result = my_string.split(\" \") #Usa los espacios como separadores\n",
    "print(split_result)"
   ]
  },
  {
   "cell_type": "code",
   "execution_count": 16,
   "id": "2a686973",
   "metadata": {},
   "outputs": [
    {
     "name": "stdout",
     "output_type": "stream",
     "text": [
      "user123\n",
      "gmail.com\n"
     ]
    }
   ],
   "source": [
    "my_string = \"user123@gmail.com\" #el arroba es el separador\n",
    "username, domain = my_string.split(\"@\")\n",
    "\n",
    "print(username)\n",
    "print(domain)"
   ]
  },
  {
   "cell_type": "code",
   "execution_count": 17,
   "id": "98b0059e",
   "metadata": {},
   "outputs": [
    {
     "name": "stdout",
     "output_type": "stream",
     "text": [
      "date:  2022-09-28\n",
      "log_level:  error\n",
      "message:  este es un mensaje de error\n",
      "date:  2022-09-27\n",
      "log_level:  warning\n",
      "message:  este es un mensaje de advertencia\n",
      "date:  2022-09-25\n",
      "log_level:  info\n",
      "message:  este es un mensaje informativo\n"
     ]
    }
   ],
   "source": [
    "my_string = \"\"\"2022-09-28|error|este es un mensaje de error\n",
    "2022-09-27|warning|este es un mensaje de advertencia\n",
    "2022-09-25|info|este es un mensaje informativo\"\"\"\n",
    "\n",
    "logs = my_string.split(\"\\n\")\n",
    "for log in logs:\n",
    "    date, log_level,message = log.split(\"|\")\n",
    "    print(\"date: \",date)\n",
    "    print(\"log_level: \",log_level)\n",
    "    print(\"message: \",message )"
   ]
  },
  {
   "cell_type": "markdown",
   "id": "f3d81c87",
   "metadata": {},
   "source": [
    "### index/find\n",
    "\n",
    "Busca la primer posioción de la subcadena solicitada en la cadena deseada."
   ]
  },
  {
   "cell_type": "code",
   "execution_count": 18,
   "id": "b53005de",
   "metadata": {},
   "outputs": [
    {
     "name": "stdout",
     "output_type": "stream",
     "text": [
      "La primera posición de 'Python' en la cadena es:  17\n",
      "La primera posición de 'Python' en la cadena es:  17\n"
     ]
    }
   ],
   "source": [
    "my_string = 'Curso de backend Python'\n",
    "print(\"La primera posición de 'Python' en la cadena es: \",my_string.index(\"Python\"))\n",
    "print(\"La primera posición de 'Python' en la cadena es: \",my_string.find(\"Python\"))"
   ]
  },
  {
   "cell_type": "markdown",
   "id": "3a8254c1",
   "metadata": {},
   "source": [
    "### count\n",
    "\n",
    "Cuenta el número de apariciones de la subcadena solicitada en la cadena completa"
   ]
  },
  {
   "cell_type": "code",
   "execution_count": 21,
   "id": "b19fabc5",
   "metadata": {},
   "outputs": [
    {
     "name": "stdout",
     "output_type": "stream",
     "text": [
      "La cantidad que 'E' aparece en la cadena es:  2\n"
     ]
    }
   ],
   "source": [
    "my_string = 'Curso de backend Python'\n",
    "print(\"La cantidad que 'E' aparece en la cadena es: \",my_string.count('e'))"
   ]
  },
  {
   "cell_type": "markdown",
   "id": "bf2b2afc",
   "metadata": {},
   "source": [
    "### len()\n",
    "\n",
    "Cuenta la longitud o cuantos caracteres hay"
   ]
  },
  {
   "cell_type": "code",
   "execution_count": 22,
   "id": "13963cbe",
   "metadata": {},
   "outputs": [
    {
     "name": "stdout",
     "output_type": "stream",
     "text": [
      "La cantidad de caracteres en my_string es:  80\n"
     ]
    }
   ],
   "source": [
    "my_string = \"El curso de Backend Python de Ebac te lleva de la mano para aprender a programar\"\n",
    "print(\"La cantidad de caracteres en my_string es: \",len(my_string))"
   ]
  },
  {
   "cell_type": "markdown",
   "id": "83991654",
   "metadata": {},
   "source": [
    "### strip\n",
    "\n",
    "Remueve los espacios"
   ]
  },
  {
   "cell_type": "code",
   "execution_count": 23,
   "id": "6421d754",
   "metadata": {},
   "outputs": [
    {
     "name": "stdout",
     "output_type": "stream",
     "text": [
      "[     Backend Python    ]\n",
      "[Backend Python]\n"
     ]
    }
   ],
   "source": [
    "my_string = \"     Backend Python    \"\n",
    "print(\"[{}]\".format(my_string))\n",
    "print(\"[{}]\".format(my_string.strip()))"
   ]
  },
  {
   "cell_type": "code",
   "execution_count": 25,
   "id": "27b1f10d",
   "metadata": {},
   "outputs": [
    {
     "name": "stdout",
     "output_type": "stream",
     "text": [
      "[El curso de Backend Python de Ebac te lleva de la mano para aprender a programar]\n",
      "[El curso de Backend Python de Ebac te lleva de la mano para aprender a programa]\n"
     ]
    }
   ],
   "source": [
    "my_string = \"El curso de Backend Python de Ebac te lleva de la mano para aprender a programar\"\n",
    "print(\"[{}]\".format(my_string))\n",
    "print(\"[{}]\".format(my_string.strip(\"r\")))"
   ]
  },
  {
   "cell_type": "markdown",
   "id": "b2a0a3b9",
   "metadata": {},
   "source": [
    "### isdecimal / isnumeric / isdigit\n",
    "\n",
    "Analiza si la cadena contiene solamente números/ enteros"
   ]
  },
  {
   "cell_type": "code",
   "execution_count": 26,
   "id": "67e643ca",
   "metadata": {},
   "outputs": [
    {
     "name": "stdout",
     "output_type": "stream",
     "text": [
      "True\n",
      "True\n",
      "True\n"
     ]
    }
   ],
   "source": [
    "my_string = \"1298751351246131\"\n",
    "print(my_string.isdecimal())\n",
    "print(my_string.isnumeric())\n",
    "print(my_string.isdigit())"
   ]
  },
  {
   "cell_type": "code",
   "execution_count": 27,
   "id": "f9993550",
   "metadata": {},
   "outputs": [
    {
     "name": "stdout",
     "output_type": "stream",
     "text": [
      "False\n",
      "False\n",
      "False\n"
     ]
    }
   ],
   "source": [
    "my_string = \"1298751.351246131\" #pasa lo mismo si agregamos letras\n",
    "print(my_string.isdecimal()) \n",
    "print(my_string.isnumeric())\n",
    "print(my_string.isdigit())\n",
    "\n",
    "#ya no se cumple que sean puros números"
   ]
  },
  {
   "cell_type": "markdown",
   "id": "390564a4",
   "metadata": {},
   "source": [
    "### isalnum\n",
    "\n",
    "Analiza si todos los caracteres son alfanumericos"
   ]
  },
  {
   "cell_type": "code",
   "execution_count": 28,
   "id": "58f45a80",
   "metadata": {},
   "outputs": [
    {
     "name": "stdout",
     "output_type": "stream",
     "text": [
      "False\n"
     ]
    }
   ],
   "source": [
    "my_string = \"1298751.351246131\" #el punto no es letra ni número\n",
    "print(my_string.isalnum())"
   ]
  },
  {
   "cell_type": "code",
   "execution_count": 29,
   "id": "821ce8a6",
   "metadata": {},
   "outputs": [
    {
     "name": "stdout",
     "output_type": "stream",
     "text": [
      "True\n"
     ]
    }
   ],
   "source": [
    "my_string = \"1298751ed351246131\"\n",
    "print(my_string.isalnum())"
   ]
  },
  {
   "cell_type": "markdown",
   "id": "781381a9",
   "metadata": {},
   "source": [
    "### isupper\n",
    "\n",
    "Analiza si todas las letras presentes en la cadena son mayusculas"
   ]
  },
  {
   "cell_type": "code",
   "execution_count": 30,
   "id": "a01055fa",
   "metadata": {},
   "outputs": [
    {
     "name": "stdout",
     "output_type": "stream",
     "text": [
      "True\n"
     ]
    }
   ],
   "source": [
    "my_string = \"TEST\"\n",
    "print(my_string.isupper())"
   ]
  },
  {
   "cell_type": "code",
   "execution_count": 31,
   "id": "a6752f5c",
   "metadata": {},
   "outputs": [
    {
     "name": "stdout",
     "output_type": "stream",
     "text": [
      "False\n"
     ]
    }
   ],
   "source": [
    "my_string = \"Test\" #todas las letras deben ser mayúsculas\n",
    "print(my_string.isupper())"
   ]
  },
  {
   "cell_type": "code",
   "execution_count": 32,
   "id": "23321e14",
   "metadata": {},
   "outputs": [
    {
     "name": "stdout",
     "output_type": "stream",
     "text": [
      "True\n"
     ]
    }
   ],
   "source": [
    "my_string = \"TEST123\" #solo analiza las letras\n",
    "print(my_string.isupper())"
   ]
  },
  {
   "cell_type": "markdown",
   "id": "773c413d",
   "metadata": {},
   "source": [
    "### islower\n",
    " Analiza si todas letras en la cadena son minúsculas"
   ]
  },
  {
   "cell_type": "code",
   "execution_count": 33,
   "id": "14302579",
   "metadata": {},
   "outputs": [
    {
     "name": "stdout",
     "output_type": "stream",
     "text": [
      "True\n"
     ]
    }
   ],
   "source": [
    "my_string = \"test\"\n",
    "print(my_string.islower())"
   ]
  },
  {
   "cell_type": "code",
   "execution_count": 34,
   "id": "2135737e",
   "metadata": {},
   "outputs": [
    {
     "name": "stdout",
     "output_type": "stream",
     "text": [
      "False\n"
     ]
    }
   ],
   "source": [
    "my_string = \"TEST\"\n",
    "print(my_string.islower())"
   ]
  },
  {
   "cell_type": "code",
   "execution_count": 35,
   "id": "e75b2c59",
   "metadata": {},
   "outputs": [
    {
     "name": "stdout",
     "output_type": "stream",
     "text": [
      "False\n"
     ]
    }
   ],
   "source": [
    "my_string = \"Test\"\n",
    "print(my_string.islower())"
   ]
  },
  {
   "cell_type": "code",
   "execution_count": 36,
   "id": "c66b8de8",
   "metadata": {},
   "outputs": [
    {
     "name": "stdout",
     "output_type": "stream",
     "text": [
      "True\n"
     ]
    }
   ],
   "source": [
    "my_string = \"test123\"\n",
    "print(my_string.islower())"
   ]
  },
  {
   "cell_type": "markdown",
   "id": "ba87a948",
   "metadata": {},
   "source": [
    "### join()\n",
    "\n",
    "Crea una cadena de una lista usando el separador especificado"
   ]
  },
  {
   "cell_type": "code",
   "execution_count": 37,
   "id": "8aab8f99",
   "metadata": {},
   "outputs": [
    {
     "name": "stdout",
     "output_type": "stream",
     "text": [
      "123|22|389\n"
     ]
    }
   ],
   "source": [
    "num_list = [\"123\", \"22\", \"389\"]\n",
    "separator = \"|\"\n",
    "print(separator.join(num_list))\n",
    "\n",
    "#Puede ser cualquier separador"
   ]
  },
  {
   "cell_type": "markdown",
   "id": "a1b394e9",
   "metadata": {},
   "source": [
    "### capitalize\n",
    "\n",
    "Hace mayúsculas la 1er letra"
   ]
  },
  {
   "cell_type": "code",
   "execution_count": 38,
   "id": "2cd31536",
   "metadata": {},
   "outputs": [
    {
     "name": "stdout",
     "output_type": "stream",
     "text": [
      "Backend python\n"
     ]
    }
   ],
   "source": [
    "my_string = \"backend python\"\n",
    "print(my_string.capitalize())"
   ]
  },
  {
   "cell_type": "code",
   "execution_count": 39,
   "id": "aac379a2",
   "metadata": {},
   "outputs": [
    {
     "name": "stdout",
     "output_type": "stream",
     "text": [
      "Backend python\n"
     ]
    }
   ],
   "source": [
    "my_string = \"Backend python\"\n",
    "print(my_string.capitalize())"
   ]
  },
  {
   "cell_type": "markdown",
   "id": "f3f68fa7",
   "metadata": {},
   "source": [
    "### format()\n",
    "\n",
    "Nos ayuda a configurar valores de una cadena que es nuestro molde"
   ]
  },
  {
   "cell_type": "code",
   "execution_count": 40,
   "id": "100a2b0d",
   "metadata": {},
   "outputs": [
    {
     "name": "stdout",
     "output_type": "stream",
     "text": [
      "44 es el valor\n",
      "22 es el valor\n",
      "23 es el valor\n",
      "7 es el valor\n"
     ]
    }
   ],
   "source": [
    "my_string = \"{} es el valor\"\n",
    "print(my_string.format(\"44\"))\n",
    "print(my_string.format(\"22\"))\n",
    "print(my_string.format(\"23\"))\n",
    "print(my_string.format(\"7\"))"
   ]
  },
  {
   "cell_type": "code",
   "execution_count": 41,
   "id": "e5bb5236",
   "metadata": {},
   "outputs": [
    {
     "name": "stdout",
     "output_type": "stream",
     "text": [
      "año: 1995 hora: 9:40\n",
      "año: 2005 hora: 14:30\n",
      "año: 2000 hora: 3:21\n",
      "año: 2022 hora: 11:11\n"
     ]
    }
   ],
   "source": [
    "#sustituir\n",
    "my_string = \"año: {} hora: {}\"\n",
    "print(my_string.format(\"1995\",\"9:40\"))\n",
    "print(my_string.format(\"2005\",\"14:30\"))\n",
    "print(my_string.format(\"2000\",\"3:21\"))\n",
    "print(my_string.format(\"2022\",\"11:11\"))"
   ]
  },
  {
   "cell_type": "code",
   "execution_count": 42,
   "id": "f3ce0a39",
   "metadata": {},
   "outputs": [
    {
     "name": "stdout",
     "output_type": "stream",
     "text": [
      "hora: 9:40 año: 1995\n",
      "hora: 14:30 año: 2005\n",
      "hora: 3:21 año: 2000\n",
      "hora: 11:11 año: 2022\n"
     ]
    }
   ],
   "source": [
    "my_string = \"hora: {1} año: {0}\"\n",
    "print(my_string.format(\"1995\",\"9:40\"))\n",
    "print(my_string.format(\"2005\",\"14:30\"))\n",
    "print(my_string.format(\"2000\",\"3:21\"))\n",
    "print(my_string.format(\"2022\",\"11:11\"))"
   ]
  },
  {
   "cell_type": "markdown",
   "id": "69e63079",
   "metadata": {},
   "source": [
    "### center()\n",
    "\n",
    "Centra el texto dada cierta longitud"
   ]
  },
  {
   "cell_type": "code",
   "execution_count": 43,
   "id": "373d217c",
   "metadata": {},
   "outputs": [
    {
     "name": "stdout",
     "output_type": "stream",
     "text": [
      "[ Probando funciones ]\n",
      "[      Probando funciones      ]\n",
      "[           Probando funciones           ]\n"
     ]
    }
   ],
   "source": [
    "my_string = \"Probando funciones\"\n",
    "print(\"[{}]\".format(my_string.center(20)))\n",
    "print(\"[{}]\".format(my_string.center(30)))\n",
    "print(\"[{}]\".format(my_string.center(40)))"
   ]
  },
  {
   "cell_type": "markdown",
   "id": "862c7bcb",
   "metadata": {},
   "source": [
    "### endswith"
   ]
  },
  {
   "cell_type": "code",
   "execution_count": 44,
   "id": "9425d47d",
   "metadata": {},
   "outputs": [
    {
     "name": "stdout",
     "output_type": "stream",
     "text": [
      "True\n"
     ]
    }
   ],
   "source": [
    "my_string = \"Probando funciones\"\n",
    "print(my_string.endswith(\"s\"))"
   ]
  },
  {
   "cell_type": "code",
   "execution_count": 45,
   "id": "6d9f16b8",
   "metadata": {},
   "outputs": [
    {
     "name": "stdout",
     "output_type": "stream",
     "text": [
      "True\n"
     ]
    }
   ],
   "source": [
    "my_string = \"Probando funciones\" #con palabras o subcadenas\n",
    "print(my_string.endswith(\"funciones\"))"
   ]
  },
  {
   "cell_type": "code",
   "execution_count": 46,
   "id": "24447b8e",
   "metadata": {},
   "outputs": [
    {
     "name": "stdout",
     "output_type": "stream",
     "text": [
      "True\n"
     ]
    }
   ],
   "source": [
    "my_string = \"Probando funciones\"\n",
    "print(my_string.endswith(\"ones\"))"
   ]
  },
  {
   "cell_type": "code",
   "execution_count": 47,
   "id": "39029234",
   "metadata": {},
   "outputs": [
    {
     "name": "stdout",
     "output_type": "stream",
     "text": [
      "False\n"
     ]
    }
   ],
   "source": [
    "my_string = \"Probando funciones\"\n",
    "print(my_string.endswith(\"fun\"))"
   ]
  },
  {
   "cell_type": "markdown",
   "id": "f68e6bdc",
   "metadata": {},
   "source": [
    "### swapcase\n",
    "\n",
    "Invierte mayúsculas y minúsculas"
   ]
  },
  {
   "cell_type": "code",
   "execution_count": 48,
   "id": "51c8dbde",
   "metadata": {},
   "outputs": [
    {
     "name": "stdout",
     "output_type": "stream",
     "text": [
      "pROBANDO FUNCIONES\n"
     ]
    }
   ],
   "source": [
    "my_string = \"Probando funciones\"\n",
    "print(my_string.swapcase())"
   ]
  },
  {
   "cell_type": "markdown",
   "id": "3e398149",
   "metadata": {},
   "source": [
    "### replace\n",
    "\n",
    "Reemplaza una subcadena por otra subcadena dentro de una cadena"
   ]
  },
  {
   "cell_type": "code",
   "execution_count": 49,
   "id": "44b2c968",
   "metadata": {},
   "outputs": [
    {
     "name": "stdout",
     "output_type": "stream",
     "text": [
      "Usando funciones\n"
     ]
    }
   ],
   "source": [
    "my_string = \"Probando funciones\"\n",
    "print(my_string.replace(\"Probando\",\"Usando\"))"
   ]
  },
  {
   "cell_type": "code",
   "execution_count": 50,
   "id": "5f403776",
   "metadata": {},
   "outputs": [
    {
     "name": "stdout",
     "output_type": "stream",
     "text": [
      "Probando\n",
      "funciones\n"
     ]
    }
   ],
   "source": [
    "my_string = \"Probando funciones\"\n",
    "print(my_string.replace(\" \",\"\\n\"))"
   ]
  },
  {
   "cell_type": "code",
   "execution_count": 51,
   "id": "a23b7100",
   "metadata": {},
   "outputs": [
    {
     "name": "stdout",
     "output_type": "stream",
     "text": [
      "Probando funciones\n"
     ]
    }
   ],
   "source": [
    "#si el caracter o subcadena no está presente la cadena se queda tal cual\n",
    "my_string = \"Probando funciones\"\n",
    "print(my_string.replace(\"y\",\"o\"))"
   ]
  },
  {
   "cell_type": "markdown",
   "id": "7c5378cc",
   "metadata": {},
   "source": [
    "### Formateo de cadenas y datetime"
   ]
  },
  {
   "cell_type": "code",
   "execution_count": 52,
   "id": "51bced73",
   "metadata": {},
   "outputs": [
    {
     "name": "stdout",
     "output_type": "stream",
     "text": [
      "2023-07-31 19:54:26.996459\n"
     ]
    }
   ],
   "source": [
    "from datetime import datetime\n",
    "now = datetime.now()\n",
    "print(now)"
   ]
  },
  {
   "cell_type": "code",
   "execution_count": 53,
   "id": "f9b11484",
   "metadata": {},
   "outputs": [
    {
     "name": "stdout",
     "output_type": "stream",
     "text": [
      "Year:  2023\n",
      "Month: 07\n",
      "Day:  31\n",
      "Hour:  19:54:26\n"
     ]
    }
   ],
   "source": [
    "year = now.strftime(\"%Y\")\n",
    "month = now.strftime(\"%m\")\n",
    "day = now.strftime(\"%d\")\n",
    "time = now.strftime(\"%H:%M:%S\")\n",
    "\n",
    "print(\"Year: \",year)\n",
    "print(\"Month:\",month)\n",
    "print(\"Day: \",day)\n",
    "print(\"Hour: \",time)"
   ]
  },
  {
   "cell_type": "markdown",
   "id": "59d804d1",
   "metadata": {},
   "source": [
    "### Invertir una cadena"
   ]
  },
  {
   "cell_type": "code",
   "execution_count": 54,
   "id": "261deb29",
   "metadata": {},
   "outputs": [
    {
     "name": "stdout",
     "output_type": "stream",
     "text": [
      "senoicnuf odnaborP\n"
     ]
    }
   ],
   "source": [
    "my_string = \"Probando funciones\"\n",
    "print(my_string [::-1])"
   ]
  },
  {
   "cell_type": "code",
   "execution_count": null,
   "id": "422e5e1e",
   "metadata": {},
   "outputs": [],
   "source": []
  }
 ],
 "metadata": {
  "kernelspec": {
   "display_name": "Python 3 (ipykernel)",
   "language": "python",
   "name": "python3"
  },
  "language_info": {
   "codemirror_mode": {
    "name": "ipython",
    "version": 3
   },
   "file_extension": ".py",
   "mimetype": "text/x-python",
   "name": "python",
   "nbconvert_exporter": "python",
   "pygments_lexer": "ipython3",
   "version": "3.10.9"
  }
 },
 "nbformat": 4,
 "nbformat_minor": 5
}
