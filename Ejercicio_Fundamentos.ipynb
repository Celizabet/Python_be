{
 "cells": [
  {
   "cell_type": "markdown",
   "id": "e1da9f66",
   "metadata": {},
   "source": [
    "## Versión 1"
   ]
  },
  {
   "cell_type": "code",
   "execution_count": 5,
   "id": "38f55428",
   "metadata": {},
   "outputs": [
    {
     "name": "stdout",
     "output_type": "stream",
     "text": [
      "Sigue las instrucciones y escribe lo que se te pida\n",
      "\n",
      "Escribe un número entero: 10\n",
      "Escribe un número con decimales: 5.5\n",
      "Escribe tu nombre completo: Cinthya Urbina\n",
      "\n",
      "Número entero:  10\n",
      "<class 'int'>\n",
      "Número decimal:  5.5\n",
      "<class 'float'>\n",
      "Nombre:  Cinthya Urbina\n",
      "<class 'str'>\n"
     ]
    }
   ],
   "source": [
    "print(\"Sigue las instrucciones y escribe lo que se te pida\")\n",
    "\n",
    "valor_entero = int(input(\"\\nEscribe un número entero: \"))\n",
    "valor_flotante = float(input(\"Escribe un número con decimales: \"))\n",
    "cadena = input(\"Escribe tu nombre completo: \")\n",
    "\n",
    "print(\"\\nNúmero entero: \",valor_entero)\n",
    "print(type(valor_entero))\n",
    "print(\"Número decimal: \",valor_flotante)\n",
    "print(type(valor_flotante))\n",
    "print(\"Nombre: \",cadena)\n",
    "print(type(cadena))"
   ]
  },
  {
   "cell_type": "markdown",
   "id": "dddab7bf",
   "metadata": {},
   "source": [
    "## Versión 2"
   ]
  },
  {
   "cell_type": "code",
   "execution_count": 14,
   "id": "b953ccb8",
   "metadata": {},
   "outputs": [
    {
     "name": "stdout",
     "output_type": "stream",
     "text": [
      "Sigue las instrucciones y escribe lo que se te pida\n",
      "Escribe el número de hijos que tenga, su edad con meses y su nombre completo, separados por una coma: 2, 22.5, Cinthya Urbina\n",
      "\n",
      "Número entero:  2\n",
      "<class 'int'>\n",
      "Número decimal:   22.5\n",
      "<class 'float'>\n",
      "Nombre:   Cinthya Urbina\n",
      "<class 'str'>\n"
     ]
    }
   ],
   "source": [
    "print(\"Sigue las instrucciones y escribe lo que se te pida\")\n",
    "\n",
    "val_entero,val_flotante,cadena = input(\"Escribe el número de hijos que tenga, su edad con meses y su nombre completo, separados por una coma: \").split(\",\")\n",
    "                                         \n",
    "print(\"\\nNúmero entero: \",val_entero)\n",
    "valor_entero = eval(val_entero)\n",
    "print(type(valor_entero))\n",
    "print(\"Número decimal: \",val_flotante)\n",
    "valor_flotante = eval(val_flotante)\n",
    "print(type(valor_flotante))\n",
    "print(\"Nombre: \",cadena)\n",
    "print(type(cadena))"
   ]
  }
 ],
 "metadata": {
  "kernelspec": {
   "display_name": "Python 3 (ipykernel)",
   "language": "python",
   "name": "python3"
  },
  "language_info": {
   "codemirror_mode": {
    "name": "ipython",
    "version": 3
   },
   "file_extension": ".py",
   "mimetype": "text/x-python",
   "name": "python",
   "nbconvert_exporter": "python",
   "pygments_lexer": "ipython3",
   "version": "3.10.9"
  }
 },
 "nbformat": 4,
 "nbformat_minor": 5
}
