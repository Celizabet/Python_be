{
 "cells": [
  {
   "cell_type": "markdown",
   "id": "b5ec8f50",
   "metadata": {},
   "source": [
    "## MENÚ DE OPERACIONES"
   ]
  },
  {
   "cell_type": "code",
   "execution_count": 59,
   "id": "eca9ec20",
   "metadata": {},
   "outputs": [
    {
     "name": "stdout",
     "output_type": "stream",
     "text": [
      "Elige una de las operaciones: \n",
      "\n",
      "* Suma\n",
      "* Resta\n",
      "* Multuplicación\n",
      "* División\n",
      "* Potencia\n",
      "\n",
      "potencia\n"
     ]
    }
   ],
   "source": [
    "operacion = input(\"\"\"Elige una de las operaciones: \n",
    "\\n* Suma\n",
    "* Resta\n",
    "* Multuplicación\n",
    "* División\n",
    "* Potencia\n",
    "\\n\"\"\")"
   ]
  },
  {
   "cell_type": "markdown",
   "id": "7ddd28ac",
   "metadata": {},
   "source": [
    "### SUMA "
   ]
  },
  {
   "cell_type": "code",
   "execution_count": 6,
   "id": "7d84cb7a",
   "metadata": {},
   "outputs": [
    {
     "name": "stdout",
     "output_type": "stream",
     "text": [
      "La operación a realizarse es una .: suma :.\n",
      "\n",
      "Escribe una lista, un set y un diccionario con al menos 5 datos, cada uno.\n",
      "\n",
      "\tLISTA\n",
      "Digita los datos de la lista 1: 1 2 3 4 5\n",
      "Digita los datos de la lista 2: 6 7 8 9 10\n",
      "\n",
      "¿La lista 1 tiene al menos 5 números?  True\n",
      "¿La lista 1 tiene al menos 5 números?  True\n",
      "\n",
      "Los valores de entrada son:\n",
      "lista 1=  ['1', '2', '3', '4', '5'] \n",
      "lista 2=  ['6', '7', '8', '9', '10']\n",
      "\n",
      "El resultado de la suma de ambas listas es:  ['1', '2', '3', '4', '5', '6', '7', '8', '9', '10']\n"
     ]
    }
   ],
   "source": [
    "print(\"La operación a realizarse es una .:\",operacion,\":.\")\n",
    "print(\"\"\"\\n\n",
    "Escribe una lista, un set y un diccionario con al menos 5 datos cada uno y,\n",
    "sigue las indicaciones indiciduales.\n",
    "\"\"\")\n",
    "\n",
    "print(\"\\n\\tLISTA\")\n",
    "a,b,c,d,e = input(\"Digita los datos de la lista 1: \").split()\n",
    "f,g,h,i,j = input(\"Digita los datos de la lista 2: \").split()\n",
    "\n",
    "lista_1 = [a,b,c,d,e]\n",
    "lista_2 = [f,g,h,i,j]\n",
    "print(\"\\n¿La lista 1 tiene al menos 5 números? \",len(lista_1)>=5)\n",
    "print(\"¿La lista 2 tiene al menos 5 números? \",len(lista_2)>=5)\n",
    "\n",
    "print(\"\\nLos valores de entrada son correctos!!\")\n",
    "print(\"Los valores de entrada son:\\nlista 1= \",lista_1,\"\\nlista 2= \",lista_2)\n",
    "\n",
    "resultado = (lista_1) + (lista_2)\n",
    "print(\"\\nEl resultado de la suma de ambas listas es: \",resultado)"
   ]
  },
  {
   "cell_type": "code",
   "execution_count": 24,
   "id": "4cebe807",
   "metadata": {},
   "outputs": [
    {
     "name": "stdout",
     "output_type": "stream",
     "text": [
      "\n",
      "\tSET\n",
      "\n",
      "\n",
      "Los datos del set deben tener por lo menos una vez el número 15 o 22 y,\n",
      "tener 5 elementos que se deben sumar.\n",
      "\n",
      "Digita los datos del set: 9 15 20 4 64\n",
      "\n",
      "¿Los números 15 o 22 están en el set 1?  True\n",
      "¿El set cuenta con 5 números?  True\n",
      "\n",
      "El tamaño del set es correcto!!\n",
      "Los valores de entrada del set son:\n",
      " {'20', '4', '64', '15', '9'}\n",
      "\n",
      "El resultado de la suma de todos los valores del set es:  112\n"
     ]
    }
   ],
   "source": [
    "print(\"\\n\\tSET\")\n",
    "print(\"\"\"\\n\n",
    "Los datos del set deben tener por lo menos una vez el número 15 o 22 y,\n",
    "tener 5 elementos que se deben sumar.\n",
    "\"\"\")\n",
    "a,b,c,d,e = input(\"Digita los datos del set: \").split()\n",
    "\n",
    "set_1 = {a,b,c,d,e}\n",
    "\n",
    "print(\"\\n¿Los números 15 o 22 están en el set 1? \",\"15\" in set_1 or \"22\" in set_1)\n",
    "print(\"¿El set cuenta con 5 números? \",len(set_1)==5)\n",
    "\n",
    "print(\"\\nEl tamaño del set es correcto!!\")\n",
    "print(\"Los valores de entrada del set son:\\n\",set_1)\n",
    "\n",
    "resultado = int(a)+int(b)+int(c)+int(d)+int(e)\n",
    "print(\"\\nEl resultado de la suma de todos los valores del set es: \",resultado)"
   ]
  },
  {
   "cell_type": "code",
   "execution_count": 31,
   "id": "a5aa251a",
   "metadata": {
    "scrolled": true
   },
   "outputs": [
    {
     "name": "stdout",
     "output_type": "stream",
     "text": [
      "\n",
      "\tDICCIONARIO\n",
      "\n",
      "\n",
      "El siguiente diccionario muestra los sueldos de una familia\n",
      "\n",
      "\n",
      "¿El diccionario tiene por lo menos 5 pares de datos?  False\n",
      "El tamaño del diccionario NO es correcto!!\n",
      "Los valores de entrada del diccionario son:\n",
      " {'padre': 20000, 'madre': 22000, 'hijo_1': 18500, 'hijo_2': 12000}\n",
      "\n",
      "El resultado de la suma de los sueldos de la familia es:  72500\n"
     ]
    }
   ],
   "source": [
    "print(\"\\n\\tDICCIONARIO\")\n",
    "print(\"\"\"\\n\n",
    "El siguiente diccionario muestra los sueldos de una familia\n",
    "\"\"\")\n",
    "sueldos = {'padre':20000, 'madre':22000, 'hijo_1':18500, 'hijo_2':12000}\n",
    "\n",
    "print(\"\\n¿El diccionario tiene por lo menos 5 pares de datos? \",len(sueldos)>=5)\n",
    "print(\"El tamaño del diccionario NO es correcto!!\")\n",
    "print(\"\\nLos valores de entrada del diccionario son:\\n\",sueldos)\n",
    "\n",
    "resultado = sueldos['padre'] + sueldos['madre'] + sueldos['hijo_1'] + sueldos['hijo_2']\n",
    "print(\"\\nEl resultado de la suma de los sueldos de la familia es: \",resultado)"
   ]
  },
  {
   "cell_type": "markdown",
   "id": "61a34e1e",
   "metadata": {},
   "source": [
    "### RESTA"
   ]
  },
  {
   "cell_type": "code",
   "execution_count": 39,
   "id": "8b4f904a",
   "metadata": {},
   "outputs": [
    {
     "name": "stdout",
     "output_type": "stream",
     "text": [
      "La operación a realizarse es una .: resta :.\n",
      "\n",
      "\n",
      "Escribe una lista, un set y un diccionario con al menos 5 datos cada uno y,\n",
      "sigue las indicaciones indiciduales.\n",
      "\n",
      "\n",
      "\tLISTA\n",
      "Digita los datos de la lista 1: 11.2 12.4 13.6 14.8 15.10\n",
      "Digita los datos de la lista 2: 21.1 22.3 23.5 24.7 25.9\n",
      "\n",
      "¿La lista 1 tiene al menos 5 números?  True\n",
      "¿La lista 2 tiene al menos 5 números?  True\n",
      "\n",
      "Los valores de entrada son correctos!!\n",
      "Los valores de entrada son:\n",
      "lista 1=  ['11.2', '12.4', '13.6', '14.8', '15.10'] \n",
      "lista 2=  ['21.1', '22.3', '23.5', '24.7', '25.9']\n",
      "\n",
      "Resta los dos últimos digitos de cada lista\n",
      "\n",
      "El resultado de la resta es:  -10.80\n"
     ]
    }
   ],
   "source": [
    "print(\"La operación a realizarse es una .:\",operacion,\":.\")\n",
    "print(\"\"\"\\n\n",
    "Escribe una lista, un set y un diccionario con al menos 5 datos cada uno y,\n",
    "sigue las indicaciones individuales.\n",
    "\"\"\")\n",
    "\n",
    "print(\"\\n\\tLISTA\")\n",
    "a,b,c,d,e = input(\"Digita los datos de la lista 1: \").split()\n",
    "f,g,h,i,j = input(\"Digita los datos de la lista 2: \").split()\n",
    "\n",
    "lista_1 = [a,b,c,d,e]\n",
    "lista_2 = [f,g,h,i,j]\n",
    "print(\"\\n¿La lista 1 tiene al menos 5 números? \",len(lista_1)>=5)\n",
    "print(\"¿La lista 2 tiene al menos 5 números? \",len(lista_2)>=5)\n",
    "\n",
    "print(\"\\nLos valores de entrada son correctos!!\")\n",
    "print(\"Los valores de entrada son:\\nlista 1= \",lista_1,\"\\nlista 2= \",lista_2)\n",
    "\n",
    "print(\"\\nResta los dos últimos digitos de cada lista\")\n",
    "resultado = (float(lista_1[4])) - (float(lista_2[4]))\n",
    "print(\"\\nEl resultado de la resta es: \",'{:.2f}'.format(resultado))"
   ]
  },
  {
   "cell_type": "code",
   "execution_count": 41,
   "id": "7f87be38",
   "metadata": {},
   "outputs": [
    {
     "name": "stdout",
     "output_type": "stream",
     "text": [
      "\n",
      "\tSET\n",
      "\n",
      "\n",
      "Los datos del set deben tener por lo menos una vez el número 30 o 44 y,\n",
      "tener 5 elementos que se van a restar.\n",
      "\n",
      "Digita los datos del set: 80 9 34 17\n",
      "\n",
      "¿Los números 30 o 44 están en el set?  False\n",
      "¿El set cuenta con 5 números?  False\n",
      "\n",
      "El tamaño del set NO es correcto!!\n",
      "Los valores de entrada del set son:\n",
      " {'34', '9', '17', '80'}\n",
      "\n",
      "El resultado de la resta de todos los valores del set es:  20\n"
     ]
    }
   ],
   "source": [
    "print(\"\\n\\tSET\")\n",
    "print(\"\"\"\\n\n",
    "Los datos del set deben tener por lo menos una vez el número 30 o 44 y,\n",
    "tener 5 elementos que se van a restar.\n",
    "\"\"\")\n",
    "a,b,c,d = input(\"Digita los datos del set: \").split()\n",
    "\n",
    "set_1 = {a,b,c,d}\n",
    "\n",
    "print(\"\\n¿Los números 30 o 44 están en el set? \",\"30\" in set_1 or \"44\" in set_1)\n",
    "print(\"¿El set cuenta con 5 números? \",len(set_1)==5)\n",
    "\n",
    "print(\"\\nEl tamaño del set NO es correcto!!\")\n",
    "print(\"Los valores de entrada del set son:\\n\",set_1)\n",
    "\n",
    "resultado = int(a) - int(b) - int(c) - int(d)\n",
    "print(\"\\nEl resultado de la resta de todos los valores del set es: \",resultado)"
   ]
  },
  {
   "cell_type": "code",
   "execution_count": 44,
   "id": "4a1daea4",
   "metadata": {},
   "outputs": [
    {
     "name": "stdout",
     "output_type": "stream",
     "text": [
      "\n",
      "\tDICCIONARIO\n",
      "\n",
      "\n",
      "El siguiente diccionario muestra el ingreso y los gastos de la persona 1.\n",
      "\n",
      "\n",
      "¿El diccionario tiene por lo menos 5 pares de datos?  True\n",
      "El tamaño del diccionario es correcto!!\n",
      "\n",
      "Los valores de entrada del diccionario son:\n",
      " {'ingreso': 24000, 'renta': 7500, 'comida': 5000, 'servicios': 3500, 'otros': 2000}\n",
      "\n",
      "A fin de mes a la persona 1 le quedan: $ 6000\n"
     ]
    }
   ],
   "source": [
    "print(\"\\n\\tDICCIONARIO\")\n",
    "print(\"\"\"\\n\n",
    "El siguiente diccionario muestra el ingreso y los gastos de la persona 1.\n",
    "\"\"\")\n",
    "gastos = {'ingreso':24000, 'renta':7500, 'comida':5000, 'servicios':3500, 'otros':2000}\n",
    "\n",
    "print(\"\\n¿El diccionario tiene por lo menos 5 pares de datos? \",len(gastos)>=5)\n",
    "print(\"El tamaño del diccionario es correcto!!\")\n",
    "print(\"\\nLos valores de entrada del diccionario son:\\n\",gastos)\n",
    "\n",
    "resultado = gastos['ingreso'] - gastos['renta'] - gastos['comida'] - gastos['servicios'] - gastos['otros']\n",
    "print(\"\\nA fin de mes a la persona 1 le quedan: $\",resultado)"
   ]
  },
  {
   "cell_type": "markdown",
   "id": "ae92a722",
   "metadata": {},
   "source": [
    "### MULTIPLICACIÓN"
   ]
  },
  {
   "cell_type": "code",
   "execution_count": 47,
   "id": "2230080b",
   "metadata": {},
   "outputs": [
    {
     "name": "stdout",
     "output_type": "stream",
     "text": [
      "La operación a realizarse es una .: multiplicacion :.\n",
      "\n",
      "\n",
      "Escribe una lista, un set y un diccionario con al menos 5 datos cada uno y,\n",
      "sigue las indicaciones individuales.\n",
      "\n",
      "\n",
      "\tLISTA\n",
      "Digita los datos de la lista 1: 16 17 18 19 20 \n",
      "Digita los datos de la lista 2: 26 27 28 29 30\n",
      "\n",
      "¿La lista 1 tiene al menos 5 números?  True\n",
      "¿La lista 2 tiene al menos 5 números?  True\n",
      "\n",
      "Los valores de entrada son correctos!!\n",
      "Los valores de entrada son:\n",
      "lista 1=  ['16', '17', '18', '19', '20'] \n",
      "lista 2=  ['26', '27', '28', '29', '30']\n",
      "\n",
      "Multiplica los dos primeros digitos de cada lista\n",
      "\n",
      "El resultado de la multiplicación es:  416\n"
     ]
    }
   ],
   "source": [
    "print(\"La operación a realizarse es una .:\",operacion,\":.\")\n",
    "print(\"\"\"\\n\n",
    "Escribe una lista, un set y un diccionario con al menos 5 datos cada uno y,\n",
    "sigue las indicaciones individuales.\n",
    "\"\"\")\n",
    "\n",
    "print(\"\\n\\tLISTA\")\n",
    "a,b,c,d,e = input(\"Digita los datos de la lista 1: \").split()\n",
    "f,g,h,i,j = input(\"Digita los datos de la lista 2: \").split()\n",
    "\n",
    "lista_1 = [a,b,c,d,e]\n",
    "lista_2 = [f,g,h,i,j]\n",
    "print(\"\\n¿La lista 1 tiene al menos 5 números? \",len(lista_1)>=5)\n",
    "print(\"¿La lista 2 tiene al menos 5 números? \",len(lista_2)>=5)\n",
    "\n",
    "print(\"\\nLos valores de entrada son correctos!!\")\n",
    "print(\"Los valores de entrada son:\\nlista 1= \",lista_1,\"\\nlista 2= \",lista_2)\n",
    "\n",
    "print(\"\\nMultiplica los dos primeros digitos de cada lista\")\n",
    "resultado = (int(lista_1[0])) * (int(lista_2[0]))\n",
    "print(\"\\nEl resultado de la multiplicación es: \",resultado)"
   ]
  },
  {
   "cell_type": "code",
   "execution_count": 65,
   "id": "a9c3a723",
   "metadata": {},
   "outputs": [
    {
     "name": "stdout",
     "output_type": "stream",
     "text": [
      "\n",
      "\tSET\n",
      "\n",
      "\n",
      "Los datos del set deben tener por lo menos una vez el número 11 o 18 y,\n",
      "tener 5 elementos.\n",
      "\n",
      "Digita los datos del set: 3 24 11 7 10\n",
      "\n",
      "¿Los números 11 o 18 están en el set?  True\n",
      "¿El set cuenta con 5 números?  True\n",
      "\n",
      "El tamaño del set es correcto!!\n",
      "Los valores de entrada del set son:\n",
      " {'10', '7', '11', '3', '24'}\n",
      "\n",
      "El resultado de la multiplicación de todos los valores del set es:  55440\n"
     ]
    }
   ],
   "source": [
    "print(\"\\n\\tSET\")\n",
    "print(\"\"\"\\n\n",
    "Los datos del set deben tener por lo menos una vez el número 11 o 18 y,\n",
    "tener 5 elementos.\n",
    "\"\"\")\n",
    "a,b,c,d,e = input(\"Digita los datos del set: \").split()\n",
    "\n",
    "set_1 = {a,b,c,d,e}\n",
    "\n",
    "print(\"\\n¿Los números 11 o 18 están en el set? \",\"11\" in set_1 or \"18\" in set_1)\n",
    "print(\"¿El set cuenta con 5 números? \",len(set_1)==5)\n",
    "\n",
    "print(\"\\nEl tamaño del set es correcto!!\")\n",
    "print(\"Los valores de entrada del set son:\\n\",set_1)\n",
    "\n",
    "resultado = int(a) * int(b) * int(c) * int(d) * int(e)\n",
    "print(\"\\nEl resultado de la multiplicación de todos los valores del set es: \",resultado)"
   ]
  },
  {
   "cell_type": "code",
   "execution_count": 51,
   "id": "b2dd062e",
   "metadata": {},
   "outputs": [
    {
     "name": "stdout",
     "output_type": "stream",
     "text": [
      "\n",
      "\tDICCIONARIO\n",
      "\n",
      "\n",
      "El siguiente diccionario muestra las edades de ciertas personas\n",
      "\n",
      "\n",
      "¿El diccionario tiene por lo menos 5 pares de datos?  False\n",
      "El tamaño del diccionario NO es correcto!!\n",
      "\n",
      "Los valores de entrada del diccionario son:\n",
      " {'persona_1': 29, 'persona_2': 64, 'persona_3': 60, 'persona_4': 32}\n",
      "\n",
      "El resultado de multiplicar las edades es: 3563520\n"
     ]
    }
   ],
   "source": [
    "print(\"\\n\\tDICCIONARIO\")\n",
    "print(\"\"\"\\n\n",
    "El siguiente diccionario muestra las edades de ciertas personas\n",
    "\"\"\")\n",
    "edades = {'persona_1':29, 'persona_2':64, 'persona_3':60, 'persona_4':32}\n",
    "\n",
    "print(\"\\n¿El diccionario tiene por lo menos 5 pares de datos? \",len(edades)>=5)\n",
    "print(\"El tamaño del diccionario NO es correcto!!\")\n",
    "print(\"\\nLos valores de entrada del diccionario son:\\n\",edades)\n",
    "\n",
    "resultado = edades['persona_1'] * edades['persona_2'] * edades['persona_3'] * edades['persona_4'] \n",
    "print(\"\\nEl resultado de multiplicar las edades es:\",resultado)"
   ]
  },
  {
   "cell_type": "markdown",
   "id": "d8ade9e9",
   "metadata": {},
   "source": [
    "### DIVISIÓN"
   ]
  },
  {
   "cell_type": "code",
   "execution_count": 53,
   "id": "c98faa03",
   "metadata": {},
   "outputs": [
    {
     "name": "stdout",
     "output_type": "stream",
     "text": [
      "La operación a realizarse es una .: division :.\n",
      "\n",
      "\n",
      "Escribe una lista, un set y un diccionario con al menos 5 datos cada uno y,\n",
      "sigue las indicaciones individuales.\n",
      "\n",
      "\n",
      "\tLISTA\n",
      "Digita los datos de la lista 1: 50 16 38 26 62\n",
      "Digita los datos de la lista 2: 12 33 9 71 5\n",
      "\n",
      "¿La lista 1 tiene al menos 5 números?  True\n",
      "¿La lista 2 tiene al menos 5 números?  True\n",
      "\n",
      "Los valores de entrada son correctos!!\n",
      "Los valores de entrada son:\n",
      "lista 1=  ['50', '16', '38', '26', '62'] \n",
      "lista 2=  ['12', '33', '9', '71', '5']\n",
      "\n",
      "Divide el tercer número de la lista 1 entre el tercer número de la lista 2\n",
      "\n",
      "El resultado de la división es:  4.2\n"
     ]
    }
   ],
   "source": [
    "print(\"La operación a realizarse es una .:\",operacion,\":.\")\n",
    "print(\"\"\"\\n\n",
    "Escribe una lista, un set y un diccionario con al menos 5 datos cada uno y,\n",
    "sigue las indicaciones individuales.\n",
    "\"\"\")\n",
    "\n",
    "print(\"\\n\\tLISTA\")\n",
    "a,b,c,d,e = input(\"Digita los datos de la lista 1: \").split()\n",
    "f,g,h,i,j = input(\"Digita los datos de la lista 2: \").split()\n",
    "\n",
    "lista_1 = [a,b,c,d,e]\n",
    "lista_2 = [f,g,h,i,j]\n",
    "print(\"\\n¿La lista 1 tiene al menos 5 números? \",len(lista_1)>=5)\n",
    "print(\"¿La lista 2 tiene al menos 5 números? \",len(lista_2)>=5)\n",
    "\n",
    "print(\"\\nLos valores de entrada son correctos!!\")\n",
    "print(\"Los valores de entrada son:\\nlista 1= \",lista_1,\"\\nlista 2= \",lista_2)\n",
    "\n",
    "print(\"\\nDivide el tercer número de la lista 1 entre el tercer número de la lista 2\")\n",
    "resultado = (int(lista_1[2])) / (int(lista_2[2]))\n",
    "print(\"\\nEl resultado de la división es: \",'%.1f' % resultado)"
   ]
  },
  {
   "cell_type": "code",
   "execution_count": 66,
   "id": "1adcad9b",
   "metadata": {},
   "outputs": [
    {
     "name": "stdout",
     "output_type": "stream",
     "text": [
      "\n",
      "\tSET\n",
      "\n",
      "\n",
      "Los datos del set deben tener por lo menos una vez el número 180 o 60 y,\n",
      "tener 5 elementos.\n",
      "\n",
      "Digita los datos del set: 950000 50 93 15 \n",
      "\n",
      "¿Los números 180 o 60 están en el set?  False\n",
      "¿El set cuenta con 5 números?  False\n",
      "\n",
      "El tamaño del set NO es correcto!!\n",
      "Los valores de entrada del set son:\n",
      " {'93', '15', '50', '950000'}\n",
      "\n",
      "El resultado de la división de todos los valores del set es:  13.620\n"
     ]
    }
   ],
   "source": [
    "print(\"\\n\\tSET\")\n",
    "print(\"\"\"\\n\n",
    "Los datos del set deben tener por lo menos una vez el número 180 o 60 y,\n",
    "tener 5 elementos.\n",
    "\"\"\")\n",
    "a,b,c,d = input(\"Digita los datos del set: \").split()\n",
    "\n",
    "set_1 = {a,b,c,d}\n",
    "\n",
    "print(\"\\n¿Los números 180 o 60 están en el set? \",\"180\" in set_1 or \"60\" in set_1)\n",
    "print(\"¿El set cuenta con 5 números? \",len(set_1)>=5)\n",
    "\n",
    "print(\"\\nEl tamaño del set NO es correcto!!\")\n",
    "print(\"Los valores de entrada del set son:\\n\",set_1)\n",
    "\n",
    "resultado = float(a) / float(b) / float(c) / float(d)\n",
    "print(\"\\nEl resultado de la división de todos los valores del set es: \",'{:.3f}'.format(resultado))"
   ]
  },
  {
   "cell_type": "code",
   "execution_count": 58,
   "id": "95be2318",
   "metadata": {},
   "outputs": [
    {
     "name": "stdout",
     "output_type": "stream",
     "text": [
      "\n",
      "\tDICCIONARIO\n",
      "\n",
      "\n",
      "El siguiente diccionario muestra el tamaño de porciones\n",
      "\n",
      "\n",
      "¿El diccionario tiene por lo menos 5 pares de datos?  False\n",
      "El tamaño del diccionario NO es correcto!!\n",
      "\n",
      "Los valores de entrada del diccionario son:\n",
      " {'porcion_1': 3000, 'porcion_2': 30, 'porcion_3': 25, 'porcion_4': 2}\n",
      "\n",
      "El resultado de dividir las porciones es: 2.0\n"
     ]
    }
   ],
   "source": [
    "print(\"\\n\\tDICCIONARIO\")\n",
    "print(\"\"\"\\n\n",
    "El siguiente diccionario muestra el tamaño de porciones\n",
    "\"\"\")\n",
    "porciones = {'porcion_1':3000, 'porcion_2':30, 'porcion_3':25, 'porcion_4':2}\n",
    "\n",
    "print(\"\\n¿El diccionario tiene por lo menos 5 pares de datos? \",len(porciones)>=5)\n",
    "print(\"El tamaño del diccionario NO es correcto!!\")\n",
    "print(\"\\nLos valores de entrada del diccionario son:\\n\",porciones)\n",
    "\n",
    "resultado = porciones['porcion_1']/porciones['porcion_2']/porciones['porcion_3']/porciones['porcion_4'] \n",
    "print(\"\\nEl resultado de dividir las porciones es:\",resultado)"
   ]
  },
  {
   "cell_type": "markdown",
   "id": "a9ee5d56",
   "metadata": {},
   "source": [
    "### POTENCIA"
   ]
  },
  {
   "cell_type": "code",
   "execution_count": 60,
   "id": "d1741413",
   "metadata": {},
   "outputs": [
    {
     "name": "stdout",
     "output_type": "stream",
     "text": [
      "La operación a realizarse es una .: potencia :.\n",
      "\n",
      "\n",
      "Escribe una lista, un set y un diccionario con al menos 5 datos cada uno y,\n",
      "sigue las indicaciones individuales.\n",
      "\n",
      "\n",
      "\tLISTA\n",
      "Digita los datos de la lista 1: 5 7 9 2 4\n",
      "\n",
      "¿La lista 1 tiene al menos 5 números?  True\n",
      "\n",
      "Los valores de entrada son correctos!!\n",
      "Los valores de entrada son:\n",
      "lista 1=  ['5', '7', '9', '2', '4']\n",
      "\n",
      "Digita un número y eleva cada elemento de la lista a esa potencia\n",
      "Digita la potencia: 3\n",
      "\n",
      "La nueva lista es:  [125, 343, 729, 8, 64]\n"
     ]
    }
   ],
   "source": [
    "print(\"La operación a realizarse es una .:\",operacion,\":.\")\n",
    "print(\"\"\"\\n\n",
    "Escribe una lista, un set y un diccionario con al menos 5 datos cada uno y,\n",
    "sigue las indicaciones individuales.\n",
    "\"\"\")\n",
    "\n",
    "print(\"\\n\\tLISTA\")\n",
    "a,b,c,d,e = input(\"Digita los datos de la lista 1: \").split()\n",
    "\n",
    "lista_1 = [a,b,c,d,e]\n",
    "print(\"\\n¿La lista 1 tiene al menos 5 números? \",len(lista_1)>=5)\n",
    "\n",
    "print(\"\\nLos valores de entrada son correctos!!\")\n",
    "print(\"Los valores de entrada son:\\nlista 1= \",lista_1)\n",
    "print(\"\\nDigita un número y eleva cada elemento de la lista a esa potencia\")\n",
    "potencia = int(input(\"Digita la potencia: \"))\n",
    "\n",
    "resultado = [int(a)**potencia, int(b)**potencia, int(c)**potencia, int(d)**potencia, int(e)**potencia]\n",
    "print(\"\\nLa nueva lista es: \", resultado)"
   ]
  },
  {
   "cell_type": "code",
   "execution_count": 62,
   "id": "a3e5588e",
   "metadata": {},
   "outputs": [
    {
     "name": "stdout",
     "output_type": "stream",
     "text": [
      "\n",
      "\tSET\n",
      "\n",
      "\n",
      "Los datos del set deben tener por lo menos una vez el número 5.5 o 8.0 y,\n",
      "tener 5 elementos.\n",
      "\n",
      "Digita los datos del set: 13.4 5.5 24.6 3.2 11.7\n",
      "\n",
      "¿Los números 5.5 o 8.0 están en el set?  True\n",
      "¿El set cuenta con 5 números?  True\n",
      "\n",
      "El tamaño del set es correcto!!\n",
      "Los valores de entrada del set son:\n",
      " {'3.2', '5.5', '11.7', '24.6', '13.4'}\n",
      "\n",
      "Digita un número y eleva cada elemento del set a esa potencia\n",
      "Digita la potencia: 2\n",
      "\n",
      "El nuevo set es:  {'10.24', '136.89', '605.16', '30.25', '179.56'}\n"
     ]
    }
   ],
   "source": [
    "print(\"\\n\\tSET\")\n",
    "print(\"\"\"\\n\n",
    "Los datos del set deben tener por lo menos una vez el número 5.5 o 8.0 y,\n",
    "tener 5 elementos.\n",
    "\"\"\")\n",
    "a,b,c,d,e = input(\"Digita los datos del set: \").split()\n",
    "\n",
    "set_1 = {a,b,c,d,e}\n",
    "\n",
    "print(\"\\n¿Los números 5.5 o 8.0 están en el set? \",\"5.5\" in set_1 or \"8.0\" in set_1)\n",
    "print(\"¿El set cuenta con 5 números? \",len(set_1)>=5)\n",
    "\n",
    "print(\"\\nEl tamaño del set es correcto!!\")\n",
    "print(\"Los valores de entrada del set son:\\n\",set_1)\n",
    "\n",
    "print(\"\\nDigita un número y eleva cada elemento del set a esa potencia\")\n",
    "potencia = int(input(\"Digita la potencia: \"))\n",
    "resultado = {'{:.2f}'.format(float(a)**potencia),'{:.2f}'.format(float(b)**potencia),'{:.2f}'.format(float(c)**potencia), \n",
    "             '{:.2f}'.format(float(d)**potencia),'{:.2f}'.format(float(e)**potencia)}\n",
    "print(\"\\nEl nuevo set es: \",resultado)"
   ]
  },
  {
   "cell_type": "code",
   "execution_count": 64,
   "id": "f37ebac2",
   "metadata": {},
   "outputs": [
    {
     "name": "stdout",
     "output_type": "stream",
     "text": [
      "\n",
      "\tDICCIONARIO\n",
      "\n",
      "\n",
      "El siguiente diccionario muestra una lista de números\n",
      "\n",
      "\n",
      "¿El diccionario tiene por lo menos 5 pares de datos?  False\n",
      "El tamaño del diccionario es correcto!!\n",
      "\n",
      "Los valores de entrada del diccionario son:\n",
      " {'num_1': 5, 'num_2': 6, 'num_3': 2, 'num_4': 8, 'num_5': 3}\n",
      "\n",
      "Digita un número y eleva cada elemento del diccionario a esa potencia\n",
      "Digita la potencia: 5\n",
      "\n",
      "El resultado de elevar cada valor del diccionario a  5  es\n",
      " [3125, 7776, 32, 32768, 243]\n"
     ]
    }
   ],
   "source": [
    "print(\"\\n\\tDICCIONARIO\")\n",
    "print(\"\"\"\\n\n",
    "El siguiente diccionario muestra una lista de números\n",
    "\"\"\")\n",
    "numeros = {'num_1':5, 'num_2':6, 'num_3':2, 'num_4':8, 'num_5':3}\n",
    "\n",
    "print(\"\\n¿El diccionario tiene por lo menos 5 pares de datos? \",len(porciones)>=5)\n",
    "print(\"El tamaño del diccionario es correcto!!\")\n",
    "print(\"\\nLos valores de entrada del diccionario son:\\n\",numeros)\n",
    "\n",
    "print(\"\\nDigita un número y eleva cada elemento del diccionario a esa potencia\")\n",
    "potencia = int(input(\"Digita la potencia: \"))\n",
    "resultado = [numeros['num_1']**potencia,numeros['num_2']**potencia,numeros['num_3']**potencia,\n",
    "             numeros['num_4']**potencia,numeros['num_5']**potencia]\n",
    "\n",
    "print(\"\\nEl resultado de elevar cada valor del diccionario a \",potencia,\" es\\n\",resultado)"
   ]
  },
  {
   "cell_type": "code",
   "execution_count": null,
   "id": "07fa922a",
   "metadata": {},
   "outputs": [],
   "source": []
  }
 ],
 "metadata": {
  "kernelspec": {
   "display_name": "Python 3 (ipykernel)",
   "language": "python",
   "name": "python3"
  },
  "language_info": {
   "codemirror_mode": {
    "name": "ipython",
    "version": 3
   },
   "file_extension": ".py",
   "mimetype": "text/x-python",
   "name": "python",
   "nbconvert_exporter": "python",
   "pygments_lexer": "ipython3",
   "version": "3.10.9"
  }
 },
 "nbformat": 4,
 "nbformat_minor": 5
}
