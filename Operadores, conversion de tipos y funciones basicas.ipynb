{
 "cells": [
  {
   "cell_type": "markdown",
   "id": "940ecc96",
   "metadata": {},
   "source": [
    "## Operadores y tipos de opertadores\n",
    "\n",
    "¿Qué son los operadores?\n",
    "- Conjunto de símbolos presentes en un lenguajes de programación\n",
    "- Pueden decirle al intérprete que ejecute ciertas acciones para producir un resultado final\n",
    "- Pueden usarse para aplicar operaciones en variables y operaciones\n",
    "- Pueden clasificarse según su tipo, aritméticos, relacionales, de asignación, lógicos, de afiliación e identidad."
   ]
  },
  {
   "cell_type": "markdown",
   "id": "c05ca1e7",
   "metadata": {},
   "source": [
    "### Operadores aritméticos\n",
    "\n",
    "- suma +\n",
    "- resta -\n",
    "- multiplicación *\n",
    "- división /\n",
    "- división con redondeo hacia abajo //\n",
    "- exponente **"
   ]
  },
  {
   "cell_type": "code",
   "execution_count": 1,
   "id": "3c33b756",
   "metadata": {},
   "outputs": [
    {
     "name": "stdout",
     "output_type": "stream",
     "text": [
      "El resultado de num_1+num_2 es:  800\n"
     ]
    }
   ],
   "source": [
    "# Suma\n",
    "\n",
    "num_1 = 500\n",
    "num_2 = 300\n",
    "print(\"El resultado de num_1+num_2 es: \",num_1+num_2)"
   ]
  },
  {
   "cell_type": "code",
   "execution_count": 2,
   "id": "6ce997e8",
   "metadata": {},
   "outputs": [
    {
     "name": "stdout",
     "output_type": "stream",
     "text": [
      "El resultado de num_1-num_2 es:  200\n"
     ]
    }
   ],
   "source": [
    "# Resta \n",
    "num_1 = 500\n",
    "num_2 = 300\n",
    "print(\"El resultado de num_1-num_2 es: \",num_1-num_2)"
   ]
  },
  {
   "cell_type": "code",
   "execution_count": 3,
   "id": "37467d15",
   "metadata": {},
   "outputs": [
    {
     "name": "stdout",
     "output_type": "stream",
     "text": [
      "El resultado de num_1*num_2 es:  150000\n"
     ]
    }
   ],
   "source": [
    "# Multiplicación\n",
    "num_1 = 500\n",
    "num_2 = 300\n",
    "print(\"El resultado de num_1*num_2 es: \",num_1*num_2)"
   ]
  },
  {
   "cell_type": "code",
   "execution_count": 4,
   "id": "5b405f3f",
   "metadata": {},
   "outputs": [
    {
     "name": "stdout",
     "output_type": "stream",
     "text": [
      "El resultado de num_1/num_2 es:  1.6666666666666667\n"
     ]
    }
   ],
   "source": [
    "# División\n",
    "num_1 = 500\n",
    "num_2 = 300\n",
    "print(\"El resultado de num_1/num_2 es: \",num_1/num_2)"
   ]
  },
  {
   "cell_type": "code",
   "execution_count": 1,
   "id": "3902be69",
   "metadata": {},
   "outputs": [
    {
     "name": "stdout",
     "output_type": "stream",
     "text": [
      "El resultado de num_1//num_2 es:  1\n"
     ]
    }
   ],
   "source": [
    "# División con redondeo hacia abajo\n",
    "num_1 = 500\n",
    "num_2 = 300\n",
    "print(\"El resultado de num_1//num_2 es: \",num_1//num_2)\n"
   ]
  },
  {
   "cell_type": "code",
   "execution_count": 2,
   "id": "943d6e6e",
   "metadata": {},
   "outputs": [
    {
     "name": "stdout",
     "output_type": "stream",
     "text": [
      "El resultado de num_1**num_2 es:  32\n"
     ]
    }
   ],
   "source": [
    "# Exponente\n",
    "num_1 = 2\n",
    "num_2 = 5\n",
    "print(\"El resultado de num_1**num_2 es: \",num_1**num_2)"
   ]
  },
  {
   "cell_type": "markdown",
   "id": "fa6a1636",
   "metadata": {},
   "source": [
    "### Operadores relacionales\n",
    "\n",
    " ¿Qué son los operadores relacionales?\n",
    " - También conocidos como operadores de comparación\n",
    " - Regresan un valor booleano (Verdadero o Falso)\n",
    " - En Python, son para comparar o relacionar los valores\n",
    " - True, es el resultado cuando la condición se cumple\n",
    " - False, es el resultado cuando la condición NO se cumple\n",
    " - Se encatgarn de las operaciones de comparación"
   ]
  },
  {
   "cell_type": "markdown",
   "id": "a7657599",
   "metadata": {},
   "source": [
    "#### TIPOS DE OPERADORES RELACIONALES\n",
    "\n",
    "- '==' igual a\n",
    "- '!=' diferente a \n",
    "- '>' mayor que\n",
    "- '<' menor que\n",
    "- '<=' menor o igual que"
   ]
  },
  {
   "cell_type": "code",
   "execution_count": 3,
   "id": "b7cd2d06",
   "metadata": {},
   "outputs": [
    {
     "name": "stdout",
     "output_type": "stream",
     "text": [
      "¿El valor de num_1 es igual al valor de num_2?\n",
      " False\n"
     ]
    }
   ],
   "source": [
    "# Igual a...\n",
    "\n",
    "num_1 = 570 #<<<< asignación\n",
    "num_2 = 420 \n",
    "print(\"¿El valor de num_1 es igual al valor de num_2?\\n\",num_1==num_2)"
   ]
  },
  {
   "cell_type": "code",
   "execution_count": 5,
   "id": "2d4e1058",
   "metadata": {},
   "outputs": [
    {
     "name": "stdout",
     "output_type": "stream",
     "text": [
      "¿El valor de str_1 es igual al valor de str_2?\n",
      " True\n"
     ]
    }
   ],
   "source": [
    "#También es posible con cadenas\n",
    "\n",
    "str_1 = \"Backend Python\" #asignación\n",
    "str_2 = \"Backend Python\"\n",
    "print(\"¿El valor de str_1 es igual al valor de str_2?\\n\",str_1==str_2)\n",
    "\n",
    "#El vLalor es verdadero siempre y cuando no se cambie alguna letra a mayúscula"
   ]
  },
  {
   "cell_type": "code",
   "execution_count": 6,
   "id": "2e57297a",
   "metadata": {},
   "outputs": [
    {
     "name": "stdout",
     "output_type": "stream",
     "text": [
      "¿El valor de str_1 es diferente al valor de str_2?\n",
      " False\n"
     ]
    }
   ],
   "source": [
    "str_1 = \"Backend Python\" #asignación\n",
    "str_2 = \"Backend Python\"\n",
    "print(\"¿El valor de str_1 es diferente al valor de str_2?\\n\",str_1!=str_2)"
   ]
  },
  {
   "cell_type": "code",
   "execution_count": 7,
   "id": "a37b96f1",
   "metadata": {},
   "outputs": [
    {
     "name": "stdout",
     "output_type": "stream",
     "text": [
      "¿El valor de num_1 es menor al valor de num_2?\n",
      " False\n"
     ]
    }
   ],
   "source": [
    "num_1 = 570 \n",
    "num_2 = 420 \n",
    "print(\"¿El valor de num_1 es menor al valor de num_2?\\n\",num_1<num_2)"
   ]
  },
  {
   "cell_type": "code",
   "execution_count": 9,
   "id": "10f932be",
   "metadata": {},
   "outputs": [
    {
     "name": "stdout",
     "output_type": "stream",
     "text": [
      "¿El valor de num_1 es igual o menor al valor de num_2?\n",
      " True\n"
     ]
    }
   ],
   "source": [
    "num_1 = 570 \n",
    "num_2 = 420 \n",
    "print(\"¿El valor de num_1 es igual o menor al valor de num_2?\\n\",num_1>=num_2)"
   ]
  },
  {
   "cell_type": "markdown",
   "id": "9baa9d6a",
   "metadata": {},
   "source": [
    "### Operadores de asignación\n",
    "\n",
    "¿Qué son los operadores de asignación?\n",
    "- En Python son usados para asignar valores a variables\n",
    "- Incluyen el operador de asignación que es el signo de igual\n",
    "\n",
    "Tipos de operadores de asignación:\n",
    "- \"=\" operador de asignación\n",
    "- \"+=\" sumar y asignar\n",
    "- \"-=\" restar y asignar\n",
    "- \"*=\" multiplicar y asignar\n",
    "- \"/=\" dividir y asignar\n",
    "- \"//=\" dividir con redondeo hacia abajo y asignar\n",
    "- \"%=\" módulo y asignar\n",
    "- \"**=\" exponente y asignar"
   ]
  },
  {
   "cell_type": "code",
   "execution_count": 10,
   "id": "b858ea70",
   "metadata": {},
   "outputs": [
    {
     "name": "stdout",
     "output_type": "stream",
     "text": [
      "num_1 antes de la operación:  20\n",
      "num_1 después de la operación:  23\n"
     ]
    }
   ],
   "source": [
    "#Suma en asignación\n",
    "num_1 = 20\n",
    "num_2 = 3\n",
    "print(\"num_1 antes de la operación: \",num_1)\n",
    "num_1 += num_2 # num_1 = num_1 + num_2\n",
    "print(\"num_1 después de la operación: \",num_1)"
   ]
  },
  {
   "cell_type": "code",
   "execution_count": 11,
   "id": "a083ad7d",
   "metadata": {},
   "outputs": [
    {
     "name": "stdout",
     "output_type": "stream",
     "text": [
      "num_1 antes de la operación:  20\n",
      "num_1 después de la operación:  17\n"
     ]
    }
   ],
   "source": [
    "#Resta en asignación\n",
    "num_1 = 20\n",
    "num_2 = 3\n",
    "print(\"num_1 antes de la operación: \",num_1)\n",
    "num_1 -= num_2 # num_1 = num_1 - num_2\n",
    "print(\"num_1 después de la operación: \",num_1)"
   ]
  },
  {
   "cell_type": "code",
   "execution_count": 12,
   "id": "90bb767c",
   "metadata": {},
   "outputs": [
    {
     "name": "stdout",
     "output_type": "stream",
     "text": [
      "num_1 antes de la operación:  20\n",
      "num_1 después de la operación:  60\n"
     ]
    }
   ],
   "source": [
    "#Multiplicación en asignación\n",
    "num_1 = 20\n",
    "num_2 = 3\n",
    "print(\"num_1 antes de la operación: \",num_1)\n",
    "num_1 *= num_2 # num_1 = num_1 * num_2\n",
    "print(\"num_1 después de la operación: \",num_1)"
   ]
  },
  {
   "cell_type": "code",
   "execution_count": 13,
   "id": "5bae7d9b",
   "metadata": {},
   "outputs": [
    {
     "name": "stdout",
     "output_type": "stream",
     "text": [
      "num_1 antes de la operación:  20\n",
      "num_1 después de la operación:  6.666666666666667\n"
     ]
    }
   ],
   "source": [
    "#División en asignación\n",
    "num_1 = 20\n",
    "num_2 = 3\n",
    "print(\"num_1 antes de la operación: \",num_1)\n",
    "num_1 /= num_2 # num_1 = num_1 / num_2\n",
    "print(\"num_1 después de la operación: \",num_1)"
   ]
  },
  {
   "cell_type": "code",
   "execution_count": 14,
   "id": "1b39a59d",
   "metadata": {},
   "outputs": [
    {
     "name": "stdout",
     "output_type": "stream",
     "text": [
      "num_1 antes de la operación:  20\n",
      "num_1 después de la operación:  6\n"
     ]
    }
   ],
   "source": [
    "#Division con redondeo en asignación\n",
    "num_1 = 20\n",
    "num_2 = 3\n",
    "print(\"num_1 antes de la operación: \",num_1)\n",
    "num_1 //= num_2 # num_1 = num_1 // num_2\n",
    "print(\"num_1 después de la operación: \",num_1)"
   ]
  },
  {
   "cell_type": "code",
   "execution_count": 15,
   "id": "1cda86b8",
   "metadata": {},
   "outputs": [
    {
     "name": "stdout",
     "output_type": "stream",
     "text": [
      "num_1 antes de la operación:  20\n",
      "num_1 después de la operación:  2\n"
     ]
    }
   ],
   "source": [
    "#Módulo en asignación, el resultado es el residuo de una división\n",
    "num_1 = 20\n",
    "num_2 = 3\n",
    "print(\"num_1 antes de la operación: \",num_1)\n",
    "num_1 %= num_2 # num_1 = num_1 % num_2\n",
    "print(\"num_1 después de la operación: \",num_1)"
   ]
  },
  {
   "cell_type": "code",
   "execution_count": 16,
   "id": "a9b94ee1",
   "metadata": {},
   "outputs": [
    {
     "name": "stdout",
     "output_type": "stream",
     "text": [
      "num_1 antes de la operación:  20\n",
      "num_1 después de la operación:  8000\n"
     ]
    }
   ],
   "source": [
    "#Exponente en asignación\n",
    "num_1 = 20\n",
    "num_2 = 3\n",
    "print(\"num_1 antes de la operación: \",num_1)\n",
    "num_1 **= num_2 # num_1 = num_1 ** num_2\n",
    "print(\"num_1 después de la operación: \",num_1)"
   ]
  },
  {
   "cell_type": "markdown",
   "id": "94a00d33",
   "metadata": {},
   "source": [
    "### Operadores lógicos\n",
    "\n",
    "¿Qué son los operadores lógicos?\n",
    "- Son usados para declaraciones condicionales\n",
    "- Son indicadores estructurales\n",
    "- Se les conoce como conectores lógicos\n",
    "- Hay 3 tipos de operadores lógicos\n",
    "  1. AND (y) regresa True si ambas operaciones son verdaderas\n",
    "  2. OR (o) regresa True si por lo menos una de las operaciones es verdadera\n",
    "  3. NOT (lo opuesto) regresa True si la operación es False "
   ]
  },
  {
   "cell_type": "code",
   "execution_count": 17,
   "id": "a5d2d853",
   "metadata": {},
   "outputs": [
    {
     "name": "stdout",
     "output_type": "stream",
     "text": [
      "num_1<=num_2 and num_1!=num_2:  True\n"
     ]
    }
   ],
   "source": [
    "# AND -- Todas las condiciones deben ser verdaderas\n",
    "\n",
    "num_1 = 11\n",
    "num_2 = 55\n",
    "\n",
    "print(\"num_1<=num_2 and num_1!=num_2: \",num_1<=num_2 and num_1!=num_2)"
   ]
  },
  {
   "cell_type": "code",
   "execution_count": 18,
   "id": "2f94650e",
   "metadata": {},
   "outputs": [
    {
     "name": "stdout",
     "output_type": "stream",
     "text": [
      "num_1<=num_2 and num_1!=num_2:  False\n"
     ]
    }
   ],
   "source": [
    "num_1 = 11\n",
    "num_2 = 11\n",
    "\n",
    "print(\"num_1<=num_2 and num_1!=num_2: \",num_1<=num_2 and num_1!=num_2)"
   ]
  },
  {
   "cell_type": "code",
   "execution_count": 19,
   "id": "c4e1f245",
   "metadata": {},
   "outputs": [
    {
     "name": "stdout",
     "output_type": "stream",
     "text": [
      "num_1<=num_2 or num_1!=num_2:  True\n"
     ]
    }
   ],
   "source": [
    "# OR -- Solo una condicion debe cumplirse para ser verdadera\n",
    "\n",
    "num_1 = 11\n",
    "num_2 = 55\n",
    "\n",
    "print(\"num_1<=num_2 or num_1!=num_2: \",num_1<=num_2 or num_1!=num_2)"
   ]
  },
  {
   "cell_type": "code",
   "execution_count": 20,
   "id": "1728e1f1",
   "metadata": {},
   "outputs": [
    {
     "name": "stdout",
     "output_type": "stream",
     "text": [
      "num_1<=num_2 or num_1!=num_2:  True\n"
     ]
    }
   ],
   "source": [
    "num_1 = 11\n",
    "num_2 = 11\n",
    "\n",
    "print(\"num_1<=num_2 or num_1!=num_2: \",num_1<=num_2 or num_1!=num_2)"
   ]
  },
  {
   "cell_type": "code",
   "execution_count": 22,
   "id": "52a5bac9",
   "metadata": {},
   "outputs": [
    {
     "name": "stdout",
     "output_type": "stream",
     "text": [
      "num_1<=num_2:  False\n"
     ]
    }
   ],
   "source": [
    "# NOT (lo opuesto) -- la condición debe ser falsa\n",
    "\n",
    "num_1 = 11\n",
    "num_2 = 55\n",
    "#\n",
    "print(\"num_1<=num_2: \",not num_1<=num_2)"
   ]
  },
  {
   "cell_type": "markdown",
   "id": "d06b84d2",
   "metadata": {},
   "source": [
    "### Operadores de afilicación\n",
    "\n",
    "¿Qué son los operadores de afiliación?\n",
    "- Son usados para validar lo elementos en listas, cadenas y tuplas\n",
    "- Validan si una variable está presente en una secuencia\n",
    "- Regresan un valor booleano, True si el valor está presente en la secuencia y False si el valor no está presente.\n",
    "- Existen dos tipos de operadores de afiliación:\n",
    "  1. IN - el valor está en la secuencia\n",
    "  2. NOT IN - el valor no está presente en la secuencia"
   ]
  },
  {
   "cell_type": "code",
   "execution_count": 23,
   "id": "dae03469",
   "metadata": {},
   "outputs": [
    {
     "name": "stdout",
     "output_type": "stream",
     "text": [
      "'a' is in my_string?  True\n"
     ]
    }
   ],
   "source": [
    "# IN \n",
    "\n",
    "my_string = \"Backend Python\"\n",
    "print(\"'a' is in my_string? \",'a' in my_string)"
   ]
  },
  {
   "cell_type": "code",
   "execution_count": 24,
   "id": "e80b4e91",
   "metadata": {},
   "outputs": [
    {
     "name": "stdout",
     "output_type": "stream",
     "text": [
      "'i' is in my_string?  False\n"
     ]
    }
   ],
   "source": [
    "my_string = \"Backend Python\"\n",
    "print(\"'i' is in my_string? \",'i' in my_string)"
   ]
  },
  {
   "cell_type": "code",
   "execution_count": 25,
   "id": "ba5d32ab",
   "metadata": {},
   "outputs": [
    {
     "name": "stdout",
     "output_type": "stream",
     "text": [
      "5 is in my_list?  False\n"
     ]
    }
   ],
   "source": [
    "# Ejemplos con listas\n",
    "my_list = [1, 154, 321, 22, 11]\n",
    "print(\"5 is in my_list? \",5 in my_list)"
   ]
  },
  {
   "cell_type": "code",
   "execution_count": 26,
   "id": "00198823",
   "metadata": {},
   "outputs": [
    {
     "name": "stdout",
     "output_type": "stream",
     "text": [
      "22 is in my_list?  True\n"
     ]
    }
   ],
   "source": [
    "my_list = [1, 154, 321, 22, 11]\n",
    "print(\"22 is in my_list? \",22 in my_list)"
   ]
  },
  {
   "cell_type": "code",
   "execution_count": 31,
   "id": "3dc11c1c",
   "metadata": {},
   "outputs": [
    {
     "name": "stdout",
     "output_type": "stream",
     "text": [
      "22 is in my_set?  True\n"
     ]
    }
   ],
   "source": [
    "#Ejemplo con sets\n",
    "my_set = {1, 154, 321, 22, 11, 5, 11, 22, 5, 1}\n",
    "print(\"22 is in my_set? \",22 in my_set)"
   ]
  },
  {
   "cell_type": "code",
   "execution_count": 29,
   "id": "985ea3a1",
   "metadata": {},
   "outputs": [
    {
     "name": "stdout",
     "output_type": "stream",
     "text": [
      "'a' is in my_string?  False\n"
     ]
    }
   ],
   "source": [
    "# NOT IN\n",
    "my_string = \"Backend Python\"\n",
    "print(\"'a' is in my_string? \",'a' not in my_string)"
   ]
  },
  {
   "cell_type": "code",
   "execution_count": 30,
   "id": "44db1e46",
   "metadata": {},
   "outputs": [
    {
     "name": "stdout",
     "output_type": "stream",
     "text": [
      "22 is in my_list?  False\n"
     ]
    }
   ],
   "source": [
    "my_list = [1, 154, 321, 22, 11]\n",
    "print(\"22 is in my_list? \",22 not in my_list)"
   ]
  },
  {
   "cell_type": "markdown",
   "id": "0cf2b4ee",
   "metadata": {},
   "source": [
    "### Operadores de identidad\n",
    "\n",
    "¿Qué son los operadores de identidad?\n",
    "- Son usados para comparar la ubicación en memoria de dos objetos, y validar si  comparten el mismo espacio de memoria\n",
    "- Regresan True si lo comparten y False si no lo comparten\n",
    "- Hay dos operadores:\n",
    "  1. IS\n",
    "  2. IS NOT"
   ]
  },
  {
   "cell_type": "code",
   "execution_count": 32,
   "id": "1f8f79cf",
   "metadata": {},
   "outputs": [
    {
     "name": "stdout",
     "output_type": "stream",
     "text": [
      "num_1 is num_2?  False\n"
     ]
    }
   ],
   "source": [
    "# Ejemplos con IS\n",
    "num_1 = 11\n",
    "num_2 = 55\n",
    "print(\"num_1 is num_2? \",num_1 is num_2)"
   ]
  },
  {
   "cell_type": "code",
   "execution_count": 33,
   "id": "17f47c98",
   "metadata": {},
   "outputs": [
    {
     "name": "stdout",
     "output_type": "stream",
     "text": [
      "num_1 is num_2?  True\n"
     ]
    }
   ],
   "source": [
    "num_1 = 88\n",
    "num_2 = 88\n",
    "print(\"num_1 is num_2? \",num_1 is num_2)"
   ]
  },
  {
   "cell_type": "code",
   "execution_count": 34,
   "id": "faf218bb",
   "metadata": {},
   "outputs": [
    {
     "name": "stdout",
     "output_type": "stream",
     "text": [
      "num_1 is not num_2?  True\n"
     ]
    }
   ],
   "source": [
    "# Ejemplos con IS NOT\n",
    "num_1 = 11\n",
    "num_2 = 55\n",
    "print(\"num_1 is not num_2? \",num_1 is not num_2)"
   ]
  },
  {
   "cell_type": "code",
   "execution_count": 35,
   "id": "7b702911",
   "metadata": {},
   "outputs": [
    {
     "name": "stdout",
     "output_type": "stream",
     "text": [
      "num_1 is not num_2?  False\n"
     ]
    }
   ],
   "source": [
    "num_1 = 88\n",
    "num_2 = 88\n",
    "print(\"num_1 is not num_2? \",num_1 is not num_2)"
   ]
  },
  {
   "cell_type": "markdown",
   "id": "72b5815e",
   "metadata": {},
   "source": [
    "### Conversión de tipos\n",
    "\n",
    "¿Qué es la conversión de tipos?\n",
    "- Es el proceso de conversión de un tipo de dato a otro tipo de dato\n",
    "- Es un paso muy importante para combinar multiples fuentes de datos en un formato específico\n",
    "- Hay dos tipos_\n",
    "  1. Conversión implícita, hecha de forma automática por el interprtete de Python.\n",
    "  2. Conversión explicíta"
   ]
  },
  {
   "cell_type": "code",
   "execution_count": 36,
   "id": "2952952e",
   "metadata": {},
   "outputs": [
    {
     "data": {
      "text/plain": [
       "16.0"
      ]
     },
     "execution_count": 36,
     "metadata": {},
     "output_type": "execute_result"
    }
   ],
   "source": [
    "# Conversión implícita\n",
    "14 + 2.0 \n",
    "\n",
    "#Pasa de manera automática, basta con que haya un float en la operación"
   ]
  },
  {
   "cell_type": "code",
   "execution_count": 37,
   "id": "f6e03371",
   "metadata": {},
   "outputs": [
    {
     "data": {
      "text/plain": [
       "199"
      ]
     },
     "execution_count": 37,
     "metadata": {},
     "output_type": "execute_result"
    }
   ],
   "source": [
    "# Conversión explícita\n",
    "int(199.99)"
   ]
  },
  {
   "cell_type": "code",
   "execution_count": 38,
   "id": "91724746",
   "metadata": {},
   "outputs": [
    {
     "data": {
      "text/plain": [
       "58.0"
      ]
     },
     "execution_count": 38,
     "metadata": {},
     "output_type": "execute_result"
    }
   ],
   "source": [
    "float(58)"
   ]
  },
  {
   "cell_type": "code",
   "execution_count": 39,
   "id": "f3b24029",
   "metadata": {},
   "outputs": [
    {
     "data": {
      "text/plain": [
       "(4+0j)"
      ]
     },
     "execution_count": 39,
     "metadata": {},
     "output_type": "execute_result"
    }
   ],
   "source": [
    "complex(4)"
   ]
  },
  {
   "cell_type": "markdown",
   "id": "a52c7628",
   "metadata": {},
   "source": [
    "### Conversión int"
   ]
  },
  {
   "cell_type": "code",
   "execution_count": 40,
   "id": "f6eb4ec8",
   "metadata": {},
   "outputs": [
    {
     "data": {
      "text/plain": [
       "10"
      ]
     },
     "execution_count": 40,
     "metadata": {},
     "output_type": "execute_result"
    }
   ],
   "source": [
    "int(10.78) #float a int"
   ]
  },
  {
   "cell_type": "code",
   "execution_count": 42,
   "id": "01c0a8a1",
   "metadata": {},
   "outputs": [
    {
     "data": {
      "text/plain": [
       "0"
      ]
     },
     "execution_count": 42,
     "metadata": {},
     "output_type": "execute_result"
    }
   ],
   "source": [
    "int(False) #bool a int"
   ]
  },
  {
   "cell_type": "code",
   "execution_count": null,
   "id": "f58a9da7",
   "metadata": {},
   "outputs": [],
   "source": [
    "#error -- complex a int\n",
    "int(5+3j)"
   ]
  },
  {
   "cell_type": "code",
   "execution_count": 43,
   "id": "cc783e52",
   "metadata": {},
   "outputs": [
    {
     "data": {
      "text/plain": [
       "120"
      ]
     },
     "execution_count": 43,
     "metadata": {},
     "output_type": "execute_result"
    }
   ],
   "source": [
    "int('120') #string a int"
   ]
  },
  {
   "cell_type": "code",
   "execution_count": null,
   "id": "5aeb99a2",
   "metadata": {},
   "outputs": [],
   "source": [
    "# error -- string a int, no lo reconoce como entero sino como float\n",
    "int(\"120.5\") "
   ]
  },
  {
   "cell_type": "markdown",
   "id": "192c0691",
   "metadata": {},
   "source": [
    "### Conversión float"
   ]
  },
  {
   "cell_type": "code",
   "execution_count": 44,
   "id": "734b7d8a",
   "metadata": {},
   "outputs": [
    {
     "data": {
      "text/plain": [
       "23.0"
      ]
     },
     "execution_count": 44,
     "metadata": {},
     "output_type": "execute_result"
    }
   ],
   "source": [
    "float(23) #int a float"
   ]
  },
  {
   "cell_type": "code",
   "execution_count": null,
   "id": "d4623eff",
   "metadata": {},
   "outputs": [],
   "source": [
    "# error -- complex a float\n",
    "float(23+3j) "
   ]
  },
  {
   "cell_type": "code",
   "execution_count": 45,
   "id": "30ca1347",
   "metadata": {},
   "outputs": [
    {
     "data": {
      "text/plain": [
       "1.0"
      ]
     },
     "execution_count": 45,
     "metadata": {},
     "output_type": "execute_result"
    }
   ],
   "source": [
    "#bool a float\n",
    "float(True) "
   ]
  },
  {
   "cell_type": "code",
   "execution_count": 46,
   "id": "ccc7eac5",
   "metadata": {},
   "outputs": [
    {
     "data": {
      "text/plain": [
       "843.29"
      ]
     },
     "execution_count": 46,
     "metadata": {},
     "output_type": "execute_result"
    }
   ],
   "source": [
    "#string a float\n",
    "float(\"843.29\")"
   ]
  },
  {
   "cell_type": "code",
   "execution_count": 47,
   "id": "604425da",
   "metadata": {},
   "outputs": [
    {
     "data": {
      "text/plain": [
       "843.0"
      ]
     },
     "execution_count": 47,
     "metadata": {},
     "output_type": "execute_result"
    }
   ],
   "source": [
    "#string a float -- entero\n",
    "float(\"843\")"
   ]
  },
  {
   "cell_type": "code",
   "execution_count": null,
   "id": "b370bb45",
   "metadata": {},
   "outputs": [],
   "source": [
    "#error -- string(con 1 letra) a float\n",
    "float(\"843t\")"
   ]
  },
  {
   "cell_type": "code",
   "execution_count": null,
   "id": "2cc7899b",
   "metadata": {},
   "outputs": [],
   "source": [
    "#error -- string a float, es un valor booleano en realidad\n",
    "float(\"True\")"
   ]
  },
  {
   "cell_type": "markdown",
   "id": "62bf3282",
   "metadata": {},
   "source": [
    "### Conversión complex"
   ]
  },
  {
   "cell_type": "code",
   "execution_count": 48,
   "id": "76d09dfb",
   "metadata": {},
   "outputs": [
    {
     "data": {
      "text/plain": [
       "(42+0j)"
      ]
     },
     "execution_count": 48,
     "metadata": {},
     "output_type": "execute_result"
    }
   ],
   "source": [
    "#int a complex\n",
    "complex(42)"
   ]
  },
  {
   "cell_type": "code",
   "execution_count": 49,
   "id": "ad3ce09f",
   "metadata": {},
   "outputs": [
    {
     "data": {
      "text/plain": [
       "(92.8+0j)"
      ]
     },
     "execution_count": 49,
     "metadata": {},
     "output_type": "execute_result"
    }
   ],
   "source": [
    "#float a complex\n",
    "complex(92.8)"
   ]
  },
  {
   "cell_type": "code",
   "execution_count": 50,
   "id": "c4b0c9ae",
   "metadata": {},
   "outputs": [
    {
     "data": {
      "text/plain": [
       "(1+0j)"
      ]
     },
     "execution_count": 50,
     "metadata": {},
     "output_type": "execute_result"
    }
   ],
   "source": [
    "#booleano a complex\n",
    "complex(True)"
   ]
  },
  {
   "cell_type": "code",
   "execution_count": 51,
   "id": "6a1a1566",
   "metadata": {},
   "outputs": [
    {
     "data": {
      "text/plain": [
       "(24.67+0j)"
      ]
     },
     "execution_count": 51,
     "metadata": {},
     "output_type": "execute_result"
    }
   ],
   "source": [
    "#string a complex\n",
    "complex(\"24.67\")"
   ]
  },
  {
   "cell_type": "code",
   "execution_count": 52,
   "id": "1497e9e3",
   "metadata": {},
   "outputs": [
    {
     "ename": "ValueError",
     "evalue": "complex() arg is a malformed string",
     "output_type": "error",
     "traceback": [
      "\u001b[1;31m---------------------------------------------------------------------------\u001b[0m",
      "\u001b[1;31mValueError\u001b[0m                                Traceback (most recent call last)",
      "Cell \u001b[1;32mIn[52], line 2\u001b[0m\n\u001b[0;32m      1\u001b[0m \u001b[38;5;66;03m#error -- string a complex\u001b[39;00m\n\u001b[1;32m----> 2\u001b[0m \u001b[38;5;28;43mcomplex\u001b[39;49m\u001b[43m(\u001b[49m\u001b[38;5;124;43m\"\u001b[39;49m\u001b[38;5;124;43mbackend\u001b[39;49m\u001b[38;5;124;43m\"\u001b[39;49m\u001b[43m)\u001b[49m\n",
      "\u001b[1;31mValueError\u001b[0m: complex() arg is a malformed string"
     ]
    }
   ],
   "source": [
    "#error -- string a complex\n",
    "complex(\"backend\")"
   ]
  },
  {
   "cell_type": "code",
   "execution_count": null,
   "id": "93bb43f1",
   "metadata": {},
   "outputs": [],
   "source": [
    "#error -- string a complex\n",
    "complex(\"10c\")"
   ]
  },
  {
   "cell_type": "code",
   "execution_count": 53,
   "id": "7089e2ed",
   "metadata": {},
   "outputs": [
    {
     "data": {
      "text/plain": [
       "10j"
      ]
     },
     "execution_count": 53,
     "metadata": {},
     "output_type": "execute_result"
    }
   ],
   "source": [
    "#string complex -- con la letra j\n",
    "complex(\"10j\")"
   ]
  },
  {
   "cell_type": "markdown",
   "id": "31a06409",
   "metadata": {},
   "source": [
    "### Conversiones bool"
   ]
  },
  {
   "cell_type": "code",
   "execution_count": 54,
   "id": "7cfcfc93",
   "metadata": {},
   "outputs": [
    {
     "data": {
      "text/plain": [
       "False"
      ]
     },
     "execution_count": 54,
     "metadata": {},
     "output_type": "execute_result"
    }
   ],
   "source": [
    "#int a bool\n",
    "bool(0)"
   ]
  },
  {
   "cell_type": "code",
   "execution_count": 55,
   "id": "5b691177",
   "metadata": {},
   "outputs": [
    {
     "data": {
      "text/plain": [
       "True"
      ]
     },
     "execution_count": 55,
     "metadata": {},
     "output_type": "execute_result"
    }
   ],
   "source": [
    "#int a bool\n",
    "bool(7)"
   ]
  },
  {
   "cell_type": "code",
   "execution_count": 56,
   "id": "ad653a2e",
   "metadata": {},
   "outputs": [
    {
     "data": {
      "text/plain": [
       "True"
      ]
     },
     "execution_count": 56,
     "metadata": {},
     "output_type": "execute_result"
    }
   ],
   "source": [
    "#float a bool\n",
    "bool(1.8)"
   ]
  },
  {
   "cell_type": "code",
   "execution_count": 57,
   "id": "40e80bb5",
   "metadata": {},
   "outputs": [
    {
     "data": {
      "text/plain": [
       "True"
      ]
     },
     "execution_count": 57,
     "metadata": {},
     "output_type": "execute_result"
    }
   ],
   "source": [
    "#float a bool\n",
    "bool(-1.8)"
   ]
  },
  {
   "cell_type": "code",
   "execution_count": 58,
   "id": "993fd978",
   "metadata": {},
   "outputs": [
    {
     "data": {
      "text/plain": [
       "False"
      ]
     },
     "execution_count": 58,
     "metadata": {},
     "output_type": "execute_result"
    }
   ],
   "source": [
    "#float a bool\n",
    "bool(0.0)"
   ]
  },
  {
   "cell_type": "code",
   "execution_count": 59,
   "id": "32fd9dd1",
   "metadata": {},
   "outputs": [
    {
     "data": {
      "text/plain": [
       "True"
      ]
     },
     "execution_count": 59,
     "metadata": {},
     "output_type": "execute_result"
    }
   ],
   "source": [
    "#complex a bool\n",
    "bool(0+3j)"
   ]
  },
  {
   "cell_type": "code",
   "execution_count": 61,
   "id": "2618593a",
   "metadata": {},
   "outputs": [
    {
     "data": {
      "text/plain": [
       "False"
      ]
     },
     "execution_count": 61,
     "metadata": {},
     "output_type": "execute_result"
    }
   ],
   "source": [
    "#complex a bool \n",
    "bool(0+0j)"
   ]
  },
  {
   "cell_type": "code",
   "execution_count": 62,
   "id": "7a4f7a30",
   "metadata": {},
   "outputs": [
    {
     "data": {
      "text/plain": [
       "True"
      ]
     },
     "execution_count": 62,
     "metadata": {},
     "output_type": "execute_result"
    }
   ],
   "source": [
    "#complex a bool\n",
    "bool(2+0j)"
   ]
  },
  {
   "cell_type": "code",
   "execution_count": 63,
   "id": "0b6e66b7",
   "metadata": {},
   "outputs": [
    {
     "data": {
      "text/plain": [
       "True"
      ]
     },
     "execution_count": 63,
     "metadata": {},
     "output_type": "execute_result"
    }
   ],
   "source": [
    "#string a bool -- valida si una cadena no está vacía\n",
    "bool(\"python\")"
   ]
  },
  {
   "cell_type": "code",
   "execution_count": 64,
   "id": "280ce204",
   "metadata": {},
   "outputs": [
    {
     "data": {
      "text/plain": [
       "True"
      ]
     },
     "execution_count": 64,
     "metadata": {},
     "output_type": "execute_result"
    }
   ],
   "source": [
    "#string a bool -- basta con que haya un espacio para que sea True\n",
    "bool(\" \")"
   ]
  },
  {
   "cell_type": "code",
   "execution_count": 65,
   "id": "b6ea11d0",
   "metadata": {},
   "outputs": [
    {
     "data": {
      "text/plain": [
       "False"
      ]
     },
     "execution_count": 65,
     "metadata": {},
     "output_type": "execute_result"
    }
   ],
   "source": [
    "#string a bool -- ejemplo con una cadena vacía\n",
    "bool(\"\")"
   ]
  },
  {
   "cell_type": "code",
   "execution_count": 66,
   "id": "13c5e42d",
   "metadata": {},
   "outputs": [
    {
     "data": {
      "text/plain": [
       "True"
      ]
     },
     "execution_count": 66,
     "metadata": {},
     "output_type": "execute_result"
    }
   ],
   "source": [
    "#string a bool \n",
    "bool(\"0\")"
   ]
  },
  {
   "cell_type": "markdown",
   "id": "e15ac984",
   "metadata": {},
   "source": [
    "### Conversiones str"
   ]
  },
  {
   "cell_type": "code",
   "execution_count": 67,
   "id": "e5cedb0c",
   "metadata": {},
   "outputs": [
    {
     "data": {
      "text/plain": [
       "'25'"
      ]
     },
     "execution_count": 67,
     "metadata": {},
     "output_type": "execute_result"
    }
   ],
   "source": [
    "#int a str\n",
    "str(25)"
   ]
  },
  {
   "cell_type": "code",
   "execution_count": 68,
   "id": "0e43ad98",
   "metadata": {},
   "outputs": [
    {
     "data": {
      "text/plain": [
       "16.9"
      ]
     },
     "execution_count": 68,
     "metadata": {},
     "output_type": "execute_result"
    }
   ],
   "source": [
    "#float a str\n",
    "float(16.9)"
   ]
  },
  {
   "cell_type": "code",
   "execution_count": 69,
   "id": "ae05b562",
   "metadata": {},
   "outputs": [
    {
     "data": {
      "text/plain": [
       "'(6+8j)'"
      ]
     },
     "execution_count": 69,
     "metadata": {},
     "output_type": "execute_result"
    }
   ],
   "source": [
    "#complex a str\n",
    "str(6+8j)"
   ]
  },
  {
   "cell_type": "code",
   "execution_count": 70,
   "id": "c742b152",
   "metadata": {},
   "outputs": [
    {
     "data": {
      "text/plain": [
       "'True'"
      ]
     },
     "execution_count": 70,
     "metadata": {},
     "output_type": "execute_result"
    }
   ],
   "source": [
    "#bool a str\n",
    "str(True)"
   ]
  },
  {
   "cell_type": "markdown",
   "id": "3ee75ad4",
   "metadata": {},
   "source": [
    "### Funciones básicas \n",
    "\n",
    "trunc()"
   ]
  },
  {
   "cell_type": "code",
   "execution_count": 1,
   "id": "7bf405f6",
   "metadata": {},
   "outputs": [],
   "source": [
    "num_1 = 64.99\n",
    "num_2 = 64.5\n",
    "num_3 = 64.51\n",
    "num_4 = 64.000001"
   ]
  },
  {
   "cell_type": "code",
   "execution_count": 2,
   "id": "9b2433da",
   "metadata": {},
   "outputs": [
    {
     "name": "stdout",
     "output_type": "stream",
     "text": [
      "64\n",
      "64\n",
      "64\n",
      "64\n"
     ]
    }
   ],
   "source": [
    "from math import trunc\n",
    "num_1 = 64.99\n",
    "num_2 = 64.5\n",
    "num_3 = 64.51\n",
    "num_4 = 64.000001\n",
    "\n",
    "print(trunc(num_1))\n",
    "print(trunc(num_2))\n",
    "print(trunc(num_3))\n",
    "print(trunc(num_4))"
   ]
  },
  {
   "cell_type": "markdown",
   "id": "151c9d7a",
   "metadata": {},
   "source": [
    "### round(), ceil() y florr()"
   ]
  },
  {
   "cell_type": "code",
   "execution_count": 6,
   "id": "c3bea13a",
   "metadata": {},
   "outputs": [
    {
     "name": "stdout",
     "output_type": "stream",
     "text": [
      "Usando round:  65\n",
      "Usando round:  64\n",
      "\n",
      "Usando ceil:  65\n",
      "\n",
      "Usando floor:  64\n"
     ]
    }
   ],
   "source": [
    "num_1 = 64.99\n",
    "num_2 = 64.5\n",
    "num_3 = 64.51\n",
    "num_4 = 64.000001\n",
    "\n",
    "print(\"Usando round: \",round(num_1)) #A partir de .51 redondea hacia arriba\n",
    "print(\"Usando round: \",round(num_2))\n",
    "\n",
    "#ceil redondeo hacia arriba -- siempre\n",
    "from math import ceil\n",
    "print(\"\\nUsando ceil: \",ceil(num_3))\n",
    "\n",
    "#floor redondeo hacia abajo -- siempre\n",
    "from math import floor\n",
    "print(\"\\nUsando floor: \",floor(num_4))"
   ]
  },
  {
   "cell_type": "markdown",
   "id": "1cbf4fae",
   "metadata": {},
   "source": [
    "## FUNCIONES PARA FORMATO"
   ]
  },
  {
   "cell_type": "markdown",
   "id": "37079fef",
   "metadata": {},
   "source": [
    "### Función %"
   ]
  },
  {
   "cell_type": "code",
   "execution_count": 7,
   "id": "a720d051",
   "metadata": {},
   "outputs": [
    {
     "name": "stdout",
     "output_type": "stream",
     "text": [
      "Con 1 decimal:  65.0\n",
      "Con 2 decimal:  64.52\n",
      "Con 3 decimal:  64.513\n",
      "Con 4 decimal:  64.0000\n"
     ]
    }
   ],
   "source": [
    "num_1 = 64.99\n",
    "num_2 = 64.516\n",
    "num_3 = 64.5132\n",
    "num_4 = 64.000001\n",
    "\n",
    "print(\"Con 1 decimal: \", '%.1f' % num_1)\n",
    "print(\"Con 2 decimal: \", '%.2f' % num_2)\n",
    "print(\"Con 3 decimal: \", '%.3f' % num_3)\n",
    "print(\"Con 4 decimal: \", '%.4f' % num_4)"
   ]
  },
  {
   "cell_type": "markdown",
   "id": "c2acde99",
   "metadata": {},
   "source": [
    "###  format()"
   ]
  },
  {
   "cell_type": "code",
   "execution_count": 9,
   "id": "b9c19354",
   "metadata": {},
   "outputs": [
    {
     "name": "stdout",
     "output_type": "stream",
     "text": [
      "Con 1 decimal:  65.0\n",
      "Con 2 decimal:  64.52\n",
      "Con 3 decimal:  64.513\n",
      "Con 4 decimal:  64.0000\n"
     ]
    }
   ],
   "source": [
    "num_1 = 64.99\n",
    "num_2 = 64.516\n",
    "num_3 = 64.5132\n",
    "num_4 = 64.000001\n",
    "\n",
    "print(\"Con 1 decimal: \", '{:.1f}'.format(num_1))\n",
    "print(\"Con 2 decimal: \", '{:.2f}'.format(num_2))\n",
    "print(\"Con 3 decimal: \", '{:.3f}'.format(num_3))\n",
    "print(\"Con 4 decimal: \", '{:.4f}'.format(num_4))"
   ]
  },
  {
   "cell_type": "code",
   "execution_count": null,
   "id": "73658bec",
   "metadata": {},
   "outputs": [],
   "source": []
  }
 ],
 "metadata": {
  "kernelspec": {
   "display_name": "Python 3 (ipykernel)",
   "language": "python",
   "name": "python3"
  },
  "language_info": {
   "codemirror_mode": {
    "name": "ipython",
    "version": 3
   },
   "file_extension": ".py",
   "mimetype": "text/x-python",
   "name": "python",
   "nbconvert_exporter": "python",
   "pygments_lexer": "ipython3",
   "version": "3.10.9"
  }
 },
 "nbformat": 4,
 "nbformat_minor": 5
}
