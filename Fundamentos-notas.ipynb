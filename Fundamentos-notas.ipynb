{
 "cells": [
  {
   "cell_type": "markdown",
   "id": "7834864c",
   "metadata": {},
   "source": [
    "## Python distingue entre mayúsculas y minúsculas"
   ]
  },
  {
   "cell_type": "code",
   "execution_count": 1,
   "id": "2d3c179e",
   "metadata": {},
   "outputs": [
    {
     "name": "stdout",
     "output_type": "stream",
     "text": [
      "El Curso es:  Backend Python\n"
     ]
    }
   ],
   "source": [
    "A = \"Backend Python\"\n",
    "print(\"El Curso es: \",A)"
   ]
  },
  {
   "cell_type": "code",
   "execution_count": 2,
   "id": "2f3dcdfc",
   "metadata": {},
   "outputs": [
    {
     "name": "stdout",
     "output_type": "stream",
     "text": [
      "El Curso es:  Backend Python\n"
     ]
    }
   ],
   "source": [
    "a = \"Backend Python\"\n",
    "print(\"El Curso es: \",a) #Si se escribiera A en vez de a, marca error, no es la misma variable."
   ]
  },
  {
   "cell_type": "markdown",
   "id": "46f64eb3",
   "metadata": {},
   "source": [
    "## Palabras Reservadas en Python"
   ]
  },
  {
   "cell_type": "code",
   "execution_count": 3,
   "id": "1db60b5f",
   "metadata": {},
   "outputs": [
    {
     "name": "stdout",
     "output_type": "stream",
     "text": [
      "\n",
      "Here is a list of the Python keywords.  Enter any keyword to get more help.\n",
      "\n",
      "False               class               from                or\n",
      "None                continue            global              pass\n",
      "True                def                 if                  raise\n",
      "and                 del                 import              return\n",
      "as                  elif                in                  try\n",
      "assert              else                is                  while\n",
      "async               except              lambda              with\n",
      "await               finally             nonlocal            yield\n",
      "break               for                 not                 \n",
      "\n"
     ]
    }
   ],
   "source": [
    "help(\"keywords\")"
   ]
  },
  {
   "cell_type": "markdown",
   "id": "dcb160a3",
   "metadata": {},
   "source": [
    "## Caracteres de Escape en Python"
   ]
  },
  {
   "cell_type": "code",
   "execution_count": 4,
   "id": "6f3be17d",
   "metadata": {},
   "outputs": [
    {
     "data": {
      "text/plain": [
       "\"'\""
      ]
     },
     "execution_count": 4,
     "metadata": {},
     "output_type": "execute_result"
    }
   ],
   "source": [
    "\"\\'\" # Single Quote / Comilla Sencilla"
   ]
  },
  {
   "cell_type": "code",
   "execution_count": 5,
   "id": "9fedc8c3",
   "metadata": {},
   "outputs": [
    {
     "data": {
      "text/plain": [
       "\"'\""
      ]
     },
     "execution_count": 5,
     "metadata": {},
     "output_type": "execute_result"
    }
   ],
   "source": [
    "\"'\" "
   ]
  },
  {
   "cell_type": "code",
   "execution_count": 6,
   "id": "0acf4fed",
   "metadata": {},
   "outputs": [
    {
     "data": {
      "text/plain": [
       "\"'\""
      ]
     },
     "execution_count": 6,
     "metadata": {},
     "output_type": "execute_result"
    }
   ],
   "source": [
    "'\\''"
   ]
  },
  {
   "cell_type": "code",
   "execution_count": null,
   "id": "a7d104f4",
   "metadata": {},
   "outputs": [],
   "source": [
    "''' # Error "
   ]
  },
  {
   "cell_type": "code",
   "execution_count": 7,
   "id": "de17e669",
   "metadata": {},
   "outputs": [
    {
     "data": {
      "text/plain": [
       "'\"'"
      ]
     },
     "execution_count": 7,
     "metadata": {},
     "output_type": "execute_result"
    }
   ],
   "source": [
    "\"\\\"\" # Double Quote / Comilla Doble"
   ]
  },
  {
   "cell_type": "code",
   "execution_count": 8,
   "id": "a7995993",
   "metadata": {},
   "outputs": [
    {
     "data": {
      "text/plain": [
       "'\\n'"
      ]
     },
     "execution_count": 8,
     "metadata": {},
     "output_type": "execute_result"
    }
   ],
   "source": [
    "\"\\n\" # New Line / Salto de Línea"
   ]
  },
  {
   "cell_type": "code",
   "execution_count": 9,
   "id": "b0767429",
   "metadata": {},
   "outputs": [
    {
     "name": "stdout",
     "output_type": "stream",
     "text": [
      "Backend Python De EBAC\n"
     ]
    }
   ],
   "source": [
    "my_course = \"Backend Python De EBAC\"\n",
    "print(my_course)"
   ]
  },
  {
   "cell_type": "code",
   "execution_count": 10,
   "id": "6a75c71d",
   "metadata": {},
   "outputs": [
    {
     "name": "stdout",
     "output_type": "stream",
     "text": [
      "Backend Python\n",
      "De EBAC\n"
     ]
    }
   ],
   "source": [
    "my_course = \"Backend Python\\nDe EBAC\"\n",
    "print(my_course)"
   ]
  },
  {
   "cell_type": "code",
   "execution_count": 11,
   "id": "faa94db6",
   "metadata": {},
   "outputs": [
    {
     "name": "stdout",
     "output_type": "stream",
     "text": [
      "Backend\n",
      "Python\n",
      "De EBAC\n"
     ]
    }
   ],
   "source": [
    "my_course = \"Backend\\nPython\\nDe EBAC\"\n",
    "print(my_course)"
   ]
  },
  {
   "cell_type": "code",
   "execution_count": 12,
   "id": "5cd25115",
   "metadata": {},
   "outputs": [
    {
     "data": {
      "text/plain": [
       "'\\t'"
      ]
     },
     "execution_count": 12,
     "metadata": {},
     "output_type": "execute_result"
    }
   ],
   "source": [
    "\"\\t\" # Tab"
   ]
  },
  {
   "cell_type": "code",
   "execution_count": 13,
   "id": "2e9403f7",
   "metadata": {},
   "outputs": [
    {
     "name": "stdout",
     "output_type": "stream",
     "text": [
      "Backend Python De EBAC\n"
     ]
    }
   ],
   "source": [
    "my_course = \"Backend Python De EBAC\"\n",
    "print(my_course)"
   ]
  },
  {
   "cell_type": "code",
   "execution_count": 14,
   "id": "d8750b4b",
   "metadata": {},
   "outputs": [
    {
     "name": "stdout",
     "output_type": "stream",
     "text": [
      "Backend Python\tDe EBAC\n"
     ]
    }
   ],
   "source": [
    "my_course = \"Backend Python\\tDe EBAC\"\n",
    "print(my_course)"
   ]
  },
  {
   "cell_type": "code",
   "execution_count": 15,
   "id": "d128321f",
   "metadata": {},
   "outputs": [
    {
     "name": "stdout",
     "output_type": "stream",
     "text": [
      "Backend\tPython\tDe EBAC\n"
     ]
    }
   ],
   "source": [
    "my_course = \"Backend\\tPython\\tDe EBAC\"\n",
    "print(my_course)"
   ]
  },
  {
   "cell_type": "code",
   "execution_count": 16,
   "id": "feeea0be",
   "metadata": {},
   "outputs": [
    {
     "data": {
      "text/plain": [
       "'\\r'"
      ]
     },
     "execution_count": 16,
     "metadata": {},
     "output_type": "execute_result"
    }
   ],
   "source": [
    "\"\\r\" #Retorno"
   ]
  },
  {
   "cell_type": "code",
   "execution_count": 17,
   "id": "0fff037e",
   "metadata": {},
   "outputs": [
    {
     "name": "stdout",
     "output_type": "stream",
     "text": [
      "Backend Python De EBAC\n"
     ]
    }
   ],
   "source": [
    "my_course = \"Backend Python De EBAC\"\n",
    "print(my_course)"
   ]
  },
  {
   "cell_type": "code",
   "execution_count": 18,
   "id": "0c2c3431",
   "metadata": {},
   "outputs": [
    {
     "name": "stdout",
     "output_type": "stream",
     "text": [
      "Backend\r",
      "Python\r",
      "De EBAC\n"
     ]
    }
   ],
   "source": [
    "my_course = \"Backend\\rPython\\rDe EBAC\"\n",
    "print(my_course)"
   ]
  },
  {
   "cell_type": "code",
   "execution_count": null,
   "id": "ab5285ca",
   "metadata": {},
   "outputs": [],
   "source": [
    "\"\\b\" # Backspace/Retorno"
   ]
  },
  {
   "cell_type": "code",
   "execution_count": 19,
   "id": "4d51a5ce",
   "metadata": {},
   "outputs": [
    {
     "name": "stdout",
     "output_type": "stream",
     "text": [
      "Backend\bPython De EBAC\n"
     ]
    }
   ],
   "source": [
    "my_course = \"Backend\\bPython De EBAC\"\n",
    "# Va a eliminar la 'd'\n",
    "print(my_course)"
   ]
  },
  {
   "cell_type": "code",
   "execution_count": null,
   "id": "f1773c31",
   "metadata": {},
   "outputs": [],
   "source": [
    "\"\\ooo\" #Octal"
   ]
  },
  {
   "cell_type": "code",
   "execution_count": 20,
   "id": "8d52cb29",
   "metadata": {},
   "outputs": [
    {
     "name": "stdout",
     "output_type": "stream",
     "text": [
      "Hola\n"
     ]
    }
   ],
   "source": [
    "hello_spanish_octal = \"\\110\\157\\154\\141\"\n",
    "print(hello_spanish_octal)"
   ]
  },
  {
   "cell_type": "code",
   "execution_count": null,
   "id": "6ab9a905",
   "metadata": {},
   "outputs": [],
   "source": [
    "#\"\\xhh\" #Hexadecimal"
   ]
  },
  {
   "cell_type": "code",
   "execution_count": 21,
   "id": "9f16a93c",
   "metadata": {},
   "outputs": [
    {
     "name": "stdout",
     "output_type": "stream",
     "text": [
      "Hola\n"
     ]
    }
   ],
   "source": [
    "hello_spanish_hex = \"\\x48\\x6f\\x6c\\x61\"\n",
    "print(hello_spanish_hex)"
   ]
  },
  {
   "cell_type": "markdown",
   "id": "63b734d3",
   "metadata": {},
   "source": [
    "## Función eval()"
   ]
  },
  {
   "cell_type": "code",
   "execution_count": 22,
   "id": "42988bc1",
   "metadata": {},
   "outputs": [
    {
     "name": "stdout",
     "output_type": "stream",
     "text": [
      "my_number+1000\n"
     ]
    }
   ],
   "source": [
    "my_number = 22\n",
    "print(\"my_number+1000\")"
   ]
  },
  {
   "cell_type": "code",
   "execution_count": 23,
   "id": "1ed47205",
   "metadata": {},
   "outputs": [
    {
     "name": "stdout",
     "output_type": "stream",
     "text": [
      "1022\n"
     ]
    }
   ],
   "source": [
    "my_number = 22\n",
    "print(eval(\"my_number+1000\"))"
   ]
  },
  {
   "cell_type": "code",
   "execution_count": 24,
   "id": "bf467670",
   "metadata": {},
   "outputs": [
    {
     "name": "stdout",
     "output_type": "stream",
     "text": [
      "Ingresa un número: 200\n"
     ]
    }
   ],
   "source": [
    "my_input = input(\"Ingresa un número: \")"
   ]
  },
  {
   "cell_type": "code",
   "execution_count": 25,
   "id": "665d0e59",
   "metadata": {},
   "outputs": [
    {
     "data": {
      "text/plain": [
       "200"
      ]
     },
     "execution_count": 25,
     "metadata": {},
     "output_type": "execute_result"
    }
   ],
   "source": [
    "eval(my_input)"
   ]
  },
  {
   "cell_type": "code",
   "execution_count": 26,
   "id": "53a2bde5",
   "metadata": {},
   "outputs": [
    {
     "name": "stdout",
     "output_type": "stream",
     "text": [
      "Ingresa un número: 400\n",
      "400\n",
      "<class 'int'>\n"
     ]
    }
   ],
   "source": [
    "my_input = eval(input(\"Ingresa un número: \"))\n",
    "print(my_input)\n",
    "print(type(my_input))\n",
    "# Entero / Int"
   ]
  },
  {
   "cell_type": "markdown",
   "id": "ea1fade7",
   "metadata": {},
   "source": [
    "## Función range() y xrange()"
   ]
  },
  {
   "cell_type": "code",
   "execution_count": 27,
   "id": "0b76685b",
   "metadata": {},
   "outputs": [],
   "source": [
    "x = range(10)"
   ]
  },
  {
   "cell_type": "code",
   "execution_count": 28,
   "id": "cf2e9f3f",
   "metadata": {},
   "outputs": [
    {
     "data": {
      "text/plain": [
       "range(0, 10)"
      ]
     },
     "execution_count": 28,
     "metadata": {},
     "output_type": "execute_result"
    }
   ],
   "source": [
    "range(0, 10)"
   ]
  },
  {
   "cell_type": "code",
   "execution_count": 29,
   "id": "9f89f060",
   "metadata": {},
   "outputs": [
    {
     "name": "stdout",
     "output_type": "stream",
     "text": [
      "0\n",
      "1\n",
      "2\n",
      "3\n",
      "4\n",
      "5\n",
      "6\n",
      "7\n",
      "8\n",
      "9\n"
     ]
    }
   ],
   "source": [
    "for number in x:\n",
    "    print(number)"
   ]
  },
  {
   "cell_type": "code",
   "execution_count": 30,
   "id": "343b4bab",
   "metadata": {},
   "outputs": [
    {
     "name": "stdout",
     "output_type": "stream",
     "text": [
      "3\n",
      "5\n",
      "7\n",
      "9\n",
      "11\n",
      "13\n",
      "15\n",
      "17\n",
      "19\n"
     ]
    }
   ],
   "source": [
    "x = range(3,20,2)\n",
    "for number in x:\n",
    "    print(number)"
   ]
  },
  {
   "cell_type": "markdown",
   "id": "340a5ec8",
   "metadata": {},
   "source": [
    "## Mutabilidad e Inmutabilidad"
   ]
  },
  {
   "cell_type": "code",
   "execution_count": 31,
   "id": "81b5289f",
   "metadata": {},
   "outputs": [],
   "source": [
    "tuple1 = (1,2,3,4,5)"
   ]
  },
  {
   "cell_type": "code",
   "execution_count": null,
   "id": "34eb15ed",
   "metadata": {},
   "outputs": [],
   "source": [
    "#Inmutabilidad\n",
    "tuple1[0] = 10\n",
    "\n",
    "#Marca error, no se puede reasignar el valor del elemento 0"
   ]
  },
  {
   "cell_type": "code",
   "execution_count": 32,
   "id": "be88076b",
   "metadata": {},
   "outputs": [],
   "source": [
    "my_string = \"Aprendiendo sobre inmutabilidad\""
   ]
  },
  {
   "cell_type": "code",
   "execution_count": null,
   "id": "29ac7c43",
   "metadata": {},
   "outputs": [],
   "source": [
    "my_string[0] = \"a\"\n",
    "\n",
    "#Marca error, no se puede reasignar el valor del elemento 0"
   ]
  },
  {
   "cell_type": "code",
   "execution_count": 33,
   "id": "8b696fc1",
   "metadata": {},
   "outputs": [],
   "source": [
    "colors = [\"rojo\", \"azul\", \"verde\", \"negro\"]"
   ]
  },
  {
   "cell_type": "code",
   "execution_count": 34,
   "id": "2eddd406",
   "metadata": {},
   "outputs": [
    {
     "name": "stdout",
     "output_type": "stream",
     "text": [
      "['blanco', 'azul', 'verde', 'negro']\n"
     ]
    }
   ],
   "source": [
    "colors[0] = \"blanco\"\n",
    "print(colors)"
   ]
  },
  {
   "cell_type": "markdown",
   "id": "0830754d",
   "metadata": {},
   "source": [
    "## Función print()"
   ]
  },
  {
   "cell_type": "code",
   "execution_count": 36,
   "id": "2b04fcd1",
   "metadata": {},
   "outputs": [
    {
     "name": "stdout",
     "output_type": "stream",
     "text": [
      "El valor de my_variable es:  567\n"
     ]
    }
   ],
   "source": [
    "#Mostrar resultado\n",
    "my_variable = 567\n",
    "print(\"El valor de my_variable es: \", my_variable)"
   ]
  },
  {
   "cell_type": "code",
   "execution_count": 37,
   "id": "f215842c",
   "metadata": {},
   "outputs": [
    {
     "name": "stdout",
     "output_type": "stream",
     "text": [
      "El valor de d es:  800\n"
     ]
    }
   ],
   "source": [
    "a=100\n",
    "b=500\n",
    "c=200\n",
    "d=a+b+c\n",
    "print(\"El valor de d es: \", d)"
   ]
  },
  {
   "cell_type": "code",
   "execution_count": 38,
   "id": "376716fa",
   "metadata": {},
   "outputs": [],
   "source": [
    "import builtins"
   ]
  },
  {
   "cell_type": "code",
   "execution_count": null,
   "id": "44a3b970",
   "metadata": {},
   "outputs": [],
   "source": [
    "help(builtins.print)"
   ]
  },
  {
   "cell_type": "code",
   "execution_count": null,
   "id": "28ef2016",
   "metadata": {},
   "outputs": [],
   "source": [
    "help(print)"
   ]
  },
  {
   "cell_type": "code",
   "execution_count": null,
   "id": "eba3b674",
   "metadata": {},
   "outputs": [],
   "source": [
    "dir(builtins)"
   ]
  },
  {
   "cell_type": "markdown",
   "id": "1992ec24",
   "metadata": {},
   "source": [
    "## Función type()"
   ]
  },
  {
   "cell_type": "code",
   "execution_count": 39,
   "id": "39d999f9",
   "metadata": {},
   "outputs": [
    {
     "name": "stdout",
     "output_type": "stream",
     "text": [
      "570\n"
     ]
    }
   ],
   "source": [
    "my_number=570\n",
    "print(my_number)"
   ]
  },
  {
   "cell_type": "code",
   "execution_count": 40,
   "id": "45727a26",
   "metadata": {},
   "outputs": [
    {
     "name": "stdout",
     "output_type": "stream",
     "text": [
      "570\n",
      "<class 'int'>\n"
     ]
    }
   ],
   "source": [
    "# Entero / int\n",
    "my_number=570\n",
    "print(my_number)\n",
    "print(type(my_number)) "
   ]
  },
  {
   "cell_type": "code",
   "execution_count": 41,
   "id": "6f42e525",
   "metadata": {},
   "outputs": [
    {
     "name": "stdout",
     "output_type": "stream",
     "text": [
      "Backend Python\n",
      "<class 'str'>\n"
     ]
    }
   ],
   "source": [
    "# Cadenas / string\n",
    "my_string = \"Backend Python\"\n",
    "print(my_string)\n",
    "print(type(my_string)) "
   ]
  },
  {
   "cell_type": "code",
   "execution_count": 42,
   "id": "b1d8c4cb",
   "metadata": {},
   "outputs": [
    {
     "name": "stdout",
     "output_type": "stream",
     "text": [
      "3.97\n",
      "<class 'float'>\n"
     ]
    }
   ],
   "source": [
    "# Flotantes / float\n",
    "my_float = 3.97\n",
    "print(my_float)\n",
    "print(type(my_float)) "
   ]
  },
  {
   "cell_type": "code",
   "execution_count": 43,
   "id": "cb686ab7",
   "metadata": {},
   "outputs": [
    {
     "name": "stdout",
     "output_type": "stream",
     "text": [
      "True\n",
      "<class 'bool'>\n"
     ]
    }
   ],
   "source": [
    "# Boolean\n",
    "my_boolean = True #Puede ser False, ambas sin \"\"\n",
    "print(my_boolean)\n",
    "print(type(my_boolean)) "
   ]
  },
  {
   "cell_type": "code",
   "execution_count": 44,
   "id": "8cf96395",
   "metadata": {},
   "outputs": [
    {
     "name": "stdout",
     "output_type": "stream",
     "text": [
      "False\n",
      "<class 'str'>\n"
     ]
    }
   ],
   "source": [
    "# Cadena / string\n",
    "my_string = \"False\"\n",
    "print(my_string)\n",
    "print(type(my_string)) "
   ]
  },
  {
   "cell_type": "code",
   "execution_count": 45,
   "id": "54fbf892",
   "metadata": {},
   "outputs": [
    {
     "name": "stdout",
     "output_type": "stream",
     "text": [
      "[1, 7, 4, 2]\n",
      "<class 'list'>\n"
     ]
    }
   ],
   "source": [
    "# Listas / list\n",
    "my_list=[1,7,4,2]\n",
    "print(my_list)\n",
    "print(type(my_list)) "
   ]
  },
  {
   "cell_type": "code",
   "execution_count": 46,
   "id": "d8dd14ac",
   "metadata": {},
   "outputs": [
    {
     "name": "stdout",
     "output_type": "stream",
     "text": [
      "(3, 8, 2, 5)\n",
      "<class 'tuple'>\n"
     ]
    }
   ],
   "source": [
    "# Tuplas / tuple\n",
    "my_tuple = (3,8,2,5)\n",
    "print(my_tuple)\n",
    "print(type(my_tuple)) "
   ]
  },
  {
   "cell_type": "code",
   "execution_count": 47,
   "id": "42f62145",
   "metadata": {},
   "outputs": [
    {
     "name": "stdout",
     "output_type": "stream",
     "text": [
      "{1, 2.5, 4, 'Python'}\n",
      "<class 'set'>\n"
     ]
    }
   ],
   "source": [
    "# Set\n",
    "my_set = {4,1,\"Python\", 2.5} #elementos de varios tipos\n",
    "print(my_set)\n",
    "print(type(my_set)) "
   ]
  },
  {
   "cell_type": "code",
   "execution_count": 48,
   "id": "27834294",
   "metadata": {},
   "outputs": [
    {
     "name": "stdout",
     "output_type": "stream",
     "text": [
      "{'a': 20, 'b': 50, 'c': 35}\n",
      "<class 'dict'>\n"
     ]
    }
   ],
   "source": [
    "# Diccionarios / dict\n",
    "my_dictionary = {\"a\":20, \"b\":50, \"c\":35}\n",
    "print(my_dictionary)\n",
    "print(type(my_dictionary)) "
   ]
  },
  {
   "cell_type": "markdown",
   "id": "9190b6a6",
   "metadata": {},
   "source": [
    "## Función id()\n",
    "#id() función para obtener la dirección de memoria"
   ]
  },
  {
   "cell_type": "code",
   "execution_count": 49,
   "id": "a4745646",
   "metadata": {},
   "outputs": [
    {
     "name": "stdout",
     "output_type": "stream",
     "text": [
      "Python\n",
      "<class 'str'>\n",
      "2663256951472\n"
     ]
    }
   ],
   "source": [
    "# Cadena / string\n",
    "my_string = \"Python\"\n",
    "print(my_string)\n",
    "print(type(my_string)) \n",
    "print(id(my_string)) "
   ]
  },
  {
   "cell_type": "code",
   "execution_count": 50,
   "id": "13823496",
   "metadata": {},
   "outputs": [
    {
     "name": "stdout",
     "output_type": "stream",
     "text": [
      "Python\n",
      "Python\n",
      "<class 'str'>\n",
      "<class 'str'>\n",
      "2663256951472\n",
      "2663256951472\n"
     ]
    }
   ],
   "source": [
    "# Cadena / string\n",
    "my_string = \"Python\"\n",
    "my_string3 = \"Python\"\n",
    "print(my_string)\n",
    "print(my_string3)\n",
    "print(type(my_string)) \n",
    "print(type(my_string3)) \n",
    "print(id(my_string)) \n",
    "print(id(my_string3)) "
   ]
  },
  {
   "cell_type": "markdown",
   "id": "c6adcb5c",
   "metadata": {},
   "source": [
    "## Múltiples Valores de Entrada"
   ]
  },
  {
   "cell_type": "code",
   "execution_count": 51,
   "id": "54ad97ec",
   "metadata": {},
   "outputs": [
    {
     "name": "stdout",
     "output_type": "stream",
     "text": [
      "Ingresa el valor de my_number: 500\n",
      "El valor de my_number es:  500\n"
     ]
    }
   ],
   "source": [
    "my_number = input(\"Ingresa el valor de my_number: \")\n",
    "print(\"El valor de my_number es: \", my_number)"
   ]
  },
  {
   "cell_type": "code",
   "execution_count": 52,
   "id": "70eb7408",
   "metadata": {},
   "outputs": [
    {
     "name": "stdout",
     "output_type": "stream",
     "text": [
      "Ingresa los 3 valores: 100 200 300\n",
      "El valor de a es:  100\n",
      "El valor de b es:  200\n",
      "El valor de c es:  300\n"
     ]
    }
   ],
   "source": [
    "a,b,c = input(\"Ingresa los 3 valores: \").split()\n",
    "print(\"El valor de a es: \",a)\n",
    "print(\"El valor de b es: \",b)\n",
    "print(\"El valor de c es: \",c)"
   ]
  },
  {
   "cell_type": "code",
   "execution_count": 53,
   "id": "fc00f906",
   "metadata": {},
   "outputs": [
    {
     "name": "stdout",
     "output_type": "stream",
     "text": [
      "Ingresa los 3 valores separados por coma: 1,2,3\n",
      "El valor de a es:  1\n",
      "El valor de b es:  2\n",
      "El valor de c es:  3\n"
     ]
    }
   ],
   "source": [
    "a,b,c = input(\"Ingresa los 3 valores separados por coma: \").split(\",\")\n",
    "print(\"El valor de a es: \",a)\n",
    "print(\"El valor de b es: \",b)\n",
    "print(\"El valor de c es: \",c)"
   ]
  },
  {
   "cell_type": "code",
   "execution_count": null,
   "id": "0dbcfe74",
   "metadata": {},
   "outputs": [],
   "source": []
  }
 ],
 "metadata": {
  "kernelspec": {
   "display_name": "Python 3 (ipykernel)",
   "language": "python",
   "name": "python3"
  },
  "language_info": {
   "codemirror_mode": {
    "name": "ipython",
    "version": 3
   },
   "file_extension": ".py",
   "mimetype": "text/x-python",
   "name": "python",
   "nbconvert_exporter": "python",
   "pygments_lexer": "ipython3",
   "version": "3.10.9"
  }
 },
 "nbformat": 4,
 "nbformat_minor": 5
}
