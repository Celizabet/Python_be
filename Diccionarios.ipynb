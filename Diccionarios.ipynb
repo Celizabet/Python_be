{
 "cells": [
  {
   "cell_type": "markdown",
   "id": "ed6ce425",
   "metadata": {},
   "source": [
    "## Diferentes formas de crear diccionarios"
   ]
  },
  {
   "cell_type": "code",
   "execution_count": 1,
   "id": "818649c0",
   "metadata": {},
   "outputs": [
    {
     "name": "stdout",
     "output_type": "stream",
     "text": [
      "<class 'dict'>\n",
      "{}\n"
     ]
    }
   ],
   "source": [
    "my_dict = {}\n",
    "print(type(my_dict))\n",
    "print(my_dict)"
   ]
  },
  {
   "cell_type": "code",
   "execution_count": 2,
   "id": "352bec15",
   "metadata": {},
   "outputs": [
    {
     "name": "stdout",
     "output_type": "stream",
     "text": [
      "<class 'dict'>\n",
      "{}\n"
     ]
    }
   ],
   "source": [
    "my_dict = dict()\n",
    "print(type(my_dict))\n",
    "print(my_dict)"
   ]
  },
  {
   "cell_type": "code",
   "execution_count": 3,
   "id": "a0e714dc",
   "metadata": {},
   "outputs": [
    {
     "name": "stdout",
     "output_type": "stream",
     "text": [
      "<class 'dict'>\n",
      "{1: 'uno', 2: 'dos', 3: 'tres', 4: 'cuatro', 5: 'cinco'}\n"
     ]
    }
   ],
   "source": [
    "#Representación de un diccionario\n",
    "my_dict = {\n",
    "    1:\"uno\", \n",
    "    2:\"dos\",\n",
    "    3:\"tres\",\n",
    "    4:\"cuatro\",\n",
    "    5:\"cinco\"\n",
    "}\n",
    "print(type(my_dict))\n",
    "print(my_dict)"
   ]
  },
  {
   "cell_type": "code",
   "execution_count": 4,
   "id": "7a3921b9",
   "metadata": {},
   "outputs": [
    {
     "name": "stdout",
     "output_type": "stream",
     "text": [
      "<class 'str'>\n"
     ]
    }
   ],
   "source": [
    "print(type(my_dict[1]))"
   ]
  },
  {
   "cell_type": "code",
   "execution_count": 5,
   "id": "bb262485",
   "metadata": {},
   "outputs": [
    {
     "name": "stdout",
     "output_type": "stream",
     "text": [
      "<class 'dict'>\n",
      "{'uno': 1, 'dos': 2, 'tres': 3, 'cuatro': 4, 'cinco': 5}\n"
     ]
    }
   ],
   "source": [
    "# Usuando nombres de las llaves con valores\n",
    "my_dict = dict(uno=1,dos=2,tres=3,cuatro=4,cinco=5)\n",
    "print(type(my_dict))\n",
    "print(my_dict)"
   ]
  },
  {
   "cell_type": "code",
   "execution_count": 6,
   "id": "235a6a81",
   "metadata": {},
   "outputs": [
    {
     "name": "stdout",
     "output_type": "stream",
     "text": [
      "<class 'dict'>\n",
      "{1: 'uno', 2: 'dos', 3: 'tres', 4: 'cuatro', 5: 'cinco'}\n"
     ]
    }
   ],
   "source": [
    "# usando una lista de tuplas\n",
    "my_dict = dict([\n",
    "    (1,\"uno\"), (2,\"dos\"), (3,\"tres\"),\n",
    "    (4,\"cuatro\"), (5,\"cinco\")\n",
    "])\n",
    "print(type(my_dict))\n",
    "print(my_dict)"
   ]
  },
  {
   "cell_type": "markdown",
   "id": "9de15121",
   "metadata": {},
   "source": [
    "## Método update"
   ]
  },
  {
   "cell_type": "code",
   "execution_count": 7,
   "id": "e60ccbd1",
   "metadata": {},
   "outputs": [
    {
     "name": "stdout",
     "output_type": "stream",
     "text": [
      "<class 'dict'>\n",
      "{1: 'uno', 2: 'dos', 3: 'tres', 4: 'cuatro', 5: 'cinco'}\n",
      "<class 'dict'>\n",
      "{6: 'uno', 7: 'dos', 8: 'tres', 9: 'cuatro'}\n"
     ]
    }
   ],
   "source": [
    "my_dict = {\n",
    "    1:\"uno\", \n",
    "    2:\"dos\",\n",
    "    3:\"tres\",\n",
    "    4:\"cuatro\",\n",
    "    5:\"cinco\"\n",
    "}\n",
    "my_dict_2 = {\n",
    "    6:\"uno\", \n",
    "    7:\"dos\",\n",
    "    8:\"tres\",\n",
    "    9:\"cuatro\"\n",
    "}\n",
    "\n",
    "print(type(my_dict))\n",
    "print(my_dict)\n",
    "print(type(my_dict_2))\n",
    "print(my_dict_2)"
   ]
  },
  {
   "cell_type": "code",
   "execution_count": 8,
   "id": "5d1c07ac",
   "metadata": {},
   "outputs": [
    {
     "name": "stdout",
     "output_type": "stream",
     "text": [
      "{1: 'uno', 2: 'dos', 3: 'tres', 4: 'cuatro', 5: 'cinco', 6: 'uno', 7: 'dos', 8: 'tres', 9: 'cuatro'}\n"
     ]
    }
   ],
   "source": [
    "my_dict.update(my_dict_2)\n",
    "print(my_dict)"
   ]
  },
  {
   "cell_type": "code",
   "execution_count": 11,
   "id": "b4790a14",
   "metadata": {},
   "outputs": [
    {
     "name": "stdout",
     "output_type": "stream",
     "text": [
      "{1: 'uno', 2: 'dos', 3: 'tres', 4: 'cuatro', 5: 'cinco'}\n",
      "{1: 'UNO', 3: 'TRES', 4: 'CUATRO'}\n",
      "\n",
      " {1: 'UNO', 2: 'dos', 3: 'TRES', 4: 'CUATRO', 5: 'cinco'}\n"
     ]
    }
   ],
   "source": [
    "#cuando los diccionarios tienen datos iguales\n",
    "my_dict = {\n",
    "    1:\"uno\", \n",
    "    2:\"dos\",\n",
    "    3:\"tres\",\n",
    "    4:\"cuatro\",\n",
    "    5:\"cinco\"\n",
    "}\n",
    "my_dict_2 = {\n",
    "    1:\"UNO\", \n",
    "    3:\"TRES\",\n",
    "    4:\"CUATRO\"\n",
    "}\n",
    "\n",
    "print(my_dict)\n",
    "print(my_dict_2)\n",
    "my_dict.update(my_dict_2)\n",
    "print(\"\\n\",my_dict)"
   ]
  },
  {
   "cell_type": "markdown",
   "id": "6e196dc3",
   "metadata": {},
   "source": [
    "## Copy & Alias"
   ]
  },
  {
   "cell_type": "code",
   "execution_count": 18,
   "id": "4529dc0c",
   "metadata": {},
   "outputs": [],
   "source": [
    "laptops = {\n",
    "    \"HP\":11999.00,\n",
    "    \"Apple\":24999.00,\n",
    "    \"Acer\":12012.03,\n",
    "    \"Lenovo\":17299.00,\n",
    "    \"Dell\":15524.57\n",
    "}\n",
    "\n",
    "alias = laptops #no es recomendable\n",
    "copy = laptops.copy() #es lo recomendable"
   ]
  },
  {
   "cell_type": "code",
   "execution_count": 16,
   "id": "c8e10674",
   "metadata": {},
   "outputs": [
    {
     "name": "stdout",
     "output_type": "stream",
     "text": [
      "{'HP': 11999.0, 'Apple': 24999.0, 'Acer': 12012.03, 'Lenovo': 17299.0, 'Dell': 15524.57}\n",
      "\n",
      "{'HP': 9999.0, 'Apple': 24999.0, 'Acer': 12012.03, 'Lenovo': 17299.0, 'Dell': 15524.57}\n"
     ]
    }
   ],
   "source": [
    "# usar un alias va a afectar al diccionario original\n",
    "\n",
    "print(alias)\n",
    "alias[\"HP\"] = 9999.00\n",
    "print()\n",
    "print(laptops)"
   ]
  },
  {
   "cell_type": "code",
   "execution_count": 19,
   "id": "88eb6f3e",
   "metadata": {},
   "outputs": [
    {
     "name": "stdout",
     "output_type": "stream",
     "text": [
      "{'HP': 11999.0, 'Apple': 24999.0, 'Acer': 12012.03, 'Lenovo': 17299.0, 'Dell': 15524.57}\n",
      "\n",
      "{'HP': 11999.0, 'Apple': 24999.0, 'Acer': 12012.03, 'Lenovo': 17299.0, 'Dell': 15524.57}\n"
     ]
    }
   ],
   "source": [
    "# Usar copy es la forma correcta ya que mantiene los valores del diccionario original\n",
    "print(copy)\n",
    "copy[\"HP\"] = 9999.00\n",
    "print()\n",
    "print(laptops)"
   ]
  },
  {
   "cell_type": "markdown",
   "id": "88c6dc53",
   "metadata": {},
   "source": [
    "## Obteniendo las keys/llaves y values/valores por separado"
   ]
  },
  {
   "cell_type": "code",
   "execution_count": 1,
   "id": "097d550f",
   "metadata": {},
   "outputs": [],
   "source": [
    "laptops = {\n",
    "    \"HP\":11999.00,\n",
    "    \"Apple\":24999.00,\n",
    "    \"Acer\":12012.03,\n",
    "    \"Lenovo\":17299.00,\n",
    "    \"Dell\":15524.57\n",
    "}"
   ]
  },
  {
   "cell_type": "markdown",
   "id": "8fd9a724",
   "metadata": {},
   "source": [
    "### Método keys()"
   ]
  },
  {
   "cell_type": "code",
   "execution_count": 2,
   "id": "4eb97907",
   "metadata": {},
   "outputs": [
    {
     "name": "stdout",
     "output_type": "stream",
     "text": [
      "dict_keys(['HP', 'Apple', 'Acer', 'Lenovo', 'Dell'])\n"
     ]
    }
   ],
   "source": [
    "print(laptops.keys())"
   ]
  },
  {
   "cell_type": "code",
   "execution_count": 3,
   "id": "5bdd1248",
   "metadata": {},
   "outputs": [
    {
     "name": "stdout",
     "output_type": "stream",
     "text": [
      "El valor de HP es 11999.0\n",
      "El valor de Apple es 24999.0\n",
      "El valor de Acer es 12012.03\n",
      "El valor de Lenovo es 17299.0\n",
      "El valor de Dell es 15524.57\n"
     ]
    }
   ],
   "source": [
    "for k in laptops.keys():\n",
    "    print(\"El valor de {} es {}\".format(k,laptops[k]))"
   ]
  },
  {
   "cell_type": "markdown",
   "id": "9246ae8a",
   "metadata": {},
   "source": [
    "### Método values()"
   ]
  },
  {
   "cell_type": "code",
   "execution_count": 5,
   "id": "e6bc5e82",
   "metadata": {},
   "outputs": [
    {
     "name": "stdout",
     "output_type": "stream",
     "text": [
      "El valor es 11999.0\n",
      "El valor es 24999.0\n",
      "El valor es 12012.03\n",
      "El valor es 17299.0\n",
      "El valor es 15524.57\n"
     ]
    }
   ],
   "source": [
    "for v in laptops.values():\n",
    "    print(\"El valor es {}\".format(v))"
   ]
  },
  {
   "cell_type": "code",
   "execution_count": 12,
   "id": "bb2e5614",
   "metadata": {},
   "outputs": [
    {
     "name": "stdout",
     "output_type": "stream",
     "text": [
      "Para HP el precio es $11999.0\n",
      "Para Apple el precio es $24999.0\n",
      "Para Acer el precio es $12012.03\n",
      "Para Lenovo el precio es $17299.0\n",
      "Para Dell el precio es $15524.57\n"
     ]
    }
   ],
   "source": [
    "def get_key(d, val):\n",
    "    keys = [k for k,v in d.items() if v == val]\n",
    "    if keys:\n",
    "        return keys[0]\n",
    "    return None\n",
    "\n",
    "for value in laptops.values():\n",
    "    print(\"Para {} el precio es ${}\".format(get_key(laptops,value),value))"
   ]
  },
  {
   "cell_type": "markdown",
   "id": "933a9215",
   "metadata": {},
   "source": [
    "## Método items()\n",
    "\n",
    "Obtener las llaves y los valores al mismo tiempo"
   ]
  },
  {
   "cell_type": "code",
   "execution_count": 13,
   "id": "264bee96",
   "metadata": {},
   "outputs": [
    {
     "name": "stdout",
     "output_type": "stream",
     "text": [
      "El precio de HP es $11999.0\n",
      "El precio de Apple es $24999.0\n",
      "El precio de Acer es $12012.03\n",
      "El precio de Lenovo es $17299.0\n",
      "El precio de Dell es $15524.57\n"
     ]
    }
   ],
   "source": [
    "for k, v in laptops.items():\n",
    "    print(\"El precio de {} es ${}\".format(k,v))"
   ]
  },
  {
   "cell_type": "markdown",
   "id": "a7b751e0",
   "metadata": {},
   "source": [
    "## Métodos para la manipulación de diccionarios\n",
    "### clear()\n",
    "Eliminar los elementos de un diccionario"
   ]
  },
  {
   "cell_type": "code",
   "execution_count": 14,
   "id": "a92b0011",
   "metadata": {},
   "outputs": [
    {
     "name": "stdout",
     "output_type": "stream",
     "text": [
      "{'HP': 11999.0, 'Apple': 24999.0, 'Acer': 12012.03, 'Lenovo': 17299.0, 'Dell': 15524.57}\n",
      "5\n",
      "{}\n",
      "0\n"
     ]
    }
   ],
   "source": [
    "laptops = {\n",
    "    \"HP\":11999.00,\n",
    "    \"Apple\":24999.00,\n",
    "    \"Acer\":12012.03,\n",
    "    \"Lenovo\":17299.00,\n",
    "    \"Dell\":15524.57\n",
    "}\n",
    "\n",
    "print(laptops)\n",
    "print(len(laptops))\n",
    "\n",
    "laptops.clear()\n",
    "print(laptops)\n",
    "print(len(laptops))"
   ]
  },
  {
   "cell_type": "markdown",
   "id": "534d4af6",
   "metadata": {},
   "source": [
    "### copy()\n",
    "Sirve para hacer una copia del diccionario"
   ]
  },
  {
   "cell_type": "code",
   "execution_count": 16,
   "id": "eace3663",
   "metadata": {},
   "outputs": [
    {
     "name": "stdout",
     "output_type": "stream",
     "text": [
      "{'HP': 11999.0, 'Apple': 24999.0, 'Acer': 12012.03, 'Lenovo': 17299.0, 'Dell': 15524.57}\n",
      "5\n",
      "{'HP': 11999.0, 'Apple': 24999.0, 'Acer': 12012.03, 'Lenovo': 17299.0, 'Dell': 15524.57}\n",
      "5\n",
      "{}\n",
      "{'HP': 11999.0, 'Apple': 24999.0, 'Acer': 12012.03, 'Lenovo': 17299.0, 'Dell': 15524.57}\n",
      "5\n"
     ]
    }
   ],
   "source": [
    "laptops = {\n",
    "    \"HP\":11999.00,\n",
    "    \"Apple\":24999.00,\n",
    "    \"Acer\":12012.03,\n",
    "    \"Lenovo\":17299.00,\n",
    "    \"Dell\":15524.57\n",
    "}\n",
    "\n",
    "print(laptops)\n",
    "print(len(laptops))\n",
    "\n",
    "copy = laptops.copy()\n",
    "print(copy)\n",
    "print(len(copy))\n",
    "copy.clear()\n",
    "print(copy)\n",
    "\n",
    "print(laptops)\n",
    "print(len(laptops))"
   ]
  },
  {
   "cell_type": "markdown",
   "id": "79f625a6",
   "metadata": {},
   "source": [
    "### fromkeys()\n",
    "Construir un nuevo diccionario tomando como referencia las keys/llaves en un diccionario"
   ]
  },
  {
   "cell_type": "code",
   "execution_count": 19,
   "id": "e5d896f8",
   "metadata": {},
   "outputs": [
    {
     "name": "stdout",
     "output_type": "stream",
     "text": [
      "{'HP': 'Marca de Laptop', 'Apple': 'Marca de Laptop', 'Acer': 'Marca de Laptop', 'Lenovo': 'Marca de Laptop', 'Dell': 'Marca de Laptop'}\n"
     ]
    }
   ],
   "source": [
    "laptops = {\n",
    "    \"HP\":11999.00,\n",
    "    \"Apple\":24999.00,\n",
    "    \"Acer\":12012.03,\n",
    "    \"Lenovo\":17299.00,\n",
    "    \"Dell\":15524.57\n",
    "}\n",
    "\n",
    "category = \"Marca de Laptop\" # se asigna como valor a todas las llaves\n",
    "new_dict = dict.fromkeys(laptops, category)\n",
    "print(new_dict)"
   ]
  },
  {
   "cell_type": "markdown",
   "id": "acc84c5a",
   "metadata": {},
   "source": [
    "### get()\n",
    "Obtiene el valor de un diccionario de forma segura y con la opción de configurar un valor por default."
   ]
  },
  {
   "cell_type": "code",
   "execution_count": 20,
   "id": "10048a74",
   "metadata": {},
   "outputs": [
    {
     "name": "stdout",
     "output_type": "stream",
     "text": [
      "17299.0\n",
      "17299.0\n"
     ]
    }
   ],
   "source": [
    "laptops = {\n",
    "    \"HP\":11999.00,\n",
    "    \"Apple\":24999.00,\n",
    "    \"Acer\":12012.03,\n",
    "    \"Lenovo\":17299.00,\n",
    "    \"Dell\":15524.57\n",
    "}\n",
    "\n",
    "# Forma insegura\n",
    "print(laptops[\"Lenovo\"]) \n",
    "# Forma segura\n",
    "print(laptops.get(\"Lenovo\"))"
   ]
  },
  {
   "cell_type": "markdown",
   "id": "37941dc5",
   "metadata": {},
   "source": [
    "#### Forma insegura"
   ]
  },
  {
   "cell_type": "code",
   "execution_count": 21,
   "id": "e9c741b9",
   "metadata": {},
   "outputs": [
    {
     "ename": "TypeError",
     "evalue": "'dict' object is not callable",
     "output_type": "error",
     "traceback": [
      "\u001b[1;31m---------------------------------------------------------------------------\u001b[0m",
      "\u001b[1;31mTypeError\u001b[0m                                 Traceback (most recent call last)",
      "Cell \u001b[1;32mIn[21], line 1\u001b[0m\n\u001b[1;32m----> 1\u001b[0m \u001b[38;5;28mprint\u001b[39m(\u001b[43mlaptops\u001b[49m\u001b[43m(\u001b[49m\u001b[38;5;124;43m\"\u001b[39;49m\u001b[38;5;124;43mAsus\u001b[39;49m\u001b[38;5;124;43m\"\u001b[39;49m\u001b[43m)\u001b[49m)\n",
      "\u001b[1;31mTypeError\u001b[0m: 'dict' object is not callable"
     ]
    }
   ],
   "source": [
    "print(laptops(\"Asus\"))"
   ]
  },
  {
   "cell_type": "markdown",
   "id": "f8d9fcf6",
   "metadata": {},
   "source": [
    "#### Forma segura"
   ]
  },
  {
   "cell_type": "code",
   "execution_count": 23,
   "id": "c38bab79",
   "metadata": {},
   "outputs": [
    {
     "name": "stdout",
     "output_type": "stream",
     "text": [
      "None\n"
     ]
    }
   ],
   "source": [
    "print(laptops.get(\"Asus\")) #el programa no se detiene"
   ]
  },
  {
   "cell_type": "markdown",
   "id": "35ec5fb2",
   "metadata": {},
   "source": [
    "#### Comfigurando un valor por default"
   ]
  },
  {
   "cell_type": "code",
   "execution_count": 24,
   "id": "0ef1aa01",
   "metadata": {},
   "outputs": [
    {
     "name": "stdout",
     "output_type": "stream",
     "text": [
      "0\n",
      "No disponible\n"
     ]
    }
   ],
   "source": [
    "#En vez del None se envía un valor por default.\n",
    "#solo en caso de que el artículo no esté presente, sí está en el diccionario ignora el valor por default\n",
    "print(laptops.get(\"Asus\",0))\n",
    "print(laptops.get(\"Asus\",\"No disponible\"))"
   ]
  },
  {
   "cell_type": "markdown",
   "id": "e3791411",
   "metadata": {},
   "source": [
    "### pop()\n",
    "Elimina la llave y valor de un diccionario, pasando la llave como parámetro"
   ]
  },
  {
   "cell_type": "code",
   "execution_count": 25,
   "id": "407914b1",
   "metadata": {},
   "outputs": [
    {
     "name": "stdout",
     "output_type": "stream",
     "text": [
      "{'HP': 11999.0, 'Apple': 24999.0, 'Acer': 12012.03, 'Lenovo': 17299.0, 'Dell': 15524.57}\n",
      "5\n",
      "{'HP': 11999.0, 'Apple': 24999.0, 'Acer': 12012.03, 'Dell': 15524.57}\n",
      "4\n"
     ]
    }
   ],
   "source": [
    "laptops = {\n",
    "    \"HP\":11999.00,\n",
    "    \"Apple\":24999.00,\n",
    "    \"Acer\":12012.03,\n",
    "    \"Lenovo\":17299.00,\n",
    "    \"Dell\":15524.57\n",
    "}\n",
    "\n",
    "print(laptops)\n",
    "print(len(laptops))\n",
    "\n",
    "#La llane a eliminar debe estar presente, de lo contrario surgirá un error\n",
    "laptops.pop(\"Lenovo\")\n",
    "print(laptops)\n",
    "print(len(laptops))"
   ]
  },
  {
   "cell_type": "markdown",
   "id": "4f2f11b3",
   "metadata": {},
   "source": [
    "### popitem()\n",
    "Elimina el índice -1 (el último elemento llave-valor)"
   ]
  },
  {
   "cell_type": "code",
   "execution_count": 26,
   "id": "a9d77406",
   "metadata": {},
   "outputs": [
    {
     "name": "stdout",
     "output_type": "stream",
     "text": [
      "{'HP': 11999.0, 'Apple': 24999.0, 'Acer': 12012.03, 'Lenovo': 17299.0, 'Dell': 15524.57}\n",
      "5\n",
      "{'HP': 11999.0, 'Apple': 24999.0, 'Acer': 12012.03, 'Lenovo': 17299.0}\n",
      "4\n",
      "{'HP': 11999.0, 'Apple': 24999.0, 'Acer': 12012.03}\n",
      "3\n"
     ]
    },
    {
     "data": {
      "text/plain": [
       "('Acer', 12012.03)"
      ]
     },
     "execution_count": 26,
     "metadata": {},
     "output_type": "execute_result"
    }
   ],
   "source": [
    "laptops = {\n",
    "    \"HP\":11999.00,\n",
    "    \"Apple\":24999.00,\n",
    "    \"Acer\":12012.03,\n",
    "    \"Lenovo\":17299.00,\n",
    "    \"Dell\":15524.57\n",
    "}\n",
    "\n",
    "print(laptops)\n",
    "print(len(laptops))\n",
    "laptops.popitem()\n",
    "\n",
    "print(laptops)\n",
    "print(len(laptops))\n",
    "laptops.popitem()\n",
    "\n",
    "print(laptops)\n",
    "print(len(laptops))\n",
    "laptops.popitem()"
   ]
  },
  {
   "cell_type": "markdown",
   "id": "fa5b528a",
   "metadata": {},
   "source": [
    "### setdefault()\n",
    "Configura un valor por default para cierta llave, en caso de que no esté presemte en el diccionario. Si la llave está presente no tendrá ningún efecto, si la llave no está se configurará su valor."
   ]
  },
  {
   "cell_type": "code",
   "execution_count": 28,
   "id": "53b13440",
   "metadata": {},
   "outputs": [
    {
     "name": "stdout",
     "output_type": "stream",
     "text": [
      "11999.0\n",
      "10000.0\n"
     ]
    }
   ],
   "source": [
    "laptops_store_1 = {\n",
    "    \"HP\":11999.00,\n",
    "    \"Apple\":24999.00,\n",
    "    \"Acer\":12012.03,\n",
    "    \"Lenovo\":17299.00,\n",
    "    \"Dell\":15524.57\n",
    "}\n",
    "\n",
    "laptops_store_2 = {\n",
    "    \"Apple\":24999.00,\n",
    "    \"Acer\":12012.03,\n",
    "    \"Lenovo\":17299.00,\n",
    "    \"Dell\":15524.57\n",
    "}\n",
    "\n",
    "laptops_store_1.setdefault(\"HP\", 10000.00)\n",
    "laptops_store_2.setdefault(\"HP\", 10000.00)\n",
    "\n",
    "print(laptops_store_1.get(\"HP\"))\n",
    "print(laptops_store_2.get(\"HP\"))"
   ]
  },
  {
   "cell_type": "code",
   "execution_count": null,
   "id": "33906e81",
   "metadata": {},
   "outputs": [],
   "source": []
  }
 ],
 "metadata": {
  "kernelspec": {
   "display_name": "Python 3 (ipykernel)",
   "language": "python",
   "name": "python3"
  },
  "language_info": {
   "codemirror_mode": {
    "name": "ipython",
    "version": 3
   },
   "file_extension": ".py",
   "mimetype": "text/x-python",
   "name": "python",
   "nbconvert_exporter": "python",
   "pygments_lexer": "ipython3",
   "version": "3.10.9"
  }
 },
 "nbformat": 4,
 "nbformat_minor": 5
}
