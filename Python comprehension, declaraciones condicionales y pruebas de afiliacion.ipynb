{
 "cells": [
  {
   "cell_type": "markdown",
   "id": "3b221526",
   "metadata": {},
   "source": [
    "## ¿Qué es Comprehension?\n",
    "\n",
    "- Comprehension en Python nos permite construir lógica de manera corta y concisa\n",
    "- Es una forma de escribir un bloque de código para generar una secuencia, que puede ser una lista, un set, un diccionario o un generador usando otra secuencia\n",
    "- Puede involucrar múltiples pasos de conversión entre los diferentes tipos de secuencias\n",
    "\n",
    "### El propósito de Comprehension\n",
    "- Son construcciones que nos permiten crear secuencias de otras secuencias\n",
    "- Trabajan más rápido que un ciclo for equivalente\n",
    "- Se pueden incorporar múltiples coclos for y condicionales facilmnete\n",
    "\n",
    "### List Comprehensions\n",
    "- Son usados para crear nuevas listas de otros iterables \n",
    "- Regresan listas\n",
    "- Consisten en expresiones en medio de corchetes\n",
    "- La expresión es usada por cada elemento junto con un ciclo for para iterar en cada elemento\n",
    "- Pueden contener múltiples list comprehension anidadas"
   ]
  },
  {
   "cell_type": "code",
   "execution_count": 1,
   "id": "691a793f",
   "metadata": {},
   "outputs": [
    {
     "name": "stdout",
     "output_type": "stream",
     "text": [
      "1\n",
      "3\n",
      "5\n",
      "7\n",
      "9\n",
      "11\n",
      "13\n",
      "15\n",
      "17\n",
      "19\n"
     ]
    }
   ],
   "source": [
    "#ciclo for convencional --- Números impares\n",
    "\n",
    "for number in range(20):\n",
    "    if number %2 != 0:\n",
    "        print(number)"
   ]
  },
  {
   "cell_type": "code",
   "execution_count": 2,
   "id": "84106654",
   "metadata": {},
   "outputs": [
    {
     "name": "stdout",
     "output_type": "stream",
     "text": [
      "[1, 3, 5, 7, 9, 11, 13, 15, 17, 19]\n"
     ]
    }
   ],
   "source": [
    "# Usando list comprehension --- Números impares\n",
    "\n",
    "              # una x por cada x en un rango de 20\n",
    "odd_numbers = [x for x in range(20) if x%2 != 0]\n",
    "print(odd_numbers)"
   ]
  },
  {
   "cell_type": "code",
   "execution_count": 3,
   "id": "fdc3babe",
   "metadata": {},
   "outputs": [
    {
     "name": "stdout",
     "output_type": "stream",
     "text": [
      "B\n",
      "a\n",
      "c\n",
      "k\n",
      "e\n",
      "n\n",
      "d\n",
      " \n",
      "P\n",
      "y\n",
      "t\n",
      "h\n",
      "o\n",
      "n\n"
     ]
    }
   ],
   "source": [
    "#cilco for convecnional --- caracteres de una cadena\n",
    "\n",
    "my_string = \"Backend Python\"\n",
    "for letter in my_string:\n",
    "    print(letter)"
   ]
  },
  {
   "cell_type": "code",
   "execution_count": 5,
   "id": "71e1190e",
   "metadata": {},
   "outputs": [
    {
     "name": "stdout",
     "output_type": "stream",
     "text": [
      "['B', 'a', 'c', 'k', 'e', 'n', 'd', ' ', 'P', 'y', 't', 'h', 'o', 'n']\n"
     ]
    }
   ],
   "source": [
    "#List Comprehension --- caracteres de una cadena\n",
    "\n",
    "my_string = \"Backend Python\"\n",
    "letters = [letter for letter in my_string]\n",
    "print(letters)"
   ]
  },
  {
   "cell_type": "markdown",
   "id": "afe29dd3",
   "metadata": {},
   "source": [
    "### Dict Comprehensions\n",
    "- Son identicas a list comprehensions\n",
    "- Operan de la misma forma, con la diferencia de que usamos dos variables, la llave y el valor, en lugar de un solo valor para la iteración"
   ]
  },
  {
   "cell_type": "code",
   "execution_count": 6,
   "id": "9772ae7e",
   "metadata": {},
   "outputs": [
    {
     "name": "stdout",
     "output_type": "stream",
     "text": [
      "{0: 1, 1: 1, 2: 2, 3: 6, 4: 24, 5: 120}\n"
     ]
    }
   ],
   "source": [
    "import math\n",
    "factorials = {x:math.factorial(x) for x in range(6)}\n",
    "print(factorials)"
   ]
  },
  {
   "cell_type": "code",
   "execution_count": 8,
   "id": "77f8195b",
   "metadata": {},
   "outputs": [
    {
     "name": "stdout",
     "output_type": "stream",
     "text": [
      "{1: 1, 3: 6, 5: 120}\n"
     ]
    }
   ],
   "source": [
    "#factoriales de números impares\n",
    "odd_factorials = {x:math.factorial(x) for x in range(6) if x%2 != 0}\n",
    "print(odd_factorials)"
   ]
  },
  {
   "cell_type": "code",
   "execution_count": 9,
   "id": "8b5f0862",
   "metadata": {},
   "outputs": [
    {
     "name": "stdout",
     "output_type": "stream",
     "text": [
      "{0: 1, 2: 2, 4: 24}\n"
     ]
    }
   ],
   "source": [
    "#factoriales de números pares\n",
    "even_factorials = {x:math.factorial(x) for x in range(6) if x%2 == 0}\n",
    "print(even_factorials)"
   ]
  },
  {
   "cell_type": "markdown",
   "id": "4eed9d3a",
   "metadata": {},
   "source": [
    "## Declaraciones condicionales\n",
    "\n",
    "### ¿Qué son las declaraciones condicionales?\n",
    "- Generalmente controlan el flujo del programa\n",
    "- Si la condición es verdadera, el programa ejecuta cierta acción \n",
    "- Si la condición es falsa, el programa ejecuta otra acción \n",
    "- Se usan para evaluar si ciertas condiciones son verdaderas y falsas y decidir que bloque de código ejecutar\n",
    "- Tenemos 3 tipos de declaraciones condicionales:\n",
    "  1. if\n",
    "  2. if else\n",
    "  3. if elif else\n",
    "  \n",
    "### ¿Por qué usar la declaraciones condicionales?\n",
    "- Son un concepto central común en cualquier tipo de programación\n",
    "- Se pueden usar para validaciones condicionales\n",
    "- Usamos \"if\" para revisar si una condición es verdadera o falsa\n",
    "- Las declaraciones condicionales incluyen una condición y el bloque de código para esa condición \n",
    "\n",
    "### if"
   ]
  },
  {
   "cell_type": "code",
   "execution_count": 12,
   "id": "5f2b5c55",
   "metadata": {},
   "outputs": [
    {
     "name": "stdout",
     "output_type": "stream",
     "text": [
      "Dentro del bloque if\n",
      "\n",
      "Final del ejemplo\n"
     ]
    }
   ],
   "source": [
    "num = 3\n",
    "if num > 1:\n",
    "    print(\"Dentro del bloque if\")\n",
    "print(\"\\nFinal del ejemplo\")"
   ]
  },
  {
   "cell_type": "code",
   "execution_count": 14,
   "id": "6a291daa",
   "metadata": {},
   "outputs": [
    {
     "name": "stdout",
     "output_type": "stream",
     "text": [
      "\n",
      "Final del ejemplo\n"
     ]
    }
   ],
   "source": [
    "num = 3\n",
    "if num > 1 and num > 10:\n",
    "    print(\"Dentro del bloque if\") #al ser falsa la condición el bloque no se ejecuta\n",
    "print(\"\\nFinal del ejemplo\") #el print() está fuera del bloque if"
   ]
  },
  {
   "cell_type": "markdown",
   "id": "f35641d8",
   "metadata": {},
   "source": [
    "### if - else"
   ]
  },
  {
   "cell_type": "code",
   "execution_count": 15,
   "id": "510b9797",
   "metadata": {},
   "outputs": [
    {
     "name": "stdout",
     "output_type": "stream",
     "text": [
      "Dentro del bloque if\n",
      "Probando!!!\n",
      "\n",
      "Final del ejemplo\n"
     ]
    }
   ],
   "source": [
    "num = 3\n",
    "if num > 1 and num < 10: #si se cumple, se ejecuta lo siguiente\n",
    "    print(\"Dentro del bloque if\")\n",
    "    print(\"Probando!!!\")\n",
    "else:  # de lo contrario\n",
    "    print(\"Dentro del bloque else\")\n",
    "    print(\"La condición no se cumplió\")\n",
    "print(\"\\nFinal del ejemplo\")"
   ]
  },
  {
   "cell_type": "code",
   "execution_count": 16,
   "id": "24531fab",
   "metadata": {},
   "outputs": [
    {
     "name": "stdout",
     "output_type": "stream",
     "text": [
      "Dentro del bloque else\n",
      "La condición no se cumplió\n",
      "\n",
      "Final del ejemplo\n"
     ]
    }
   ],
   "source": [
    "num = 11\n",
    "if num > 1 and num < 10: #no se cumple, se ignora el bloque \n",
    "    print(\"Dentro del bloque if\")\n",
    "    print(\"Probando!!!\")\n",
    "else:  \n",
    "    print(\"Dentro del bloque else\")\n",
    "    print(\"La condición no se cumplió\")\n",
    "print(\"\\nFinal del ejemplo\")"
   ]
  },
  {
   "cell_type": "markdown",
   "id": "fed303a3",
   "metadata": {},
   "source": [
    "### if - elif - else"
   ]
  },
  {
   "cell_type": "code",
   "execution_count": 17,
   "id": "d776cb43",
   "metadata": {},
   "outputs": [
    {
     "name": "stdout",
     "output_type": "stream",
     "text": [
      "Dentro del bloque if\n",
      "Probando!!!\n",
      "\n",
      "Final del ejemplo\n"
     ]
    }
   ],
   "source": [
    "num = 4\n",
    "if num > 1 and num < 10: #no se cumple, se ignora el bloque \n",
    "    print(\"Dentro del bloque if\")\n",
    "    print(\"Probando!!!\")\n",
    "elif num == 2:\n",
    "    print(\"Dentro del bloque elif\")\n",
    "    print(\"El valor de num es\",num)\n",
    "else:  \n",
    "    print(\"Dentro del bloque else\")\n",
    "    print(\"La condición no se cumplió\")\n",
    "print(\"\\nFinal del ejemplo\")"
   ]
  },
  {
   "cell_type": "code",
   "execution_count": 18,
   "id": "57a75ddf",
   "metadata": {},
   "outputs": [
    {
     "name": "stdout",
     "output_type": "stream",
     "text": [
      "Dentro del bloque elif\n",
      "El valor de num es 11\n",
      "\n",
      "Final del ejemplo\n"
     ]
    }
   ],
   "source": [
    "num = 11\n",
    "if num > 1 and num < 10:  \n",
    "    print(\"Dentro del bloque if\")\n",
    "    print(\"Probando!!!\")\n",
    "elif num == 11:\n",
    "    print(\"Dentro del bloque elif\")\n",
    "    print(\"El valor de num es\",num)\n",
    "else:  \n",
    "    print(\"Dentro del bloque else\")\n",
    "    print(\"La condición no se cumplió\")\n",
    "print(\"\\nFinal del ejemplo\")"
   ]
  },
  {
   "cell_type": "code",
   "execution_count": 19,
   "id": "6a08b0e0",
   "metadata": {},
   "outputs": [
    {
     "name": "stdout",
     "output_type": "stream",
     "text": [
      "Dentro del bloque else\n",
      "La condición no se cumplió\n",
      "\n",
      "Final del ejemplo\n"
     ]
    }
   ],
   "source": [
    "num = 15\n",
    "if num > 1 and num < 10: \n",
    "    print(\"Dentro del bloque if\")\n",
    "    print(\"Probando!!!\")\n",
    "elif num == 2:\n",
    "    print(\"Dentro del bloque elif\")\n",
    "    print(\"El valor de num es\",num)\n",
    "else:  \n",
    "    print(\"Dentro del bloque else\")\n",
    "    print(\"La condición no se cumplió\")\n",
    "print(\"\\nFinal del ejemplo\")"
   ]
  },
  {
   "cell_type": "markdown",
   "id": "4d8006ac",
   "metadata": {},
   "source": [
    "### ifs anidados\n",
    "- Un if anidado es un if que está dentro de otro if\n",
    "- Son bastante conmunes\n",
    "- Los ifs anidados solo se evalúan si el if exterior es verdadero"
   ]
  },
  {
   "cell_type": "code",
   "execution_count": 24,
   "id": "1f7cc7ee",
   "metadata": {},
   "outputs": [
    {
     "name": "stdout",
     "output_type": "stream",
     "text": [
      "Dentro del bloque if exterior\n",
      "10 es mayor o igual que 1\n",
      "\n",
      "Dentro del if anidado\n",
      "10 es mayor o igual que 5\n",
      "\n",
      "Final del ejemplo\n"
     ]
    }
   ],
   "source": [
    "#ambas condiciones se cumplen \n",
    "num = 10\n",
    "if num >= 1:\n",
    "    print(\"Dentro del bloque if exterior\")\n",
    "    print(num,\"es mayor o igual que 1\")\n",
    "    if num >= 5:\n",
    "        print(\"\\nDentro del if anidado\")\n",
    "        print(num,\"es mayor o igual que 5\")\n",
    "print(\"\\nFinal del ejemplo\")"
   ]
  },
  {
   "cell_type": "code",
   "execution_count": 25,
   "id": "596224e3",
   "metadata": {},
   "outputs": [
    {
     "name": "stdout",
     "output_type": "stream",
     "text": [
      "Dentro del bloque if exterior\n",
      "3 es mayor o igual que 1\n",
      "\n",
      "Final del ejemplo\n"
     ]
    }
   ],
   "source": [
    "#solo la condición del if exterior se cumple\n",
    "num = 3\n",
    "if num >= 1:\n",
    "    print(\"Dentro del bloque if exterior\")\n",
    "    print(num,\"es mayor o igual que 1\")\n",
    "    if num >= 5:\n",
    "        print(\"\\nDentro del if anidado\")\n",
    "        print(num,\"es mayor o igual que 5\")\n",
    "print(\"\\nFinal del ejemplo\")"
   ]
  },
  {
   "cell_type": "code",
   "execution_count": 26,
   "id": "60aa6a7e",
   "metadata": {},
   "outputs": [
    {
     "name": "stdout",
     "output_type": "stream",
     "text": [
      "\n",
      "Final del ejemplo\n"
     ]
    }
   ],
   "source": [
    "#solo se cumple la condición del if anidado, pero no se ejecuta\n",
    "num = 5\n",
    "if num >= 10:\n",
    "    print(\"Dentro del bloque if exterior\")\n",
    "    print(num,\"es mayor o igual que 1\")\n",
    "    if num >= 20:\n",
    "        print(\"\\nDentro del if anidado\")\n",
    "        print(num,\"es mayor o igual que 5\")\n",
    "print(\"\\nFinal del ejemplo\")"
   ]
  },
  {
   "cell_type": "markdown",
   "id": "c748eb60",
   "metadata": {},
   "source": [
    "## Pruebas de afiliación\n",
    "- Los operadores de afiliación son usados para verificar si un valor está presente en una secuencia\n",
    "- Los operadores son 'in' y 'not in'\n",
    "- Puedes hacer pruebas de afilicación para todas las estructuras de datos como listas, tuplas, sets y diccionarios\n",
    "- También se pueden hacer pruebas de afiliación para cadenas ne Python\n",
    "- Los operadores de afiliación se usan para saber rápidamente si ciertos valores están disponibles o no \n",
    "\n",
    "### Prueba de afiliación para cadenas /string"
   ]
  },
  {
   "cell_type": "code",
   "execution_count": 1,
   "id": "bb088b78",
   "metadata": {},
   "outputs": [
    {
     "name": "stdout",
     "output_type": "stream",
     "text": [
      "True\n"
     ]
    }
   ],
   "source": [
    "my_string = \"Backend Python\"\n",
    "print(\"a\" in my_string)"
   ]
  },
  {
   "cell_type": "code",
   "execution_count": 2,
   "id": "ecaec720",
   "metadata": {},
   "outputs": [
    {
     "name": "stdout",
     "output_type": "stream",
     "text": [
      "False\n"
     ]
    }
   ],
   "source": [
    "my_string = \"Backend Python\"\n",
    "print(\"z\" in my_string)"
   ]
  },
  {
   "cell_type": "code",
   "execution_count": 3,
   "id": "5c8e0d1a",
   "metadata": {},
   "outputs": [
    {
     "name": "stdout",
     "output_type": "stream",
     "text": [
      "False\n"
     ]
    }
   ],
   "source": [
    "my_string = \"Backend Python\"\n",
    "print(\"a\" not in my_string)"
   ]
  },
  {
   "cell_type": "code",
   "execution_count": 4,
   "id": "602bd915",
   "metadata": {},
   "outputs": [
    {
     "name": "stdout",
     "output_type": "stream",
     "text": [
      "True\n"
     ]
    }
   ],
   "source": [
    "my_string = \"Backend Python\"\n",
    "print(\"z\" not in my_string)"
   ]
  },
  {
   "cell_type": "code",
   "execution_count": 8,
   "id": "df25500f",
   "metadata": {},
   "outputs": [
    {
     "name": "stdout",
     "output_type": "stream",
     "text": [
      "True\n"
     ]
    }
   ],
   "source": [
    "my_string = \"Backend Python\"\n",
    "print(\"Backend\" in my_string)"
   ]
  },
  {
   "cell_type": "code",
   "execution_count": 6,
   "id": "8145207b",
   "metadata": {},
   "outputs": [
    {
     "name": "stdout",
     "output_type": "stream",
     "text": [
      "True\n"
     ]
    }
   ],
   "source": [
    "my_string = \"Backend Python\" \n",
    "print(\"end\" in my_string)\n",
    "\n",
    "#evalua patrones dentro de una cadena"
   ]
  },
  {
   "cell_type": "code",
   "execution_count": 9,
   "id": "77eab2b2",
   "metadata": {},
   "outputs": [
    {
     "name": "stdout",
     "output_type": "stream",
     "text": [
      "False\n"
     ]
    }
   ],
   "source": [
    "my_string = \"Backend Python\" \n",
    "print(\"endPy\" in my_string)"
   ]
  },
  {
   "cell_type": "code",
   "execution_count": 10,
   "id": "c408586a",
   "metadata": {},
   "outputs": [
    {
     "name": "stdout",
     "output_type": "stream",
     "text": [
      "False\n"
     ]
    }
   ],
   "source": [
    "my_string = \"Backend Python\" \n",
    "print(\"end Py\" not in my_string)"
   ]
  },
  {
   "cell_type": "code",
   "execution_count": 11,
   "id": "c92051f1",
   "metadata": {},
   "outputs": [
    {
     "name": "stdout",
     "output_type": "stream",
     "text": [
      "True\n"
     ]
    }
   ],
   "source": [
    "my_string = \"Backend Python\" \n",
    "print(\"endPy\" not in my_string)"
   ]
  },
  {
   "cell_type": "code",
   "execution_count": 12,
   "id": "c774b51c",
   "metadata": {},
   "outputs": [
    {
     "name": "stdout",
     "output_type": "stream",
     "text": [
      "True\n"
     ]
    }
   ],
   "source": [
    "my_string = \"Backend Python\".lower()\n",
    "print(\"backend\" in my_string)"
   ]
  },
  {
   "cell_type": "markdown",
   "id": "f0eaeaff",
   "metadata": {},
   "source": [
    "### Prueba de afiliación para Tuplas"
   ]
  },
  {
   "cell_type": "code",
   "execution_count": 13,
   "id": "bb973c79",
   "metadata": {},
   "outputs": [
    {
     "name": "stdout",
     "output_type": "stream",
     "text": [
      "True\n"
     ]
    }
   ],
   "source": [
    "my_tuple = (\"a\",\"b\",\"c\",\"d\",\"e\")\n",
    "print(\"c\" in my_tuple)"
   ]
  },
  {
   "cell_type": "code",
   "execution_count": 14,
   "id": "56bc684f",
   "metadata": {},
   "outputs": [
    {
     "name": "stdout",
     "output_type": "stream",
     "text": [
      "False\n"
     ]
    }
   ],
   "source": [
    "my_tuple = (\"a\",\"b\",\"c\",\"d\",\"e\")\n",
    "print(\"f\" in my_tuple)"
   ]
  },
  {
   "cell_type": "code",
   "execution_count": 15,
   "id": "0f6da554",
   "metadata": {},
   "outputs": [
    {
     "name": "stdout",
     "output_type": "stream",
     "text": [
      "True\n"
     ]
    }
   ],
   "source": [
    "my_tuple = (1,2,3,4,5)\n",
    "print(5 in my_tuple)"
   ]
  },
  {
   "cell_type": "code",
   "execution_count": 16,
   "id": "fbb81f73",
   "metadata": {},
   "outputs": [
    {
     "name": "stdout",
     "output_type": "stream",
     "text": [
      "False\n"
     ]
    }
   ],
   "source": [
    "my_tuple = (1,2,3,4,5)\n",
    "print(6 in my_tuple)"
   ]
  },
  {
   "cell_type": "code",
   "execution_count": 17,
   "id": "a582b183",
   "metadata": {},
   "outputs": [
    {
     "name": "stdout",
     "output_type": "stream",
     "text": [
      "False\n"
     ]
    }
   ],
   "source": [
    "my_tuple = (1,2,3,4,5)\n",
    "print(5 not in my_tuple)"
   ]
  },
  {
   "cell_type": "code",
   "execution_count": 18,
   "id": "ae06321a",
   "metadata": {},
   "outputs": [
    {
     "name": "stdout",
     "output_type": "stream",
     "text": [
      "True\n"
     ]
    }
   ],
   "source": [
    "my_tuple = (1,2,3,4,5)\n",
    "print(6 not in my_tuple)"
   ]
  },
  {
   "cell_type": "markdown",
   "id": "2ed3f2d1",
   "metadata": {},
   "source": [
    "### Pruebas de afiliación para listas"
   ]
  },
  {
   "cell_type": "code",
   "execution_count": 19,
   "id": "c9ea7444",
   "metadata": {},
   "outputs": [
    {
     "name": "stdout",
     "output_type": "stream",
     "text": [
      "True\n"
     ]
    }
   ],
   "source": [
    "my_list = [\"a\",\"b\",\"c\",\"d\",\"e\"]\n",
    "print(\"c\" in my_list)"
   ]
  },
  {
   "cell_type": "code",
   "execution_count": 20,
   "id": "6d7c4dce",
   "metadata": {},
   "outputs": [
    {
     "name": "stdout",
     "output_type": "stream",
     "text": [
      "False\n"
     ]
    }
   ],
   "source": [
    "my_list = [\"a\",\"b\",\"c\",\"d\",\"e\"]\n",
    "print(\"f\" in my_list)"
   ]
  },
  {
   "cell_type": "code",
   "execution_count": 21,
   "id": "080baedc",
   "metadata": {},
   "outputs": [
    {
     "name": "stdout",
     "output_type": "stream",
     "text": [
      "False\n"
     ]
    }
   ],
   "source": [
    "my_list = [\"a\",\"b\",\"c\",\"d\",\"e\"]\n",
    "print(\"c\" not in my_list)"
   ]
  },
  {
   "cell_type": "code",
   "execution_count": 22,
   "id": "35fe35e9",
   "metadata": {},
   "outputs": [
    {
     "name": "stdout",
     "output_type": "stream",
     "text": [
      "True\n"
     ]
    }
   ],
   "source": [
    "my_list = [\"a\",\"b\",\"c\",\"d\",\"e\"]\n",
    "print(\"f\" not in my_list)"
   ]
  },
  {
   "cell_type": "markdown",
   "id": "38f3751f",
   "metadata": {},
   "source": [
    "### Priebas de afiliación para diccionarios\n",
    "- Valida si está presente en las llaves"
   ]
  },
  {
   "cell_type": "code",
   "execution_count": 23,
   "id": "90b360ed",
   "metadata": {},
   "outputs": [
    {
     "name": "stdout",
     "output_type": "stream",
     "text": [
      "True\n"
     ]
    }
   ],
   "source": [
    "my_dict = {\"a\":100,\"b\":110,\"c\":100,\"d\":170,\"e\":200,}\n",
    "print(\"c\" in my_dict)"
   ]
  },
  {
   "cell_type": "code",
   "execution_count": 24,
   "id": "58323edc",
   "metadata": {},
   "outputs": [
    {
     "name": "stdout",
     "output_type": "stream",
     "text": [
      "False\n"
     ]
    }
   ],
   "source": [
    "#Se enfoca por default en las llaves\n",
    "my_dict = {\"a\":100,\"b\":110,\"c\":100,\"d\":170,\"e\":200,}\n",
    "print(100 in my_dict)"
   ]
  },
  {
   "cell_type": "code",
   "execution_count": 25,
   "id": "afb98ab0",
   "metadata": {},
   "outputs": [
    {
     "name": "stdout",
     "output_type": "stream",
     "text": [
      "True\n"
     ]
    }
   ],
   "source": [
    "#Usando values podemos saber si el valor está presente\n",
    "my_dict = {\"a\":100,\"b\":110,\"c\":100,\"d\":170,\"e\":200,}\n",
    "print(100 in my_dict.values())"
   ]
  },
  {
   "cell_type": "code",
   "execution_count": 26,
   "id": "ba84f76e",
   "metadata": {},
   "outputs": [
    {
     "name": "stdout",
     "output_type": "stream",
     "text": [
      "False\n"
     ]
    }
   ],
   "source": [
    "my_dict = {\"a\":100,\"b\":110,\"c\":100,\"d\":170,\"e\":200,}\n",
    "print(\"c\" not in my_dict)"
   ]
  },
  {
   "cell_type": "code",
   "execution_count": 27,
   "id": "196135a5",
   "metadata": {},
   "outputs": [
    {
     "name": "stdout",
     "output_type": "stream",
     "text": [
      "False\n"
     ]
    }
   ],
   "source": [
    "my_dict = {\"a\":100,\"b\":110,\"c\":100,\"d\":170,\"e\":200,}\n",
    "print(100 not in my_dict.values())"
   ]
  },
  {
   "cell_type": "code",
   "execution_count": 28,
   "id": "5268c8ff",
   "metadata": {},
   "outputs": [
    {
     "name": "stdout",
     "output_type": "stream",
     "text": [
      "True\n"
     ]
    }
   ],
   "source": [
    "my_dict = {\"a\":100,\"b\":110,\"c\":100,\"d\":170,\"e\":200,}\n",
    "print(300 not in my_dict.values())"
   ]
  },
  {
   "cell_type": "code",
   "execution_count": null,
   "id": "fe477582",
   "metadata": {},
   "outputs": [],
   "source": []
  }
 ],
 "metadata": {
  "kernelspec": {
   "display_name": "Python 3 (ipykernel)",
   "language": "python",
   "name": "python3"
  },
  "language_info": {
   "codemirror_mode": {
    "name": "ipython",
    "version": 3
   },
   "file_extension": ".py",
   "mimetype": "text/x-python",
   "name": "python",
   "nbconvert_exporter": "python",
   "pygments_lexer": "ipython3",
   "version": "3.10.9"
  }
 },
 "nbformat": 4,
 "nbformat_minor": 5
}
