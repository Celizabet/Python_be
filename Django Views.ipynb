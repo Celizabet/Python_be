{
 "cells": [
  {
   "cell_type": "markdown",
   "id": "26d9c778",
   "metadata": {},
   "source": [
    "### ecommerce/models.py"
   ]
  },
  {
   "cell_type": "code",
   "execution_count": null,
   "id": "d8c75388",
   "metadata": {},
   "outputs": [],
   "source": [
    "from django.db import models\n",
    "\n",
    "# Create your models here.\n",
    "class ProductModel(models.Model): \n",
    "    title = models.CharField(max_length=50, blank=False)\n",
    "    price = models.FloatField(blank=False)\n",
    "    description = models.TextField(max_length=100, blank=False, default=\"\")\n",
    "    seller = models.CharField(max_length=50, blank=False, default=\"\")\n",
    "    color = models.CharField(max_length=15, blank=True, default=\"\")\n",
    "    product_dimensions = models.FloatField(default=float)"
   ]
  },
  {
   "cell_type": "markdown",
   "id": "abe4fd4b",
   "metadata": {},
   "source": [
    "### ecommerce/forms.py"
   ]
  },
  {
   "cell_type": "code",
   "execution_count": null,
   "id": "900b5d72",
   "metadata": {},
   "outputs": [],
   "source": [
    "from django import forms\n",
    "from .models import ProductModel\n",
    "\n",
    "class ProductModelForm(forms.ModelForm):\n",
    "    class Meta:\n",
    "        model = ProductModel\n",
    "        fields = [\n",
    "            \"title\",\n",
    "            \"price\",\n",
    "            \"description\",\n",
    "            \"seller\",\n",
    "            \"color\",\n",
    "            \"product_dimensions\"\n",
    "        ]"
   ]
  },
  {
   "cell_type": "markdown",
   "id": "90251e38",
   "metadata": {},
   "source": [
    "### templates/ecommerce/detail-view.html"
   ]
  },
  {
   "cell_type": "code",
   "execution_count": null,
   "id": "2abb272d",
   "metadata": {},
   "outputs": [],
   "source": [
    "{% include \"ecommerce/messages.html\" %}\n",
    "\n",
    "<h1>\n",
    "    {{ product.title }}\n",
    "</h1></br> \n",
    "\n",
    "<body>\n",
    "    <p>\n",
    "        <b> PRECIO </b>{{ product.price }}\n",
    "        <b> VENDEDOR </b>{{ product.seller }}</br>\n",
    "        <b> COLOR </b>{{ product.color }}\n",
    "        <b> DIMENSIONES </b>{{ product.product_dimensions }}       \n",
    "    </p></br> \n",
    "    <p>\n",
    "        <b> DESCRIPCIÓN </b></br>\n",
    "        {{ product.description }}\n",
    "    </p>\n",
    "</body>"
   ]
  }
 ],
 "metadata": {
  "kernelspec": {
   "display_name": "Python 3 (ipykernel)",
   "language": "python",
   "name": "python3"
  },
  "language_info": {
   "codemirror_mode": {
    "name": "ipython",
    "version": 3
   },
   "file_extension": ".py",
   "mimetype": "text/x-python",
   "name": "python",
   "nbconvert_exporter": "python",
   "pygments_lexer": "ipython3",
   "version": "3.10.9"
  }
 },
 "nbformat": 4,
 "nbformat_minor": 5
}
