{
 "cells": [
  {
   "cell_type": "code",
   "execution_count": 17,
   "id": "8afe3af0",
   "metadata": {},
   "outputs": [
    {
     "name": "stdout",
     "output_type": "stream",
     "text": [
      "Lista de Reproducción\n",
      "\n",
      "Ingresa la palabra que te gustaría\n",
      "Ejemplo: 'rock', y obtendrás un playlist de canciones o artistas que incluyan la palabra rock\n",
      "pop\n",
      "[['POP!', 'NAYEON'], ['Pop', 'Mauro Rawn'], ['POP (feat. Guy2Bezbar)', 'Josman'], ['POP (feat. Guy2Bezbar)', 'Josman'], ['POP!', 'Adanna Duru'], ['POP', 'Puri'], ['Pop', '*NSYNC'], ['PGP', 'Booba'], ['POP', 'Lil Uzi Vert'], ['P.O.P.', 'Ramirez'], ['Pop', 'La Oreja de Van Gogh'], ['POP!', 'Adanna Duru'], ['Discotheque', 'U2'], ['POA', 'Future'], ['Rapta Tonight (feat. POP & Croma)', 'Sultan'], ['Please', 'U2'], ['Pod', 'SNOOPER'], ['Staring At The Sun', 'U2'], ['K-POP', 'Travis Scott'], ['PCP', 'Didi B'], ['Pop', 'Sloy'], ['Pop 2', 'GAS'], ['PGP', 'Ninho'], ['If God Will Send His Angels', 'U2'], ['If You Wear That Velvet Dress', 'U2']]\n"
     ]
    }
   ],
   "source": [
    "import requests\n",
    "\n",
    "print(\"Lista de Reproducción\\n\")\n",
    "# Referencia: https://www.deezer.com/en/channels/explore\n",
    "print(\"Ingresa la palabra que te gustaría\")\n",
    "print(\"Ejemplo: 'rock', y obtendrás un playlist de canciones o artistas que incluyan la palabra rock\")\n",
    "      \n",
    "word_to_search = input()\n",
    "\n",
    "url = \"https://deezerdevs-deezer.p.rapidapi.com/search\"\n",
    "querystring = {\"q\":word_to_search}\n",
    "headers = {\n",
    " \"X-RapidAPI-Key\": \"3ed98f551fmshe4e6260228c4eadp13db17jsn8c893e1194da\",\n",
    " \"X-RapidAPI-Host\": \"deezerdevs-deezer.p.rapidapi.com\"\n",
    "}\n",
    "      \n",
    "response = requests.request(\"GET\", url, headers=headers, params=querystring).json()\n",
    "\n",
    "my_list = [([element['title'], element['artist']['name']]) for element in response['data']]\n",
    "print(my_list)"
   ]
  },
  {
   "cell_type": "code",
   "execution_count": null,
   "id": "f9eb6351",
   "metadata": {},
   "outputs": [],
   "source": []
  }
 ],
 "metadata": {
  "kernelspec": {
   "display_name": "Python 3 (ipykernel)",
   "language": "python",
   "name": "python3"
  },
  "language_info": {
   "codemirror_mode": {
    "name": "ipython",
    "version": 3
   },
   "file_extension": ".py",
   "mimetype": "text/x-python",
   "name": "python",
   "nbconvert_exporter": "python",
   "pygments_lexer": "ipython3",
   "version": "3.10.9"
  }
 },
 "nbformat": 4,
 "nbformat_minor": 5
}
