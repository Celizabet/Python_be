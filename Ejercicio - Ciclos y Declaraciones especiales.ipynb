{
 "cells": [
  {
   "cell_type": "code",
   "execution_count": 11,
   "id": "847879c0",
   "metadata": {},
   "outputs": [
    {
     "name": "stdout",
     "output_type": "stream",
     "text": [
      "Tiempo final:  01:50\n"
     ]
    }
   ],
   "source": [
    "import time \n",
    "\n",
    "def countup(time_sec):\n",
    "    start_time = 0\n",
    "    while start_time <= time_sec:        \n",
    "        mins, secs = divmod(start_time, 60)        \n",
    "        timeformat = '{:02d}:{:02d}'.format(mins, secs)        \n",
    "        print(timeformat, end='\\r')        \n",
    "        time.sleep(1)        \n",
    "        start_time += 1    \n",
    "        \n",
    "    print(\"Tiempo final: \",timeformat) \n",
    "\n",
    "countup(110)"
   ]
  },
  {
   "cell_type": "code",
   "execution_count": null,
   "id": "c07dab77",
   "metadata": {},
   "outputs": [],
   "source": []
  }
 ],
 "metadata": {
  "kernelspec": {
   "display_name": "Python 3 (ipykernel)",
   "language": "python",
   "name": "python3"
  },
  "language_info": {
   "codemirror_mode": {
    "name": "ipython",
    "version": 3
   },
   "file_extension": ".py",
   "mimetype": "text/x-python",
   "name": "python",
   "nbconvert_exporter": "python",
   "pygments_lexer": "ipython3",
   "version": "3.10.9"
  }
 },
 "nbformat": 4,
 "nbformat_minor": 5
}
