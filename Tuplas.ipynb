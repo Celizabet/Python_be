{
 "cells": [
  {
   "cell_type": "markdown",
   "id": "8de6eb69",
   "metadata": {},
   "source": [
    "## Diferentes formas de crear tuplas"
   ]
  },
  {
   "cell_type": "code",
   "execution_count": 1,
   "id": "b6ce2b87",
   "metadata": {},
   "outputs": [
    {
     "name": "stdout",
     "output_type": "stream",
     "text": [
      "<class 'tuple'>\n",
      "('Carlos', 'Test', 3000, 15.79)\n"
     ]
    }
   ],
   "source": [
    "my_tuple = (\"Carlos\", \"Test\", 3000, 15.79)\n",
    "print(type(my_tuple))\n",
    "print(my_tuple)"
   ]
  },
  {
   "cell_type": "code",
   "execution_count": 2,
   "id": "cf5dcffe",
   "metadata": {},
   "outputs": [
    {
     "name": "stdout",
     "output_type": "stream",
     "text": [
      "<class 'tuple'>\n",
      "('Carlos', 'Test', 3000, 15.79)\n"
     ]
    }
   ],
   "source": [
    "#sin usar paréntesis Python asume que nos referimos a una tupla\n",
    "my_tuple = \"Carlos\", \"Test\", 3000, 15.79\n",
    "print(type(my_tuple))\n",
    "print(my_tuple)"
   ]
  },
  {
   "cell_type": "code",
   "execution_count": 3,
   "id": "67e7ce41",
   "metadata": {},
   "outputs": [
    {
     "name": "stdout",
     "output_type": "stream",
     "text": [
      "<class 'tuple'>\n",
      "(100, 200, 300, 400, 500)\n"
     ]
    }
   ],
   "source": [
    "my_list = [100, 200, 300, 400, 500]\n",
    "my_tuple = tuple(my_list)\n",
    "print(type(my_tuple))\n",
    "print(my_tuple)"
   ]
  },
  {
   "cell_type": "markdown",
   "id": "e54e0672",
   "metadata": {},
   "source": [
    "### Método sort en Tuplas"
   ]
  },
  {
   "cell_type": "code",
   "execution_count": 4,
   "id": "0e85cbcd",
   "metadata": {},
   "outputs": [
    {
     "name": "stdout",
     "output_type": "stream",
     "text": [
      "<class 'tuple'>\n",
      "(5, 4, 2, 7, 9, 0, 1)\n",
      "<class 'list'>\n",
      "[0, 1, 2, 4, 5, 7, 9]\n",
      "<class 'tuple'>\n",
      "(0, 1, 2, 4, 5, 7, 9)\n"
     ]
    }
   ],
   "source": [
    "my_tuple = (5,4,2,7,9,0,1)\n",
    "my_sorted_tuple = sorted(my_tuple) #convierte la tupla en una lista\n",
    "my_sorted_tuple_2 = tuple(sorted(my_tuple))\n",
    "\n",
    "print(type(my_tuple))\n",
    "print(my_tuple)\n",
    "\n",
    "print(type(my_sorted_tuple))\n",
    "print(my_sorted_tuple)\n",
    "\n",
    "print(type(my_sorted_tuple_2))\n",
    "print(my_sorted_tuple_2)"
   ]
  },
  {
   "cell_type": "markdown",
   "id": "38be3013",
   "metadata": {},
   "source": [
    "### Método all() en Tuplas"
   ]
  },
  {
   "cell_type": "code",
   "execution_count": 5,
   "id": "ee8ecec5",
   "metadata": {},
   "outputs": [
    {
     "name": "stdout",
     "output_type": "stream",
     "text": [
      "True\n"
     ]
    }
   ],
   "source": [
    "#El método all valida que todos los elementos sean mayores que 0\n",
    "my_tuple = (5,4,2,7,9,2,1)\n",
    "print(all(my_tuple))"
   ]
  },
  {
   "cell_type": "code",
   "execution_count": 6,
   "id": "1debd2a9",
   "metadata": {},
   "outputs": [
    {
     "name": "stdout",
     "output_type": "stream",
     "text": [
      "False\n"
     ]
    }
   ],
   "source": [
    "my_tuple = (5,4,2,7,9,0,1)\n",
    "print(all(my_tuple))"
   ]
  },
  {
   "cell_type": "code",
   "execution_count": 8,
   "id": "397d05fd",
   "metadata": {},
   "outputs": [
    {
     "name": "stdout",
     "output_type": "stream",
     "text": [
      "False\n"
     ]
    }
   ],
   "source": [
    "#valida que no haya una cadena vacia, lo mismo sucede con None y False\n",
    "my_tuple = (5,4,2,7,9,\"\",1) \n",
    "print(all(my_tuple))"
   ]
  },
  {
   "cell_type": "code",
   "execution_count": 9,
   "id": "43e84ac7",
   "metadata": {},
   "outputs": [
    {
     "name": "stdout",
     "output_type": "stream",
     "text": [
      "False\n"
     ]
    }
   ],
   "source": [
    "my_tuple = (5,4,2,7,9,None,1) #es lo mismo que una cadena vacia\n",
    "print(all(my_tuple))"
   ]
  },
  {
   "cell_type": "code",
   "execution_count": 10,
   "id": "8e2b6f30",
   "metadata": {},
   "outputs": [
    {
     "name": "stdout",
     "output_type": "stream",
     "text": [
      "True\n"
     ]
    }
   ],
   "source": [
    "my_tuple = (5,4,2,7,9,\"test\",1) #vuelve a ser True\n",
    "print(all(my_tuple))"
   ]
  },
  {
   "cell_type": "code",
   "execution_count": 11,
   "id": "fe8ad7b7",
   "metadata": {},
   "outputs": [
    {
     "name": "stdout",
     "output_type": "stream",
     "text": [
      "True\n"
     ]
    }
   ],
   "source": [
    "my_tuple = (5,4,2,7,9,True,1) \n",
    "print(all(my_tuple))"
   ]
  },
  {
   "cell_type": "markdown",
   "id": "52626931",
   "metadata": {},
   "source": [
    "### Método any() en Tuplas"
   ]
  },
  {
   "cell_type": "code",
   "execution_count": 12,
   "id": "eb6fb627",
   "metadata": {},
   "outputs": [
    {
     "name": "stdout",
     "output_type": "stream",
     "text": [
      "True\n"
     ]
    }
   ],
   "source": [
    "my_tuple = (5,4,2,7,9,2,1)\n",
    "print(any(my_tuple))"
   ]
  },
  {
   "cell_type": "code",
   "execution_count": 14,
   "id": "cf9c75e9",
   "metadata": {},
   "outputs": [
    {
     "name": "stdout",
     "output_type": "stream",
     "text": [
      "True\n"
     ]
    }
   ],
   "source": [
    "#any -- ¿hay algún elemento present, diferente de 0, etc?\n",
    "my_tuple = (5,4,2,7,9,0,1)\n",
    "print(any(my_tuple))"
   ]
  },
  {
   "cell_type": "code",
   "execution_count": 15,
   "id": "e55835bf",
   "metadata": {},
   "outputs": [
    {
     "name": "stdout",
     "output_type": "stream",
     "text": [
      "True\n"
     ]
    }
   ],
   "source": [
    "my_tuple = (0,0,0,0,0,0,1)\n",
    "print(any(my_tuple))"
   ]
  },
  {
   "cell_type": "code",
   "execution_count": 16,
   "id": "44ed8fa1",
   "metadata": {},
   "outputs": [
    {
     "name": "stdout",
     "output_type": "stream",
     "text": [
      "False\n"
     ]
    }
   ],
   "source": [
    "my_tuple = (0,0,0,0,0,0) #no hay elementos != de 0\n",
    "print(any(my_tuple))"
   ]
  },
  {
   "cell_type": "code",
   "execution_count": 17,
   "id": "d2c33a22",
   "metadata": {},
   "outputs": [
    {
     "name": "stdout",
     "output_type": "stream",
     "text": [
      "False\n"
     ]
    }
   ],
   "source": [
    "my_tuple = (\"\", \"\")\n",
    "print(any(my_tuple))"
   ]
  },
  {
   "cell_type": "code",
   "execution_count": 18,
   "id": "ea86b024",
   "metadata": {},
   "outputs": [
    {
     "name": "stdout",
     "output_type": "stream",
     "text": [
      "True\n"
     ]
    }
   ],
   "source": [
    "my_tuple = (\"\", \"t\")\n",
    "print(any(my_tuple))"
   ]
  },
  {
   "cell_type": "code",
   "execution_count": 19,
   "id": "4bbdc415",
   "metadata": {},
   "outputs": [
    {
     "name": "stdout",
     "output_type": "stream",
     "text": [
      "False\n"
     ]
    }
   ],
   "source": [
    "my_tuple = (None, None)\n",
    "print(any(my_tuple))"
   ]
  },
  {
   "cell_type": "code",
   "execution_count": 20,
   "id": "674b53cd",
   "metadata": {},
   "outputs": [
    {
     "name": "stdout",
     "output_type": "stream",
     "text": [
      "True\n"
     ]
    }
   ],
   "source": [
    "my_tuple = (None, None, 1)\n",
    "print(any(my_tuple))"
   ]
  },
  {
   "cell_type": "code",
   "execution_count": 21,
   "id": "9d4c8f3c",
   "metadata": {},
   "outputs": [
    {
     "name": "stdout",
     "output_type": "stream",
     "text": [
      "False\n"
     ]
    }
   ],
   "source": [
    "# si no hay ningún elemento que sea diferente es False\n",
    "my_tuple = (False, False, False)\n",
    "print(any(my_tuple))"
   ]
  },
  {
   "cell_type": "code",
   "execution_count": 22,
   "id": "29f02e74",
   "metadata": {},
   "outputs": [
    {
     "name": "stdout",
     "output_type": "stream",
     "text": [
      "True\n"
     ]
    }
   ],
   "source": [
    "my_tuple = (False, False, True)\n",
    "print(any(my_tuple))"
   ]
  },
  {
   "cell_type": "markdown",
   "id": "93191912",
   "metadata": {},
   "source": [
    "### Método len() en Tuplas"
   ]
  },
  {
   "cell_type": "code",
   "execution_count": 1,
   "id": "3d2a6bc6",
   "metadata": {},
   "outputs": [
    {
     "name": "stdout",
     "output_type": "stream",
     "text": [
      "<class 'tuple'>\n",
      "(5, 4, 2, 7, 9, 0, 1)\n",
      "7\n"
     ]
    }
   ],
   "source": [
    "my_tuple = (5,4,2,7,9,0,1)\n",
    "print(type(my_tuple))\n",
    "print(my_tuple)\n",
    "print(len(my_tuple))"
   ]
  },
  {
   "cell_type": "markdown",
   "id": "817a61ee",
   "metadata": {},
   "source": [
    "### Indexación en Tuplas"
   ]
  },
  {
   "cell_type": "code",
   "execution_count": 2,
   "id": "d6f26b84",
   "metadata": {},
   "outputs": [
    {
     "name": "stdout",
     "output_type": "stream",
     "text": [
      "<class 'tuple'>\n",
      "(5, 4, 2, 7, 9, 0, 1)\n",
      "7\n",
      "5\n",
      "1\n",
      "7\n",
      "7\n"
     ]
    }
   ],
   "source": [
    "my_tuple = (5,4,2,7,9,0,1)\n",
    "print(type(my_tuple))\n",
    "print(my_tuple)\n",
    "print(len(my_tuple))\n",
    "\n",
    "#accediendo a los índices\n",
    "print(my_tuple[0])\n",
    "print(my_tuple[-1])\n",
    "print(my_tuple[3])\n",
    "print(my_tuple[-4])"
   ]
  },
  {
   "cell_type": "markdown",
   "id": "079e030d",
   "metadata": {},
   "source": [
    "### Conversión de Tuplas\n",
    "\n",
    "#### De cadena a Tupla"
   ]
  },
  {
   "cell_type": "code",
   "execution_count": 3,
   "id": "ad7e242f",
   "metadata": {},
   "outputs": [
    {
     "name": "stdout",
     "output_type": "stream",
     "text": [
      "Backend Python\n",
      "('B', 'a', 'c', 'k', 'e', 'n', 'd', ' ', 'P', 'y', 't', 'h', 'o', 'n')\n"
     ]
    }
   ],
   "source": [
    "my_string = \"Backend Python\"\n",
    "my_tuple = tuple(my_string)\n",
    "print(my_string)\n",
    "print(my_tuple)"
   ]
  },
  {
   "cell_type": "markdown",
   "id": "c779b952",
   "metadata": {},
   "source": [
    "#### De lista a Tupla "
   ]
  },
  {
   "cell_type": "code",
   "execution_count": 4,
   "id": "09c12734",
   "metadata": {},
   "outputs": [
    {
     "name": "stdout",
     "output_type": "stream",
     "text": [
      "['python', 'javascript', 'java', 'go', 'scala']\n",
      "('python', 'javascript', 'java', 'go', 'scala')\n"
     ]
    }
   ],
   "source": [
    "my_list = [\"python\",\"javascript\",\"java\",\"go\",\"scala\"]\n",
    "my_tuple = tuple(my_list)\n",
    "\n",
    "print(my_list)\n",
    "print(my_tuple)"
   ]
  },
  {
   "cell_type": "markdown",
   "id": "2c00f8e1",
   "metadata": {},
   "source": [
    "#### De Tupla a cadena"
   ]
  },
  {
   "cell_type": "code",
   "execution_count": 5,
   "id": "b09be9c7",
   "metadata": {},
   "outputs": [
    {
     "name": "stdout",
     "output_type": "stream",
     "text": [
      "('B', 'a', 'c', 'k', 'e', 'n', 'd', ' ', 'P', 'y', 't', 'h', 'o', 'n')\n",
      "Backend Python\n"
     ]
    }
   ],
   "source": [
    "my_tuple = ('B', 'a', 'c', 'k', 'e', 'n', 'd', ' ', 'P', 'y', 't', 'h', 'o', 'n')\n",
    "my_string = \"\".join(my_tuple)\n",
    "\n",
    "print(my_tuple)\n",
    "print(my_string)"
   ]
  },
  {
   "cell_type": "markdown",
   "id": "bfb81917",
   "metadata": {},
   "source": [
    "#### De Tupla a Lista\n"
   ]
  },
  {
   "cell_type": "code",
   "execution_count": 7,
   "id": "f018bb60",
   "metadata": {},
   "outputs": [
    {
     "name": "stdout",
     "output_type": "stream",
     "text": [
      "('python', 'javascript', 'java', 'go', 'scala')\n",
      "['python', 'javascript', 'java', 'go', 'scala']\n"
     ]
    }
   ],
   "source": [
    "my_tuple = (\"python\",\"javascript\",\"java\",\"go\",\"scala\")\n",
    "my_list = list(my_tuple)\n",
    "\n",
    "print(my_tuple)\n",
    "print(my_list)"
   ]
  },
  {
   "cell_type": "markdown",
   "id": "5a619360",
   "metadata": {},
   "source": [
    "### Ventajas de las Tuplas sobre las listas\n",
    "\n",
    "- Generalmente las tuplas se usan para elementos heterogeneos y las listas para elemento homogeneos\n",
    "- Las tuplas son inmutables, por lo tanto es más fácil iterar a través de una Tupla, esto mejora el rendimiento.\n",
    "- Las Tuplas al ser inmutables pueden ser usadas como llaves de un diccionario \n",
    "- Si tienes data que no cambia, implementarla como Tupla te garantizará que se mantenga protegida ante posibles modificaciones."
   ]
  },
  {
   "cell_type": "code",
   "execution_count": 9,
   "id": "319c00a8",
   "metadata": {},
   "outputs": [
    {
     "name": "stdout",
     "output_type": "stream",
     "text": [
      "('python', 'javascript', 'java', 'go', 'scala')\n",
      "['valor intruso', 'javascript', 'java', 'go', 'scala']\n"
     ]
    }
   ],
   "source": [
    "# error -- la tupla no soporta la adignación de elementos\n",
    "my_tuple[0] = \"valor intruso\"\n",
    "\n",
    "# no así para las listas\n",
    "my_list[0] = \"valor intruso\"\n",
    "\n",
    "print(my_tuple)\n",
    "print(my_list)"
   ]
  },
  {
   "cell_type": "code",
   "execution_count": null,
   "id": "635331b0",
   "metadata": {},
   "outputs": [],
   "source": []
  }
 ],
 "metadata": {
  "kernelspec": {
   "display_name": "Python 3 (ipykernel)",
   "language": "python",
   "name": "python3"
  },
  "language_info": {
   "codemirror_mode": {
    "name": "ipython",
    "version": 3
   },
   "file_extension": ".py",
   "mimetype": "text/x-python",
   "name": "python",
   "nbconvert_exporter": "python",
   "pygments_lexer": "ipython3",
   "version": "3.10.9"
  }
 },
 "nbformat": 4,
 "nbformat_minor": 5
}
